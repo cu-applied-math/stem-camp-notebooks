{
  "nbformat": 4,
  "nbformat_minor": 0,
  "metadata": {
    "colab": {
      "name": "PigGame.ipynb",
      "provenance": [],
      "collapsed_sections": [],
      "authorship_tag": "ABX9TyORZIh7V6YiAzjlRHwXFy21",
      "include_colab_link": true
    },
    "kernelspec": {
      "name": "python3",
      "display_name": "Python 3"
    }
  },
  "cells": [
    {
      "cell_type": "markdown",
      "metadata": {
        "id": "view-in-github",
        "colab_type": "text"
      },
      "source": [
        "<a href=\"https://colab.research.google.com/github/cu-applied-math/stem-camp-notebooks/blob/student-colab/notebooks/Python_Intro_Game_Notebooks/PigGame.ipynb\" target=\"_parent\"><img src=\"https://colab.research.google.com/assets/colab-badge.svg\" alt=\"Open In Colab\"/></a>"
      ]
    },
    {
      "cell_type": "markdown",
      "metadata": {
        "id": "IiiEQp92DI8E",
        "colab_type": "text"
      },
      "source": [
        "# Pig Game"
      ]
    },
    {
      "cell_type": "markdown",
      "metadata": {
        "id": "s9x4crTRDBbB",
        "colab_type": "text"
      },
      "source": [
        "This builds on the [Guess-a-number game](https://github.com/cu-applied-math/stem-camp-notebooks/blob/student-colab/notebooks/Python_Intro_Game_Notebooks/Guess%20the%20Number%20Game.ipynb), so we recommend you do that first\n",
        "\n",
        "Activities:\n",
        "\n",
        "To start with, read about the game of PIG at [wikipedia](https://en.wikipedia.org/wiki/Pig_(dice_game). The game has two players take turns playing rounds until one player reaches a score of 100. For now, let's start by examining what happens at a single round. At a round, the player rolls the dice and gets a 1, 2, 3, 4, 5 or 6. If they get a 1, their turn is over; otherwise, they get the score of the dice. Then they can choose to \"hit\" (and roll again), or \"stay\" (and end their turn). If they hit and get a 1, they lose all the points they've earned in that round. If they stay, then they keep all the points, but can't earn any more points as their round is over.\n",
        "\n",
        "Write a python script that lets a user play a single round of the game. Ask the user for input using the input function of Python.\n",
        "Suppose the user has a simple strategy of always hitting until their score (at the current round) goes over some threshold. Program this strategy, and then have this strategy play a round of the games. In fact, you can play thousands of rounds.\n",
        "For that simple strategy, what is the best threshold to choose? You can figure this out via simulation or via math.\n",
        "Make a game framework that pits two strategies against each other\n",
        "Make some strategies and have them compete, or compete with another student's strategies\n",
        "If one strategy beats another strategy in, say, 505 games out of 1000 total games, can you be sure it's a better strategy, or is this due to chance? Can you conclude if you have a really good strategy?"
      ]
    },
    {
      "cell_type": "code",
      "metadata": {
        "id": "NyD-3CvOEJoC",
        "colab_type": "code",
        "colab": {
          "base_uri": "https://localhost:8080/",
          "height": 34
        },
        "outputId": "5635abeb-f945-4bb7-b85e-55f7dc4c3523"
      },
      "source": [
        "# It might be useful to draw random integers from 1 to 6. You can do that with:\n",
        "import random  # only need to run this once\n",
        "random.randint(1,6)"
      ],
      "execution_count": 1,
      "outputs": [
        {
          "output_type": "execute_result",
          "data": {
            "text/plain": [
              "2"
            ]
          },
          "metadata": {
            "tags": []
          },
          "execution_count": 1
        }
      ]
    },
    {
      "cell_type": "code",
      "metadata": {
        "id": "aE5A3H-mESwW",
        "colab_type": "code",
        "colab": {}
      },
      "source": [
        ""
      ],
      "execution_count": null,
      "outputs": []
    }
  ]
}