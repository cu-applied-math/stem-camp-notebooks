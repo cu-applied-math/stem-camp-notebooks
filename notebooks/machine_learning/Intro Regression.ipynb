{
  "nbformat": 4,
  "nbformat_minor": 0,
  "metadata": {
    "kernelspec": {
      "display_name": "Python 3",
      "language": "python",
      "name": "python3"
    },
    "language_info": {
      "codemirror_mode": {
        "name": "ipython",
        "version": 3
      },
      "file_extension": ".py",
      "mimetype": "text/x-python",
      "name": "python",
      "nbconvert_exporter": "python",
      "pygments_lexer": "ipython3",
      "version": "3.6.4"
    },
    "colab": {
      "name": "Intro Regression.ipynb",
      "provenance": [],
      "include_colab_link": true
    }
  },
  "cells": [
    {
      "cell_type": "markdown",
      "metadata": {
        "id": "view-in-github",
        "colab_type": "text"
      },
      "source": [
        "<a href=\"https://colab.research.google.com/github/cu-applied-math/stem-camp-notebooks/blob/student-colab/notebooks/machine_learning/Intro%20Regression.ipynb\" target=\"_parent\"><img src=\"https://colab.research.google.com/assets/colab-badge.svg\" alt=\"Open In Colab\"/></a>"
      ]
    },
    {
      "cell_type": "markdown",
      "metadata": {
        "id": "MxnZy4HRFoq5",
        "colab_type": "text"
      },
      "source": [
        "# Simple Linear Regression"
      ]
    },
    {
      "cell_type": "markdown",
      "metadata": {
        "id": "BCu-szTOFoq6",
        "colab_type": "text"
      },
      "source": [
        "In this module we will learn how to use data to learn a *trend* and use this trend to predict new observations. First we load the base libraries. \n",
        "\n",
        "**Note**: we are missing `bldgstories1.csv` for now, this notebook is currently broken\n",
        "\n",
        "---\n",
        "\n"
      ]
    },
    {
      "cell_type": "code",
      "metadata": {
        "id": "6nUTUPQPFoq6",
        "colab_type": "code",
        "colab": {}
      },
      "source": [
        "import csv\n",
        "import numpy as np\n",
        "import scipy as sp\n",
        "import pandas as pd\n",
        "import sklearn as sk\n",
        "import matplotlib.pyplot as plt\n",
        "from IPython.display import Image\n",
        "\n",
        "print('csv: {}'.format(csv.__version__))\n",
        "print('numpy: {}'.format(np.__version__))\n",
        "print('scipy: {}'.format(sp.__version__))\n",
        "print('pandas: {}'.format(pd.__version__))\n",
        "print('sklearn: {}'.format(sk.__version__))"
      ],
      "execution_count": null,
      "outputs": []
    },
    {
      "cell_type": "markdown",
      "metadata": {
        "id": "zaLcaZEjFoq-",
        "colab_type": "text"
      },
      "source": [
        "The easiest way to learn how regression works is by thinking about an example. Consider an imaginary dataset of buildings built in Denver containing three pieces of information for each building: the year it was built, the number of stories, and the building's total height in feet. \n",
        "\n",
        "It might seem obvious that the more stories a building has, the taller it is in feet, and vice versa. Linear regression exploits this idea. Let's say I'm a professor researching buildings and stories, and I want to use the # of stories in a building to estimate its height in feet. I can easily stand outside a building and see how many stories it has, but my tape measurer won't reach many of the roofs in Denver. I do know that the two-story building I live in is right around 20 feet high. My idea is to take the number of stories, and multiply by 10.something, but I'm not sure this will work for other buildings (commercial and industrial buildings for example).\n",
        "\n",
        "I lament to my friends, and by a stroke of incredible luck one of my pals happens to have an old dataset lying around that contains the information I need! His parchment has records of 60 random buildings in Denver built from 1907 to 1992. Inspecting the first few entries of the parchment:\n",
        "\n",
        "| Year      | Height (feet) | Number of stories     |\n",
        "| :---        |    :----:   |          ---: |\n",
        "| 1974      | 770       | 54   |\n",
        "| 1948   | 677        | 47      |\n",
        "| 1985   | 428        | 28      |\n",
        "\n",
        " \n",
        "It seems I may need to multiply by more than 10. Taking the first observations and dividing the height by the number of stories for the first three entries gives about 14.3, 14.4, and 15.3 feet per story, respectively. How can I combine all 60 observations to get a good answer? One could naively just take the average of all of these numbers, but in higher dimensions this doesn't work. To help, we have a statistical technique called linear regression. I can use regression to find a good number to multiply the number of stories by (call it $\\beta$), and I hope this will help me get an accurate prediction for the height. I know this height will not be exactly right, so there is some error in each prediction. If I write this all out, we have  \n",
        "\n",
        "$$ \\operatorname{(height)} = \\operatorname{(\\# of stories)} \\cdot \\beta + \\epsilon$$\n",
        "\n",
        "$$ y = X \\beta + \\epsilon $$\n",
        "\n",
        "From algebra, we know this is a linear equation, where $\\beta$ is the slope of the line. Linear regression actually seeks to minimize the errors $\\epsilon$ (the mean squared error). The plot in the link shows the linear regression line, the data it was estimated from, and the errors or deviations $\\epsilon$ for each data point."
      ]
    },
    {
      "cell_type": "code",
      "metadata": {
        "id": "H8IN4wJIFoq_",
        "colab_type": "code",
        "colab": {},
        "outputId": "331b827c-5553-4f94-fe08-38e41d663d04"
      },
      "source": [
        "Image(url='http://www.radford.edu/~rsheehy/Gen_flash/Tutorials/Linear_Regression/reg-tut_files/linreg3.gif')"
      ],
      "execution_count": null,
      "outputs": [
        {
          "output_type": "execute_result",
          "data": {
            "text/html": [
              "<img src=\"http://www.radford.edu/~rsheehy/Gen_flash/Tutorials/Linear_Regression/reg-tut_files/linreg3.gif\"/>"
            ],
            "text/plain": [
              "<IPython.core.display.Image object>"
            ]
          },
          "metadata": {
            "tags": []
          },
          "execution_count": 2
        }
      ]
    },
    {
      "cell_type": "markdown",
      "metadata": {
        "id": "M7Na1jyYForB",
        "colab_type": "text"
      },
      "source": [
        "But we can learn about the math later. Let's think about other interesting questions. Which would be better for predicting: would # of stories help predict height in feet better than height would predict # of stories? \n",
        "\n",
        "Say we decide to predict height using the # of stories. Since we are using one piece of information to predict another, this is called *simple linear regression.* \n",
        "\n",
        "Would incorporating the year the building was built help me make a better prediction? This would be an example of *multiple regression* since we would use two pieces of (or more) information to predict.\n",
        "\n",
        "Okay now its time to go back to python. We will import the data file, get an initial look at the data using pandas functions, and then fit some linear regression models using scikit-learn."
      ]
    },
    {
      "cell_type": "markdown",
      "metadata": {
        "id": "7_az_sUsForC",
        "colab_type": "text"
      },
      "source": [
        "The dataset is in a .csv file, which we need to import. You may have already seen this, but we can use the python standard library function csv.reader, numpy.loadtxt, or pandas.read_csv to import the data. We show all three just as a reminder, but we keep the data as a pandas DataFrame object."
      ]
    },
    {
      "cell_type": "code",
      "metadata": {
        "id": "9R-7sJJGForD",
        "colab_type": "code",
        "colab": {}
      },
      "source": [
        "#filename = '/Users/jessicagronski/Downloads/bldgstories1.csv'\n",
        "filename = 'https://github.com/cu-applied-math/stem-camp-notebooks/raw/student-colab/notebooks/machine_learning/data/bldgstories2.csv'\n",
        "\n",
        "# Method 1\n",
        "#raw_data = open(filename, 'rt')\n",
        "#reader = csv.reader(raw_data, delimiter=',', quoting=csv.QUOTE_NONE)\n",
        "#x = list(reader)\n",
        "#data = np.array(x).astype('float')\n",
        "\n",
        "# Method 2: Load CSV with numpy\n",
        "#import numpy\n",
        "#raw_data = open(filename, 'rb')\n",
        "#data = numpy.loadtxt(raw_data, delimiter=\",\")\n",
        "\n",
        "# Method 3: Load CSV using Pandas\n",
        "import pandas\n",
        "colnames = ['year', 'height', 'stories']\n",
        "data = pandas.read_csv(filename, names=colnames)\n",
        "data = pandas.DataFrame(data, columns=colnames)"
      ],
      "execution_count": 4,
      "outputs": []
    },
    {
      "cell_type": "markdown",
      "metadata": {
        "id": "BAFjC8-JForF",
        "colab_type": "text"
      },
      "source": [
        "# Know Your Data\n",
        "\n",
        "Now we inspect the DataFrame using some numpy functions you have already learned such as shape, head, dtypes, corr, and skew functions. Find more methods associated with DataFrame objects!"
      ]
    },
    {
      "cell_type": "code",
      "metadata": {
        "id": "vIuriCDjForG",
        "colab_type": "code",
        "colab": {
          "base_uri": "https://localhost:8080/",
          "height": 272
        },
        "outputId": "2ce2a07d-5ad0-47e7-fa63-5dddb5fafd1d"
      },
      "source": [
        "print('Dimensions:')\n",
        "print(data.shape)\n",
        "print('Six observations:')\n",
        "print(data.head(6))\n",
        "print('Correlation matrix:')\n",
        "correlations = data.corr(method='pearson')\n",
        "print(correlations)"
      ],
      "execution_count": 5,
      "outputs": [
        {
          "output_type": "stream",
          "text": [
            "Dimensions:\n",
            "(60, 3)\n",
            "Six observations:\n",
            "   year  height  stories\n",
            "0  1959     774       80\n",
            "1  1965     395       40\n",
            "2  1917     584       60\n",
            "3  1965     747       76\n",
            "4  1948     895       92\n",
            "5  1915     948       97\n",
            "Correlation matrix:\n",
            "             year    height   stories\n",
            "year     1.000000 -0.171830 -0.172103\n",
            "height  -0.171830  1.000000  0.999745\n",
            "stories -0.172103  0.999745  1.000000\n"
          ],
          "name": "stdout"
        }
      ]
    },
    {
      "cell_type": "markdown",
      "metadata": {
        "id": "tVNIkygZForI",
        "colab_type": "text"
      },
      "source": [
        "Remember we can acces the five number summary + some using the describe function."
      ]
    },
    {
      "cell_type": "code",
      "metadata": {
        "id": "ZlKdgSDMForI",
        "colab_type": "code",
        "colab": {
          "base_uri": "https://localhost:8080/",
          "height": 170
        },
        "outputId": "3d13bf8a-10db-4866-a6b0-7dcc0e2642d9"
      },
      "source": [
        "pandas.set_option('precision', 3)\n",
        "description = data.describe()\n",
        "print(description)"
      ],
      "execution_count": 6,
      "outputs": [
        {
          "output_type": "stream",
          "text": [
            "           year   height  stories\n",
            "count    60.000   60.000   60.000\n",
            "mean   1942.783  573.850   59.467\n",
            "std      18.769  227.723   22.908\n",
            "min    1911.000  187.000   20.000\n",
            "25%    1926.000  376.750   40.000\n",
            "50%    1948.500  589.000   61.000\n",
            "75%    1958.000  780.250   80.250\n",
            "max    1969.000  979.000  100.000\n"
          ],
          "name": "stdout"
        }
      ]
    },
    {
      "cell_type": "markdown",
      "metadata": {
        "id": "OmhZJ_8MForL",
        "colab_type": "text"
      },
      "source": [
        "# Regression Model\n",
        "\n",
        "We fit a linear regression model below. We try to use height to predict the number of stories in a building."
      ]
    },
    {
      "cell_type": "code",
      "metadata": {
        "id": "MaX7JYTLForL",
        "colab_type": "code",
        "colab": {
          "base_uri": "https://localhost:8080/",
          "height": 34
        },
        "outputId": "3664068d-f056-47a3-ecd1-44cc544deb45"
      },
      "source": [
        "from sklearn import linear_model\n",
        "obj = linear_model.LinearRegression()\n",
        "obj.fit(np.array(data.height.values.reshape(-1,1)), data.stories )#need this values.reshape(-1,1) to avoid deprecation warnings\n",
        "print( obj.coef_, obj.intercept_ )"
      ],
      "execution_count": 7,
      "outputs": [
        {
          "output_type": "stream",
          "text": [
            "[0.10057198] 1.7534362571798852\n"
          ],
          "name": "stdout"
        }
      ]
    },
    {
      "cell_type": "markdown",
      "metadata": {
        "id": "5nDZVFmdForO",
        "colab_type": "text"
      },
      "source": [
        "We show the data and the regression lines."
      ]
    },
    {
      "cell_type": "code",
      "metadata": {
        "id": "B64MhU4UForO",
        "colab_type": "code",
        "colab": {
          "base_uri": "https://localhost:8080/",
          "height": 265
        },
        "outputId": "d1412236-873b-4394-8db2-8fd923d7cacf"
      },
      "source": [
        "x_min, x_max = data.height.values.min() - .5, data.height.values.max() + .5 # for plotting\n",
        "x_rng = np.linspace(x_min,x_max,200)\n",
        "\n",
        "plt.plot(x_rng, x_rng * obj.coef_ + obj.intercept_, 'k')\n",
        "plt.plot(data.height.values, data.stories.values,'ro', alpha = 0.5)\n",
        "plt.show()"
      ],
      "execution_count": 8,
      "outputs": [
        {
          "output_type": "display_data",
          "data": {
            "image/png": "[encoded data removed]",
            "text/plain": [
              "<Figure size 432x288 with 1 Axes>"
            ]
          },
          "metadata": {
            "tags": [],
            "needs_background": "light"
          }
        }
      ]
    },
    {
      "cell_type": "markdown",
      "metadata": {
        "id": "UhN9IRL7ForQ",
        "colab_type": "text"
      },
      "source": [
        "Check residuals for normality."
      ]
    },
    {
      "cell_type": "markdown",
      "metadata": {
        "id": "O_G5OyTdForR",
        "colab_type": "text"
      },
      "source": [
        "Now we will do multiple linear regression. This means we will use more than one predictor when we fit a model and predict our response variable # of stories. We will use both height and the year it was built. We can look at the mean squared error for both models and see which one predicts one better."
      ]
    },
    {
      "cell_type": "code",
      "metadata": {
        "id": "AfRm5EduForR",
        "colab_type": "code",
        "colab": {
          "base_uri": "https://localhost:8080/",
          "height": 34
        },
        "outputId": "d0112159-5f58-4b85-e1f7-f976fbfd89f4"
      },
      "source": [
        "obj2 = linear_model.LinearRegression()\n",
        "X = np.array( (data.height.values, data.year.values))\n",
        "obj2.fit(X.transpose() , data.stories)\n",
        "print(obj2.coef_, obj2.intercept_)"
      ],
      "execution_count": 9,
      "outputs": [
        {
          "output_type": "stream",
          "text": [
            "[ 0.10056632 -0.00039929] 2.532418461466861\n"
          ],
          "name": "stdout"
        }
      ]
    },
    {
      "cell_type": "code",
      "metadata": {
        "id": "E-_diLqJForT",
        "colab_type": "code",
        "colab": {
          "base_uri": "https://localhost:8080/",
          "height": 616
        },
        "outputId": "5ec88e74-1c60-4c55-bb4a-5cf88da0e3c8"
      },
      "source": [
        "from mpl_toolkits.mplot3d import Axes3D\n",
        "\n",
        "ax = plt.axes(projection = '3d')\n",
        "#ax.plot(data.height.values, data.year.values , data.stories.values, 'bo')\n",
        "\n",
        "ax.plot_surface(data.height.values, data.year.values, (np.dot(X.transpose(),obj2.coef_) \\\n",
        "                + obj2.intercept_), color='b')\n",
        "\n",
        "ax.show()\n",
        "#plt.close()\n",
        "\n",
        "##### doesn't work - have the students try to solve it."
      ],
      "execution_count": 10,
      "outputs": [
        {
          "output_type": "error",
          "ename": "ValueError",
          "evalue": "ignored",
          "traceback": [
            "\u001b[0;31m---------------------------------------------------------------------------\u001b[0m",
            "\u001b[0;31mValueError\u001b[0m                                Traceback (most recent call last)",
            "\u001b[0;32m<ipython-input-10-311108454282>\u001b[0m in \u001b[0;36m<module>\u001b[0;34m()\u001b[0m\n\u001b[1;32m      4\u001b[0m \u001b[0;31m#ax.plot(data.height.values, data.year.values , data.stories.values, 'bo')\u001b[0m\u001b[0;34m\u001b[0m\u001b[0;34m\u001b[0m\u001b[0;34m\u001b[0m\u001b[0m\n\u001b[1;32m      5\u001b[0m \u001b[0;34m\u001b[0m\u001b[0m\n\u001b[0;32m----> 6\u001b[0;31m \u001b[0max\u001b[0m\u001b[0;34m.\u001b[0m\u001b[0mplot_surface\u001b[0m\u001b[0;34m(\u001b[0m\u001b[0mdata\u001b[0m\u001b[0;34m.\u001b[0m\u001b[0mheight\u001b[0m\u001b[0;34m.\u001b[0m\u001b[0mvalues\u001b[0m\u001b[0;34m,\u001b[0m \u001b[0mdata\u001b[0m\u001b[0;34m.\u001b[0m\u001b[0myear\u001b[0m\u001b[0;34m.\u001b[0m\u001b[0mvalues\u001b[0m\u001b[0;34m,\u001b[0m \u001b[0;34m(\u001b[0m\u001b[0mnp\u001b[0m\u001b[0;34m.\u001b[0m\u001b[0mdot\u001b[0m\u001b[0;34m(\u001b[0m\u001b[0mX\u001b[0m\u001b[0;34m.\u001b[0m\u001b[0mtranspose\u001b[0m\u001b[0;34m(\u001b[0m\u001b[0;34m)\u001b[0m\u001b[0;34m,\u001b[0m\u001b[0mobj2\u001b[0m\u001b[0;34m.\u001b[0m\u001b[0mcoef_\u001b[0m\u001b[0;34m)\u001b[0m                 \u001b[0;34m+\u001b[0m \u001b[0mobj2\u001b[0m\u001b[0;34m.\u001b[0m\u001b[0mintercept_\u001b[0m\u001b[0;34m)\u001b[0m\u001b[0;34m,\u001b[0m \u001b[0mcolor\u001b[0m\u001b[0;34m=\u001b[0m\u001b[0;34m'b'\u001b[0m\u001b[0;34m)\u001b[0m\u001b[0;34m\u001b[0m\u001b[0;34m\u001b[0m\u001b[0m\n\u001b[0m\u001b[1;32m      7\u001b[0m \u001b[0;34m\u001b[0m\u001b[0m\n\u001b[1;32m      8\u001b[0m \u001b[0max\u001b[0m\u001b[0;34m.\u001b[0m\u001b[0mshow\u001b[0m\u001b[0;34m(\u001b[0m\u001b[0;34m)\u001b[0m\u001b[0;34m\u001b[0m\u001b[0;34m\u001b[0m\u001b[0m\n",
            "\u001b[0;32m/usr/local/lib/python3.6/dist-packages/mpl_toolkits/mplot3d/axes3d.py\u001b[0m in \u001b[0;36mplot_surface\u001b[0;34m(self, X, Y, Z, norm, vmin, vmax, lightsource, *args, **kwargs)\u001b[0m\n\u001b[1;32m   1495\u001b[0m \u001b[0;34m\u001b[0m\u001b[0m\n\u001b[1;32m   1496\u001b[0m         \u001b[0;32mif\u001b[0m \u001b[0mZ\u001b[0m\u001b[0;34m.\u001b[0m\u001b[0mndim\u001b[0m \u001b[0;34m!=\u001b[0m \u001b[0;36m2\u001b[0m\u001b[0;34m:\u001b[0m\u001b[0;34m\u001b[0m\u001b[0;34m\u001b[0m\u001b[0m\n\u001b[0;32m-> 1497\u001b[0;31m             \u001b[0;32mraise\u001b[0m \u001b[0mValueError\u001b[0m\u001b[0;34m(\u001b[0m\u001b[0;34m\"Argument Z must be 2-dimensional.\"\u001b[0m\u001b[0;34m)\u001b[0m\u001b[0;34m\u001b[0m\u001b[0;34m\u001b[0m\u001b[0m\n\u001b[0m\u001b[1;32m   1498\u001b[0m         \u001b[0;32mif\u001b[0m \u001b[0mnp\u001b[0m\u001b[0;34m.\u001b[0m\u001b[0many\u001b[0m\u001b[0;34m(\u001b[0m\u001b[0mnp\u001b[0m\u001b[0;34m.\u001b[0m\u001b[0misnan\u001b[0m\u001b[0;34m(\u001b[0m\u001b[0mZ\u001b[0m\u001b[0;34m)\u001b[0m\u001b[0;34m)\u001b[0m\u001b[0;34m:\u001b[0m\u001b[0;34m\u001b[0m\u001b[0;34m\u001b[0m\u001b[0m\n\u001b[1;32m   1499\u001b[0m             cbook._warn_external(\n",
            "\u001b[0;31mValueError\u001b[0m: Argument Z must be 2-dimensional."
          ]
        },
        {
          "output_type": "display_data",
          "data": {
            "image/png": "[encoded data removed]",
            "text/plain": [
              "<Figure size 432x288 with 1 Axes>"
            ]
          },
          "metadata": {
            "tags": [],
            "needs_background": "light"
          }
        }
      ]
    },
    {
      "cell_type": "code",
      "metadata": {
        "id": "UO6HGp9JForW",
        "colab_type": "code",
        "colab": {},
        "outputId": "2b371312-0ca8-4a91-ee71-dc81e97e6c6c"
      },
      "source": [
        "print(np.dot(X.transpose(),obj2.coef_).shape)"
      ],
      "execution_count": null,
      "outputs": [
        {
          "output_type": "stream",
          "text": [
            "(60,)\n"
          ],
          "name": "stdout"
        }
      ]
    },
    {
      "cell_type": "code",
      "metadata": {
        "id": "K9eixqHAForY",
        "colab_type": "code",
        "colab": {}
      },
      "source": [
        "data.height.values.shape"
      ],
      "execution_count": null,
      "outputs": []
    }
  ]
}