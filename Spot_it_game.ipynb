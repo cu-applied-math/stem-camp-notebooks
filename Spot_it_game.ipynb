{
  "nbformat": 4,
  "nbformat_minor": 0,
  "metadata": {
    "colab": {
      "name": "Spot  it format 2",
      "provenance": [],
      "authorship_tag": "ABX9TyMBTo20QxWHYR/1c2mgp2sm",
      "include_colab_link": true
    },
    "kernelspec": {
      "name": "python3",
      "display_name": "Python 3"
    }
  },
  "cells": [
    {
      "cell_type": "markdown",
      "metadata": {
        "id": "view-in-github",
        "colab_type": "text"
      },
      "source": [
        "<a href=\"https://colab.research.google.com/github/cu-applied-math/stem-camp-notebooks/blob/master/Spot_it_game.ipynb\" target=\"_parent\"><img src=\"https://colab.research.google.com/assets/colab-badge.svg\" alt=\"Open In Colab\"/></a>"
      ]
    },
    {
      "cell_type": "markdown",
      "metadata": {
        "id": "SCUtRF8zUUhP",
        "colab_type": "text"
      },
      "source": [
        "This code will let you make a *custom* \"spot-it\" like game. Between every card pair, there will be 1 matching word. **Run the below code to get started on your game!**"
      ]
    },
    {
      "cell_type": "code",
      "metadata": {
        "id": "taoxuOBlwyga",
        "colab_type": "code",
        "colab": {
          "base_uri": "https://localhost:8080/",
          "height": 380
        },
        "outputId": "c1a0384b-8853-498c-a2c6-4ab945d4ee4f"
      },
      "source": [
        "from IPython.display import display, Markdown, Latex\n",
        "\n",
        "#this code gives a welcome and asks for the word set\n",
        "display(Markdown(\"Let's make your *custom* spot-it game!\"))\n",
        "name = input(display(Markdown(\"What is your name?\")))\n",
        "word_input = input(display(Markdown(\"Welcome, \" + name + \". The next step is to enter your words.\" \\\n",
        "                                    + \"<br /> Please input **20** words to make your spot-it game:  \")))\n",
        "\n",
        "#this code ensures that there are 20 words\n",
        "while word_input.count(\" \") != 19:\n",
        "  problem_amount = word_input.count(\" \")\n",
        "  if problem_amount < 19:\n",
        "    word_need_int = 19 - problem_amount\n",
        "    word_need = str(word_need_int)\n",
        "    word_additions = input(display(Markdown(\"Please input \" + word_need + \" more words:  \")))\n",
        "    word_input += \" \"\n",
        "    word_input += word_additions\n",
        "  else:\n",
        "    word_input = input(display(Markdown(\"That was too many words. Please input **exactly 20** words:  \")))\n",
        "   \n",
        "\n",
        "#this code puts the word list together\n",
        "word1, word2, word3, word4, word5, word6, word7, word8, word9, word10, word11, word12,\\\n",
        " word13, word14, word15, word16, word17, word18, word19, word20 = map(str, word_input.split())\n",
        "\n",
        "word_list_rough  = []\n",
        "word_list_rough.extend((word1, word2, word3, word4, word5, word6, word7, word8, word9, word10, word11, word12, \\\n",
        "                  word13, word14, word15, word16, word17, word18, word19, word20))\n",
        "\n",
        "#This code gets rid of any non-alphabet characters like commas\n",
        "word_list = []\n",
        "for word in word_list_rough:\n",
        "  if word.isalpha() == True:\n",
        "    word_list.append(word)\n",
        "  else:\n",
        "    new_word = word.replace(\",\", \"\")\n",
        "    word_list.append(new_word)\n",
        "\n",
        "import random\n",
        "\n",
        "#this code creates the cards using the words\n",
        "card_set = []\n",
        "def card_maker(words):\n",
        "  card1 = [words[0], words[1], words[2], words[3], words[4]]\n",
        "  card_set.append(card1)\n",
        "  card2 = [words[0], words[5], words[6], words[7], words[8]]\n",
        "  card_set.append(card2)\n",
        "  card3 = [words[1], words[5], words[9], words[10], words[11]]\n",
        "  card_set.append(card3)\n",
        "  card4 = [words[2], words[6], words[9], words[12], words[13]]\n",
        "  card_set.append(card4)\n",
        "  card5 = [words[3], words[7], words[10], words[12], words[14]]\n",
        "  card_set.append(card5)\n",
        "  card6 = [words[4], words[8], words[11], words[13], words[14]]\n",
        "  card_set.append(card6)\n",
        "  card7 = [words[2], words[5], words[14], words[15], words[16]]\n",
        "  card_set.append(card7)\n",
        "  card8 = [words[3], words[6], words[11], words[15], words[17]]\n",
        "  card_set.append(card8)\n",
        "  card9 = [words[2], words[8], words[10], words[17], words[18]]\n",
        "  card_set.append(card9)\n",
        "  card10 = [words[4], words[7], words[9], words[16], words[18]]\n",
        "  card_set.append(card10)\n",
        "  card11 = [words[4], words[5], words[12], words[17], words[19]]\n",
        "  card_set.append(card11)\n",
        "  card12 = [words[0], words[11], words[12], words[15], words[18]]\n",
        "  card_set.append(card12)\n",
        "  card13 = [words[1], words[6], words[14], words[18], words[19]]\n",
        "  card_set.append(card13)\n",
        "  card14 = [words[1], words[7], words[13], words[15], words[17]]\n",
        "  card_set.append(card14)\n",
        "  return card_set\n",
        "\n",
        "cards_test = card_maker(word_list)\n",
        "\n",
        "#this code defines the two card generation process\n",
        "def game_play (collection):\n",
        "  two_cards = random.sample(collection, 2)\n",
        "  return two_cards\n",
        "\n",
        "\n",
        "#this function allows for game play or creates the pdf\n",
        "def game_maker(style):\n",
        "  if style == \"online\":\n",
        "    display(Markdown(\"----\"))\n",
        "    display(Markdown(\"#\" + name +\"'s Spot-it Game\"))\n",
        "    display(Markdown(\"Every card pair has exactly **1 match**, can you find it?\"))\n",
        "\n",
        "    keep_playing = \"yes\"\n",
        "    while keep_playing.lower() == \"yes\":\n",
        "      rounds_played = 0\n",
        "      while rounds_played < 5:\n",
        "        two_cards = game_play (cards_test)\n",
        "        first_card = two_cards[0]\n",
        "        random.shuffle(first_card)\n",
        "        second_card = two_cards[1]\n",
        "        random.shuffle(second_card)\n",
        "        display(Markdown(first_card[0] + \"&nbsp; &nbsp;\" + first_card[1]  + \\\n",
        "                     \"&nbsp; &nbsp; &nbsp; &nbsp; &nbsp; &nbsp; &nbsp; &nbsp; \\\n",
        "                     &nbsp; &nbsp; &nbsp;  &nbsp; &nbsp; &nbsp; &nbsp; \" + \\\n",
        "                     second_card[0] + \"&nbsp; &nbsp; \" + second_card[1]))\n",
        "        display(Markdown(first_card[2] + \"&nbsp; &nbsp; \" + first_card[3] + \\\n",
        "                     \"&nbsp; &nbsp; &nbsp; &nbsp; &nbsp; &nbsp; &nbsp; &nbsp;  &nbsp; &nbsp; &nbsp; \\\n",
        "                    &nbsp; &nbsp; \" +  \\\n",
        "                    second_card[2] + \"&nbsp; &nbsp;\" +  second_card[3] ))\n",
        "        display(Markdown(\"   &nbsp; &nbsp;  &nbsp; &nbsp;\" +  first_card[4] + \\\n",
        "                    \"&nbsp; &nbsp; &nbsp; &nbsp; &nbsp; &nbsp; &nbsp; &nbsp; \\\n",
        "                    &nbsp; &nbsp; &nbsp; &nbsp; &nbsp; &nbsp; &nbsp; &nbsp;\\\n",
        "                    &nbsp;  &nbsp;  \" + second_card[4]))\n",
        "        next = input(\"\")\n",
        "        if next == \"stop\":\n",
        "          break\n",
        "        else:\n",
        "          rounds_played += 1\n",
        "      keep_playing  = input(display(Markdown(\"Would you like to keep playing?\")))\n",
        "      if keep_playing.lower() == \"sure\":\n",
        "        keep_playing = \"yes\"\n",
        "      elif keep_playing.lower() == \"yeah\":\n",
        "        keep_playing = \"yes\"\n",
        "      elif keep_playing.lower() == \"okay\":\n",
        "        keep_playing = \"yes\"\n",
        "  else:\n",
        "    # this code runs to make the pdf file\n",
        "    display(Markdown(\"A pdf file will be dowloaded to your computer with all of your cards!\"))\n",
        "    my_file = open(\"output.md\", \"w\")\n",
        "    my_file.write(\"This file has all your cards. You can print it out to play!\" + \"\\n\"+ \"\\n\")\n",
        "    my_file.write(\"#\" + name +\"'s Spot-it Game\" + \"\\n\")\n",
        "    my_file.write(\"Every card pair has exactly **1 match**, can you find it?\" + \"\\n\" + \"\\n\")\n",
        "\n",
        "    for card in cards_test:\n",
        "      my_file.write(\"-----\" + \"\\n\")\n",
        "      my_file.write(card[0] + \"&nbsp; &nbsp;\" + card[1] + \"\\n\")\n",
        "      my_file.write(card[2] + \"&nbsp; &nbsp;\" + card[3] + \"\\n\")\n",
        "      my_file.write(\"&nbsp; &nbsp; &nbsp; &nbsp;\" + card[4] + \"\\n\")\n",
        "      my_file.write(\"-----\" + \"\\n\")\n",
        "   \n",
        "    my_file.close()\n",
        "\n",
        "    !apt-get install texlive texlive-xetex texlive-latex-extra pandoc\n",
        "    !pandoc output.md --latex-engine=xelatex -o output.pdf\n",
        "\n",
        "    from google.colab import files\n",
        "    files.download(\"output.pdf\")\n",
        "\n",
        "##this code determines whether the player wants to play online or get a pdf\n",
        "game_format = input(display(Markdown(\"There are two ways to play! Would you like to **play online**\\\n",
        " or get a **printable version** of your cards?\")))\n",
        "game_format = game_format.lower()\n",
        "while len(game_format) != 0:\n",
        "  if game_format.count(\"print\") != 0:\n",
        "    format_result = \"print\"\n",
        "    break\n",
        "  elif game_format.count(\"online\") != 0:\n",
        "    format_result = \"online\"\n",
        "    break\n",
        "  else:\n",
        "    game_format = input(display(Markdown(\"Please select **online** or **printable**\"))).lower()\n",
        "\n",
        "#this runs the approriate code for the mode they want to play\n",
        "game_maker(format_result)\n",
        "\n"
      ],
      "execution_count": 24,
      "outputs": [
        {
          "output_type": "display_data",
          "data": {
            "text/markdown": "Let's make your *custom* spot-it game!",
            "text/plain": [
              "<IPython.core.display.Markdown object>"
            ]
          },
          "metadata": {
            "tags": []
          }
        },
        {
          "output_type": "display_data",
          "data": {
            "text/markdown": "What is your name?",
            "text/plain": [
              "<IPython.core.display.Markdown object>"
            ]
          },
          "metadata": {
            "tags": []
          }
        },
        {
          "output_type": "stream",
          "text": [
            "Ava\n"
          ],
          "name": "stdout"
        },
        {
          "output_type": "display_data",
          "data": {
            "text/markdown": "Welcome, Ava. The next step is to enter your words.<br /> Please input **20** words to make your spot-it game:  ",
            "text/plain": [
              "<IPython.core.display.Markdown object>"
            ]
          },
          "metadata": {
            "tags": []
          }
        },
        {
          "output_type": "stream",
          "text": [
            "shark, dolphin, pufferfish, seahorse, squid, starfish, fish, turtle, crab, lobster, clam, jellyfish, coral, anenome, stingray, whale, seagull, mermaid, seaweed, otter\n"
          ],
          "name": "stdout"
        },
        {
          "output_type": "display_data",
          "data": {
            "text/markdown": "There are two ways to play! Would you like to **play online** or get a **printable version** of your cards?",
            "text/plain": [
              "<IPython.core.display.Markdown object>"
            ]
          },
          "metadata": {
            "tags": []
          }
        },
        {
          "output_type": "stream",
          "text": [
            "print\n"
          ],
          "name": "stdout"
        },
        {
          "output_type": "display_data",
          "data": {
            "text/markdown": "A pdf file will be dowloaded to your computer with all of your cards!",
            "text/plain": [
              "<IPython.core.display.Markdown object>"
            ]
          },
          "metadata": {
            "tags": []
          }
        },
        {
          "output_type": "stream",
          "text": [
            "Reading package lists... Done\n",
            "Building dependency tree       \n",
            "Reading state information... Done\n",
            "pandoc is already the newest version (1.19.2.4~dfsg-1build4).\n",
            "texlive is already the newest version (2017.20180305-1).\n",
            "texlive-latex-extra is already the newest version (2017.20180305-2).\n",
            "texlive-xetex is already the newest version (2017.20180305-1).\n",
            "0 upgraded, 0 newly installed, 0 to remove and 11 not upgraded.\n"
          ],
          "name": "stdout"
        },
        {
          "output_type": "display_data",
          "data": {
            "application/javascript": [
              "\n",
              "    async function download(id, filename, size) {\n",
              "      if (!google.colab.kernel.accessAllowed) {\n",
              "        return;\n",
              "      }\n",
              "      const div = document.createElement('div');\n",
              "      const label = document.createElement('label');\n",
              "      label.textContent = `Downloading \"${filename}\": `;\n",
              "      div.appendChild(label);\n",
              "      const progress = document.createElement('progress');\n",
              "      progress.max = size;\n",
              "      div.appendChild(progress);\n",
              "      document.body.appendChild(div);\n",
              "\n",
              "      const buffers = [];\n",
              "      let downloaded = 0;\n",
              "\n",
              "      const channel = await google.colab.kernel.comms.open(id);\n",
              "      // Send a message to notify the kernel that we're ready.\n",
              "      channel.send({})\n",
              "\n",
              "      for await (const message of channel.messages) {\n",
              "        // Send a message to notify the kernel that we're ready.\n",
              "        channel.send({})\n",
              "        if (message.buffers) {\n",
              "          for (const buffer of message.buffers) {\n",
              "            buffers.push(buffer);\n",
              "            downloaded += buffer.byteLength;\n",
              "            progress.value = downloaded;\n",
              "          }\n",
              "        }\n",
              "      }\n",
              "      const blob = new Blob(buffers, {type: 'application/binary'});\n",
              "      const a = document.createElement('a');\n",
              "      a.href = window.URL.createObjectURL(blob);\n",
              "      a.download = filename;\n",
              "      div.appendChild(a);\n",
              "      a.click();\n",
              "      div.remove();\n",
              "    }\n",
              "  "
            ],
            "text/plain": [
              "<IPython.core.display.Javascript object>"
            ]
          },
          "metadata": {
            "tags": []
          }
        },
        {
          "output_type": "display_data",
          "data": {
            "application/javascript": [
              "download(\"download_9c73c4f6-4d76-4dc6-84c0-5a86543cf9fa\", \"output.pdf\", 11856)"
            ],
            "text/plain": [
              "<IPython.core.display.Javascript object>"
            ]
          },
          "metadata": {
            "tags": []
          }
        }
      ]
    }
  ]
}