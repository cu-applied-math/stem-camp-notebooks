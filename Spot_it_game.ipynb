{
  "nbformat": 4,
  "nbformat_minor": 0,
  "metadata": {
    "colab": {
      "name": "Spot  it format 2",
      "provenance": [],
      "toc_visible": true,
      "authorship_tag": "ABX9TyPaGzNOuXKe+lobIogM9EoD",
      "include_colab_link": true
    },
    "kernelspec": {
      "name": "python3",
      "display_name": "Python 3"
    }
  },
  "cells": [
    {
      "cell_type": "markdown",
      "metadata": {
        "id": "view-in-github",
        "colab_type": "text"
      },
      "source": [
        "<a href=\"https://colab.research.google.com/github/cu-applied-math/stem-camp-notebooks/blob/master/Spot_it_game.ipynb\" target=\"_parent\"><img src=\"https://colab.research.google.com/assets/colab-badge.svg\" alt=\"Open In Colab\"/></a>"
      ]
    },
    {
      "cell_type": "code",
      "metadata": {
        "id": "taoxuOBlwyga",
        "colab_type": "code",
        "colab": {
          "base_uri": "https://localhost:8080/",
          "height": 1000
        },
        "outputId": "6cface96-2364-42eb-acdf-7661eec0325e"
      },
      "source": [
        "from IPython.display import display, Markdown, Latex\n",
        "\n",
        "#this code gives a welcome and asks for the word set\n",
        "display(Markdown(\"Let's make your *custom* spot-it game!\"))\n",
        "name = input(display(Markdown(\"What is your name?\")))\n",
        "word_input = input(display(Markdown(\"Welcome, \" + name + \". The next step is to enter your words.\" \\\n",
        "                                    + \"<br /> Please input **20** words to make your spot-it game:  \")))\n",
        "\n",
        "#this code ensures that there are 20 words\n",
        "while word_input.count(\" \") != 19:\n",
        "  problem_amount = word_input.count(\" \")\n",
        "  if problem_amount < 19:\n",
        "    word_need_int = 19 - problem_amount\n",
        "    word_need = str(word_need_int)\n",
        "    word_additions = input(display(Markdown(\"Please input \" + word_need + \" more words:  \")))\n",
        "    word_input += \" \"\n",
        "    word_input += word_additions\n",
        "  else:\n",
        "    word_input = input(display(Markdown(\"That was too many words. Please input **exactly 20** words:  \")))\n",
        "   \n",
        "\n",
        "#this code puts the word list together\n",
        "word1, word2, word3, word4, word5, word6, word7, word8, word9, word10, word11, word12,\\\n",
        " word13, word14, word15, word16, word17, word18, word19, word20 = map(str, word_input.split())\n",
        "\n",
        "word_list_rough  = []\n",
        "word_list_rough.extend((word1, word2, word3, word4, word5, word6, word7, word8, word9, word10, word11, word12, \\\n",
        "                  word13, word14, word15, word16, word17, word18, word19, word20))\n",
        "\n",
        "#This code gets rid of any non-alphabet characters like commas\n",
        "word_list = []\n",
        "for word in word_list_rough:\n",
        "  if word.isalpha() == True:\n",
        "    word_list.append(word)\n",
        "  else:\n",
        "    new_word = word.replace(\",\", \"\")\n",
        "    word_list.append(new_word)\n",
        "\n",
        "import random\n",
        "\n",
        "#this code creates the cards using the words\n",
        "card_set = []\n",
        "def card_maker(words):\n",
        "  card1 = [words[0], words[1], words[2], words[3], words[4]]\n",
        "  card_set.append(card1)\n",
        "  card2 = [words[0], words[5], words[6], words[7], words[8]]\n",
        "  card_set.append(card2)\n",
        "  card3 = [words[1], words[5], words[9], words[10], words[11]]\n",
        "  card_set.append(card3)\n",
        "  card4 = [words[2], words[6], words[9], words[12], words[13]]\n",
        "  card_set.append(card4)\n",
        "  card5 = [words[3], words[7], words[10], words[12], words[14]]\n",
        "  card_set.append(card5)\n",
        "  card6 = [words[4], words[8], words[11], words[13], words[14]]\n",
        "  card_set.append(card6)\n",
        "  card7 = [words[2], words[5], words[14], words[15], words[16]]\n",
        "  card_set.append(card7)\n",
        "  card8 = [words[3], words[6], words[11], words[15], words[17]]\n",
        "  card_set.append(card8)\n",
        "  card9 = [words[2], words[8], words[10], words[17], words[18]]\n",
        "  card_set.append(card9)\n",
        "  card10 = [words[4], words[7], words[9], words[16], words[18]]\n",
        "  card_set.append(card10)\n",
        "  card11 = [words[4], words[5], words[12], words[17], words[19]]\n",
        "  card_set.append(card11)\n",
        "  card12 = [words[0], words[11], words[12], words[15], words[18]]\n",
        "  card_set.append(card12)\n",
        "  card13 = [words[1], words[6], words[14], words[18], words[19]]\n",
        "  card_set.append(card13)\n",
        "  card14 = [words[1], words[7], words[13], words[15], words[17]]\n",
        "  card_set.append(card14)\n",
        "  return card_set\n",
        "\n",
        "cards_test = card_maker(word_list)\n",
        "\n",
        "#this code defines the two card generation process\n",
        "def game_play (collection):\n",
        "  two_cards = random.sample(collection, 2)\n",
        "  return two_cards\n",
        "\n",
        "\n",
        "#this function allows for game play or creates the pdf\n",
        "def game_maker(style):\n",
        "  if style == \"online\":\n",
        "    display(Markdown(\"----\"))\n",
        "    display(Markdown(\"#\" + name +\"'s Spot-it Game\"))\n",
        "    display(Markdown(\"Every card pair has exactly **1 match**, can you find it?\"))\n",
        "\n",
        "    keep_playing = \"yes\"\n",
        "    while keep_playing.lower() == \"yes\":\n",
        "      rounds_played = 0\n",
        "      while rounds_played < 5:\n",
        "        two_cards = game_play (cards_test)\n",
        "        first_card = two_cards[0]\n",
        "        random.shuffle(first_card)\n",
        "        second_card = two_cards[1]\n",
        "        random.shuffle(second_card)\n",
        "        display(Markdown(first_card[0] + \"&nbsp; &nbsp;\" + first_card[1]  + \\\n",
        "                     \"&nbsp; &nbsp; &nbsp; &nbsp; &nbsp; &nbsp; &nbsp; &nbsp; \\\n",
        "                     &nbsp; &nbsp; &nbsp;  &nbsp; &nbsp; &nbsp; &nbsp; \" + \\\n",
        "                     second_card[0] + \"&nbsp; &nbsp; \" + second_card[1]))\n",
        "        display(Markdown(first_card[2] + \"&nbsp; &nbsp; \" + first_card[3] + \\\n",
        "                     \"&nbsp; &nbsp; &nbsp; &nbsp; &nbsp; &nbsp; &nbsp; &nbsp;  &nbsp; &nbsp; &nbsp; \\\n",
        "                    &nbsp; &nbsp; \" +  \\\n",
        "                    second_card[2] + \"&nbsp; &nbsp;\" +  second_card[3] ))\n",
        "        display(Markdown(\"   &nbsp; &nbsp;  &nbsp; &nbsp;\" +  first_card[4] + \\\n",
        "                    \"&nbsp; &nbsp; &nbsp; &nbsp; &nbsp; &nbsp; &nbsp; &nbsp; \\\n",
        "                    &nbsp; &nbsp; &nbsp; &nbsp; &nbsp; &nbsp; &nbsp; &nbsp;\\\n",
        "                    &nbsp;  &nbsp;  \" + second_card[4]))\n",
        "        next = input(\"\")\n",
        "        if next == \"stop\":\n",
        "          break\n",
        "        else:\n",
        "          rounds_played += 1\n",
        "      keep_playing  = input(display(Markdown(\"Would you like to keep playing?\")))\n",
        "      if keep_playing.lower() == \"sure\":\n",
        "        keep_playing = \"yes\"\n",
        "      elif keep_playing.lower() == \"yeah\":\n",
        "        keep_playing = \"yes\"\n",
        "      elif keep_playing.lower() == \"okay\":\n",
        "        keep_playing = \"yes\"\n",
        "  else:\n",
        "    # this code runs to make the pdf file\n",
        "    display(Markdown(\"#\" + name +\"'s Spot-it Game\"))\n",
        "    display(Markdown(\"Every card pair has exactly **1 match**, can you find it?\"))\n",
        "    display(Markdown(\".....\"))\n",
        "    my_file = open(\"output.md\", \"w\")\n",
        "    my_file.write(\"This file has all your cards. You can print it out to play!\" + \"\\n\"+ \"\\n\")\n",
        "\n",
        "    for card in cards_test:\n",
        "      my_file.write(card[0] + \"  \" + card[1] + \"\\n\" \n",
        "            + card[2] + \"  \" + card [3] + \"\\n\"\n",
        "            + \"   \" + card[4] + \"\\n\" \n",
        "            + \"-------------------------------------\" + \"\\n\")\n",
        "   \n",
        "    my_file.close()\n",
        "\n",
        "    my_file = open(\"output.md\", \"r\")\n",
        "    print (my_file.read())\n",
        "    my_file.close()\n",
        "    \n",
        "\n",
        "##this code determines whether the player wants to play online or get a pdf\n",
        "game_format = input(display(Markdown(\"There are two ways to play! Would you like to **play online**\\\n",
        " or get a **printable version** of your cards?\")))\n",
        "game_format = game_format.lower()\n",
        "while len(game_format) != 0:\n",
        "  if game_format.count(\"print\") != 0:\n",
        "    format_result = \"print\"\n",
        "    break\n",
        "  elif game_format.count(\"online\") != 0:\n",
        "    format_result = \"online\"\n",
        "    break\n",
        "  else:\n",
        "    game_format = input(display(Markdown(\"Please select **online** or **printable**\"))).lower()\n",
        "\n",
        "#this runs the approriate code for the mode they want to play\n",
        "game_maker(format_result)\n",
        "\n"
      ],
      "execution_count": null,
      "outputs": [
        {
          "output_type": "display_data",
          "data": {
            "text/markdown": "Let's make your *custom* spot-it game!",
            "text/plain": [
              "<IPython.core.display.Markdown object>"
            ]
          },
          "metadata": {
            "tags": []
          }
        },
        {
          "output_type": "display_data",
          "data": {
            "text/markdown": "What is your name?",
            "text/plain": [
              "<IPython.core.display.Markdown object>"
            ]
          },
          "metadata": {
            "tags": []
          }
        },
        {
          "output_type": "stream",
          "text": [
            "Ava\n"
          ],
          "name": "stdout"
        },
        {
          "output_type": "display_data",
          "data": {
            "text/markdown": "Welcome, Ava. The next step is to enter your words.<br /> Please input **20** words to make your spot-it game:  ",
            "text/plain": [
              "<IPython.core.display.Markdown object>"
            ]
          },
          "metadata": {
            "tags": []
          }
        },
        {
          "output_type": "stream",
          "text": [
            "ed, orange, yellow, green, blue, purple, teal, coral, salmon, gold, cream, lilac, mint, navy, black, white, grey, silver, brown, maroon\n"
          ],
          "name": "stdout"
        },
        {
          "output_type": "display_data",
          "data": {
            "text/markdown": "There are two ways to play! Would you like to **play online** or get a **printable version** of your cards?",
            "text/plain": [
              "<IPython.core.display.Markdown object>"
            ]
          },
          "metadata": {
            "tags": []
          }
        },
        {
          "output_type": "stream",
          "text": [
            "print\n"
          ],
          "name": "stdout"
        },
        {
          "output_type": "display_data",
          "data": {
            "text/markdown": "#Ava's Spot-it Game",
            "text/plain": [
              "<IPython.core.display.Markdown object>"
            ]
          },
          "metadata": {
            "tags": []
          }
        },
        {
          "output_type": "display_data",
          "data": {
            "text/markdown": "Every card pair has exactly **1 match**, can you find it?",
            "text/plain": [
              "<IPython.core.display.Markdown object>"
            ]
          },
          "metadata": {
            "tags": []
          }
        },
        {
          "output_type": "display_data",
          "data": {
            "text/markdown": ".....",
            "text/plain": [
              "<IPython.core.display.Markdown object>"
            ]
          },
          "metadata": {
            "tags": []
          }
        },
        {
          "output_type": "stream",
          "text": [
            "This file has all your cards. You can print it out to play!\n",
            "\n",
            "ed  orange\n",
            "yellow  green\n",
            "   blue\n",
            "-------------------------------------\n",
            "ed  purple\n",
            "teal  coral\n",
            "   salmon\n",
            "-------------------------------------\n",
            "orange  purple\n",
            "gold  cream\n",
            "   lilac\n",
            "-------------------------------------\n",
            "yellow  teal\n",
            "gold  mint\n",
            "   navy\n",
            "-------------------------------------\n",
            "green  coral\n",
            "cream  mint\n",
            "   black\n",
            "-------------------------------------\n",
            "blue  salmon\n",
            "lilac  navy\n",
            "   black\n",
            "-------------------------------------\n",
            "yellow  purple\n",
            "black  white\n",
            "   grey\n",
            "-------------------------------------\n",
            "green  teal\n",
            "lilac  white\n",
            "   silver\n",
            "-------------------------------------\n",
            "yellow  salmon\n",
            "cream  silver\n",
            "   brown\n",
            "-------------------------------------\n",
            "blue  coral\n",
            "gold  grey\n",
            "   brown\n",
            "-------------------------------------\n",
            "blue  purple\n",
            "mint  silver\n",
            "   maroon\n",
            "-------------------------------------\n",
            "ed  lilac\n",
            "mint  white\n",
            "   brown\n",
            "-------------------------------------\n",
            "orange  teal\n",
            "black  brown\n",
            "   maroon\n",
            "-------------------------------------\n",
            "orange  coral\n",
            "navy  white\n",
            "   silver\n",
            "-------------------------------------\n",
            "\n"
          ],
          "name": "stdout"
        }
      ]
    },
    {
      "cell_type": "markdown",
      "metadata": {
        "id": "14LL5vdONl-g",
        "colab_type": "text"
      },
      "source": [
        "#lists of 20 things\n",
        "\n",
        "\n",
        "*   red, orange, yellow, green, blue, purple, teal, coral, salmon, gold, cream, lilac, mint, navy, black, white, grey, silver, brown, maroon\n",
        "\n",
        "* shark, dolphin, pufferfish, seahorse, squid, starfish, fish, turtle, crab, lobster, clam, jellyfish, coral, anenome, stingray, whale, seagull, mermaid, seaweed, otter\n",
        "\n",
        "* apple, banana, pear, orange, grapes, strawberry, mango, watermelon, pineapple, guava, passionfruit, cantaloupe, peach, kiwi, lemon, lime, grapefruit, rasberry, blueberry, apricot\n",
        "\n",
        "\n"
      ]
    },
    {
      "cell_type": "code",
      "metadata": {
        "id": "mUVdI0ftGSKX",
        "colab_type": "code",
        "colab": {
          "base_uri": "https://localhost:8080/",
          "height": 1000
        },
        "outputId": "98df1c04-a792-445a-9e1e-d316440e28d1"
      },
      "source": [
        "!ls\n",
        "from google.colab import files\n",
        "files.download(\"output.pdf\")\n",
        "\n",
        "#!apt-get install texlive\n",
        "!apt-get install texlive texlive-xetex texlive-latex-extra pandoc\n",
        "#!pip install pypandoc\n",
        "!pandoc output.md --latex-engine=xelatex -o output.pdf\n"
      ],
      "execution_count": null,
      "outputs": [
        {
          "output_type": "stream",
          "text": [
            "output.md  output.pdf  sample_data\n",
            "Reading package lists... Done\n",
            "Building dependency tree       \n",
            "Reading state information... Done\n",
            "pandoc is already the newest version (1.19.2.4~dfsg-1build4).\n",
            "pandoc set to manually installed.\n",
            "texlive is already the newest version (2017.20180305-1).\n",
            "The following additional packages will be installed:\n",
            "  fonts-lato javascript-common libjs-jquery libruby2.5 preview-latex-style\n",
            "  rake ruby ruby-did-you-mean ruby-minitest ruby-net-telnet ruby-power-assert\n",
            "  ruby-test-unit ruby2.5 rubygems-integration texlive-pictures\n",
            "  texlive-plain-generic\n",
            "Suggested packages:\n",
            "  apache2 | lighttpd | httpd ri ruby-dev bundler python-pygments icc-profiles\n",
            "  libfile-which-perl libspreadsheet-parseexcel-perl texlive-latex-extra-doc\n",
            "  dot2tex prerex ruby-tcltk | libtcltk-ruby texlive-pictures-doc vprerex\n",
            "The following NEW packages will be installed:\n",
            "  fonts-lato javascript-common libjs-jquery libruby2.5 preview-latex-style\n",
            "  rake ruby ruby-did-you-mean ruby-minitest ruby-net-telnet ruby-power-assert\n",
            "  ruby-test-unit ruby2.5 rubygems-integration texlive-latex-extra\n",
            "  texlive-pictures texlive-plain-generic texlive-xetex\n",
            "0 upgraded, 18 newly installed, 0 to remove and 11 not upgraded.\n",
            "Need to get 55.3 MB of archives.\n",
            "After this operation, 174 MB of additional disk space will be used.\n",
            "Get:1 http://archive.ubuntu.com/ubuntu bionic/main amd64 fonts-lato all 2.0-2 [2,698 kB]\n",
            "Get:2 http://archive.ubuntu.com/ubuntu bionic/main amd64 javascript-common all 11 [6,066 B]\n",
            "Get:3 http://archive.ubuntu.com/ubuntu bionic/main amd64 libjs-jquery all 3.2.1-1 [152 kB]\n",
            "Get:4 http://archive.ubuntu.com/ubuntu bionic/main amd64 rubygems-integration all 1.11 [4,994 B]\n",
            "Get:5 http://archive.ubuntu.com/ubuntu bionic-updates/main amd64 ruby2.5 amd64 2.5.1-1ubuntu1.6 [48.6 kB]\n",
            "Get:6 http://archive.ubuntu.com/ubuntu bionic/main amd64 ruby amd64 1:2.5.1 [5,712 B]\n",
            "Get:7 http://archive.ubuntu.com/ubuntu bionic-updates/main amd64 rake all 12.3.1-1ubuntu0.1 [44.9 kB]\n",
            "Get:8 http://archive.ubuntu.com/ubuntu bionic/main amd64 ruby-did-you-mean all 1.2.0-2 [9,700 B]\n",
            "Get:9 http://archive.ubuntu.com/ubuntu bionic/main amd64 ruby-minitest all 5.10.3-1 [38.6 kB]\n",
            "Get:10 http://archive.ubuntu.com/ubuntu bionic/main amd64 ruby-net-telnet all 0.1.1-2 [12.6 kB]\n",
            "Get:11 http://archive.ubuntu.com/ubuntu bionic/main amd64 ruby-power-assert all 0.3.0-1 [7,952 B]\n",
            "Get:12 http://archive.ubuntu.com/ubuntu bionic/main amd64 ruby-test-unit all 3.2.5-1 [61.1 kB]\n",
            "Get:13 http://archive.ubuntu.com/ubuntu bionic-updates/main amd64 libruby2.5 amd64 2.5.1-1ubuntu1.6 [3,069 kB]\n",
            "Get:14 http://archive.ubuntu.com/ubuntu bionic/main amd64 preview-latex-style all 11.91-1ubuntu1 [185 kB]\n",
            "Get:15 http://archive.ubuntu.com/ubuntu bionic/universe amd64 texlive-pictures all 2017.20180305-1 [4,026 kB]\n",
            "Get:16 http://archive.ubuntu.com/ubuntu bionic/universe amd64 texlive-latex-extra all 2017.20180305-2 [10.6 MB]\n",
            "Get:17 http://archive.ubuntu.com/ubuntu bionic/universe amd64 texlive-plain-generic all 2017.20180305-2 [23.6 MB]\n",
            "Get:18 http://archive.ubuntu.com/ubuntu bionic/universe amd64 texlive-xetex all 2017.20180305-1 [10.7 MB]\n",
            "Fetched 55.3 MB in 8s (7,314 kB/s)\n",
            "Selecting previously unselected package fonts-lato.\n",
            "(Reading database ... 156924 files and directories currently installed.)\n",
            "Preparing to unpack .../00-fonts-lato_2.0-2_all.deb ...\n",
            "Unpacking fonts-lato (2.0-2) ...\n",
            "Selecting previously unselected package javascript-common.\n",
            "Preparing to unpack .../01-javascript-common_11_all.deb ...\n",
            "Unpacking javascript-common (11) ...\n",
            "Selecting previously unselected package libjs-jquery.\n",
            "Preparing to unpack .../02-libjs-jquery_3.2.1-1_all.deb ...\n",
            "Unpacking libjs-jquery (3.2.1-1) ...\n",
            "Selecting previously unselected package rubygems-integration.\n",
            "Preparing to unpack .../03-rubygems-integration_1.11_all.deb ...\n",
            "Unpacking rubygems-integration (1.11) ...\n",
            "Selecting previously unselected package ruby2.5.\n",
            "Preparing to unpack .../04-ruby2.5_2.5.1-1ubuntu1.6_amd64.deb ...\n",
            "Unpacking ruby2.5 (2.5.1-1ubuntu1.6) ...\n",
            "Selecting previously unselected package ruby.\n",
            "Preparing to unpack .../05-ruby_1%3a2.5.1_amd64.deb ...\n",
            "Unpacking ruby (1:2.5.1) ...\n",
            "Selecting previously unselected package rake.\n",
            "Preparing to unpack .../06-rake_12.3.1-1ubuntu0.1_all.deb ...\n",
            "Unpacking rake (12.3.1-1ubuntu0.1) ...\n",
            "Selecting previously unselected package ruby-did-you-mean.\n",
            "Preparing to unpack .../07-ruby-did-you-mean_1.2.0-2_all.deb ...\n",
            "Unpacking ruby-did-you-mean (1.2.0-2) ...\n",
            "Selecting previously unselected package ruby-minitest.\n",
            "Preparing to unpack .../08-ruby-minitest_5.10.3-1_all.deb ...\n",
            "Unpacking ruby-minitest (5.10.3-1) ...\n",
            "Selecting previously unselected package ruby-net-telnet.\n",
            "Preparing to unpack .../09-ruby-net-telnet_0.1.1-2_all.deb ...\n",
            "Unpacking ruby-net-telnet (0.1.1-2) ...\n",
            "Selecting previously unselected package ruby-power-assert.\n",
            "Preparing to unpack .../10-ruby-power-assert_0.3.0-1_all.deb ...\n",
            "Unpacking ruby-power-assert (0.3.0-1) ...\n",
            "Selecting previously unselected package ruby-test-unit.\n",
            "Preparing to unpack .../11-ruby-test-unit_3.2.5-1_all.deb ...\n",
            "Unpacking ruby-test-unit (3.2.5-1) ...\n",
            "Selecting previously unselected package libruby2.5:amd64.\n",
            "Preparing to unpack .../12-libruby2.5_2.5.1-1ubuntu1.6_amd64.deb ...\n",
            "Unpacking libruby2.5:amd64 (2.5.1-1ubuntu1.6) ...\n",
            "Selecting previously unselected package preview-latex-style.\n",
            "Preparing to unpack .../13-preview-latex-style_11.91-1ubuntu1_all.deb ...\n",
            "Unpacking preview-latex-style (11.91-1ubuntu1) ...\n",
            "Selecting previously unselected package texlive-pictures.\n",
            "Preparing to unpack .../14-texlive-pictures_2017.20180305-1_all.deb ...\n",
            "Unpacking texlive-pictures (2017.20180305-1) ...\n",
            "Selecting previously unselected package texlive-latex-extra.\n",
            "Preparing to unpack .../15-texlive-latex-extra_2017.20180305-2_all.deb ...\n",
            "Unpacking texlive-latex-extra (2017.20180305-2) ...\n",
            "Selecting previously unselected package texlive-plain-generic.\n",
            "Preparing to unpack .../16-texlive-plain-generic_2017.20180305-2_all.deb ...\n",
            "Unpacking texlive-plain-generic (2017.20180305-2) ...\n",
            "Selecting previously unselected package texlive-xetex.\n",
            "Preparing to unpack .../17-texlive-xetex_2017.20180305-1_all.deb ...\n",
            "Unpacking texlive-xetex (2017.20180305-1) ...\n",
            "Setting up libjs-jquery (3.2.1-1) ...\n",
            "Setting up texlive-pictures (2017.20180305-1) ...\n",
            "Setting up preview-latex-style (11.91-1ubuntu1) ...\n",
            "Setting up fonts-lato (2.0-2) ...\n",
            "Setting up ruby-did-you-mean (1.2.0-2) ...\n",
            "Setting up ruby-net-telnet (0.1.1-2) ...\n",
            "Setting up rubygems-integration (1.11) ...\n",
            "Setting up javascript-common (11) ...\n",
            "Setting up texlive-plain-generic (2017.20180305-2) ...\n",
            "Setting up ruby-minitest (5.10.3-1) ...\n",
            "Setting up ruby-power-assert (0.3.0-1) ...\n",
            "Setting up texlive-latex-extra (2017.20180305-2) ...\n",
            "Setting up texlive-xetex (2017.20180305-1) ...\n",
            "Setting up ruby2.5 (2.5.1-1ubuntu1.6) ...\n",
            "Setting up ruby (1:2.5.1) ...\n",
            "Setting up ruby-test-unit (3.2.5-1) ...\n",
            "Setting up rake (12.3.1-1ubuntu0.1) ...\n",
            "Setting up libruby2.5:amd64 (2.5.1-1ubuntu1.6) ...\n",
            "Processing triggers for tex-common (6.09) ...\n",
            "Running mktexlsr. This may take some time... done.\n",
            "Running updmap-sys. This may take some time... done.\n",
            "Running mktexlsr /var/lib/texmf ... done.\n",
            "Building format(s) --all.\n",
            "\tThis may take some time... done.\n",
            "Processing triggers for libc-bin (2.27-3ubuntu1.2) ...\n",
            "/sbin/ldconfig.real: /usr/local/lib/python3.6/dist-packages/ideep4py/lib/libmkldnn.so.0 is not a symbolic link\n",
            "\n",
            "Processing triggers for man-db (2.8.3-2ubuntu0.1) ...\n",
            "Processing triggers for fontconfig (2.12.6-0ubuntu2) ...\n"
          ],
          "name": "stdout"
        }
      ]
    },
    {
      "cell_type": "code",
      "metadata": {
        "id": "xYRqHlahKBAy",
        "colab_type": "code",
        "colab": {
          "base_uri": "https://localhost:8080/",
          "height": 17
        },
        "outputId": "16731c77-a9d9-4d4b-d7b1-881c37c4a4e5"
      },
      "source": [
        "from google.colab import files\n",
        "files.download(\"output.pdf\")"
      ],
      "execution_count": null,
      "outputs": [
        {
          "output_type": "display_data",
          "data": {
            "application/javascript": [
              "\n",
              "    async function download(id, filename, size) {\n",
              "      if (!google.colab.kernel.accessAllowed) {\n",
              "        return;\n",
              "      }\n",
              "      const div = document.createElement('div');\n",
              "      const label = document.createElement('label');\n",
              "      label.textContent = `Downloading \"${filename}\": `;\n",
              "      div.appendChild(label);\n",
              "      const progress = document.createElement('progress');\n",
              "      progress.max = size;\n",
              "      div.appendChild(progress);\n",
              "      document.body.appendChild(div);\n",
              "\n",
              "      const buffers = [];\n",
              "      let downloaded = 0;\n",
              "\n",
              "      const channel = await google.colab.kernel.comms.open(id);\n",
              "      // Send a message to notify the kernel that we're ready.\n",
              "      channel.send({})\n",
              "\n",
              "      for await (const message of channel.messages) {\n",
              "        // Send a message to notify the kernel that we're ready.\n",
              "        channel.send({})\n",
              "        if (message.buffers) {\n",
              "          for (const buffer of message.buffers) {\n",
              "            buffers.push(buffer);\n",
              "            downloaded += buffer.byteLength;\n",
              "            progress.value = downloaded;\n",
              "          }\n",
              "        }\n",
              "      }\n",
              "      const blob = new Blob(buffers, {type: 'application/binary'});\n",
              "      const a = document.createElement('a');\n",
              "      a.href = window.URL.createObjectURL(blob);\n",
              "      a.download = filename;\n",
              "      div.appendChild(a);\n",
              "      a.click();\n",
              "      div.remove();\n",
              "    }\n",
              "  "
            ],
            "text/plain": [
              "<IPython.core.display.Javascript object>"
            ]
          },
          "metadata": {
            "tags": []
          }
        },
        {
          "output_type": "display_data",
          "data": {
            "application/javascript": [
              "download(\"download_ec20519d-6d79-4d07-b9b3-fe7ac8a739ad\", \"output.pdf\", 5591)"
            ],
            "text/plain": [
              "<IPython.core.display.Javascript object>"
            ]
          },
          "metadata": {
            "tags": []
          }
        }
      ]
    }
  ]
}