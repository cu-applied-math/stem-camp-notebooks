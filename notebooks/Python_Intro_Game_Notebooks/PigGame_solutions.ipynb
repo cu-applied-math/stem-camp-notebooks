{
  "nbformat": 4,
  "nbformat_minor": 0,
  "metadata": {
    "colab": {
      "name": "PracticeWithPigGame.ipynb",
      "provenance": [],
      "collapsed_sections": [],
      "authorship_tag": "ABX9TyMLGnrHHP0cjxgZ74ZuE8hl",
      "include_colab_link": true
    },
    "kernelspec": {
      "name": "python3",
      "display_name": "Python 3"
    }
  },
  "cells": [
    {
      "cell_type": "markdown",
      "metadata": {
        "id": "view-in-github",
        "colab_type": "text"
      },
      "source": [
        "<a href=\"https://colab.research.google.com/github/cu-applied-math/stem-camp-notebooks/blob/master/notebooks/Python_Intro_Game_Notebooks/PigGame_solutions.ipynb\" target=\"_parent\"><img src=\"https://colab.research.google.com/assets/colab-badge.svg\" alt=\"Open In Colab\"/></a>"
      ]
    },
    {
      "cell_type": "markdown",
      "metadata": {
        "id": "5hLogxWJzlRq",
        "colab_type": "text"
      },
      "source": [
        "# Pig Game: solutions"
      ]
    },
    {
      "cell_type": "markdown",
      "metadata": {
        "id": "sPl9CVanVV_v",
        "colab_type": "text"
      },
      "source": [
        "This builds on the Guess-a-number game\n",
        "\n",
        "This version of the game has some potential solutions (Stephen, July 2020), and is only for the Master branch of github\n",
        "\n",
        "Activities:\n",
        "\n",
        "To start with, read about the game of PIG at [wikipedia](https://en.wikipedia.org/wiki/Pig_(dice_game)).  The game has two players take turns playing rounds until one player reaches a score of 100. For now, let's start by examining what happens at a single round. At a round, the player rolls the dice and gets a 1, 2, 3, 4, 5 or 6. If they get a 1, their turn is over; otherwise, they get the score of the dice. Then they can choose to \"hit\" (and roll again), or \"stay\" (and end their turn).  If they hit and get a 1, they lose all the points they've earned in that round. If they stay, then they keep all the points, but can't earn any more points as their round is over.\n",
        "\n",
        "1. Write a python script that lets a user play a single round of the game.  Ask the user for input using the `input` function of Python.\n",
        "2. Suppose the user has a simple strategy of always hitting until their score (at the current round) goes over some threshold. Program this strategy, and then have this strategy play a round of the games. In fact, you can play thousands of rounds.\n",
        "3. For that simple strategy, what is the best threshold to choose?  You can figure this out via simulation or via math.\n",
        "4. Make a game framework that pits two strategies against each other\n",
        "5. Make some strategies and have them compete, or compete with another student's strategies\n",
        "6. If one strategy beats another strategy in, say, 505 games out of 1000 total games, can you be sure it's a better strategy, or is this due to chance?  Can you conclude if you have a really good strategy?\n",
        "\n"
      ]
    },
    {
      "cell_type": "code",
      "metadata": {
        "id": "JCfDOxF_12J-",
        "colab_type": "code",
        "colab": {}
      },
      "source": [
        "# Simulate the PIG game\n",
        "# e.g., I make a one round game, then make a 2 round game\n",
        "# Useful tools\n",
        "# Method #1\n",
        "import random  \n",
        "# Method #2\n",
        "from numpy.random import default_rng  #  see https://numpy.org/doc/stable/reference/random/index.html\n",
        "rng = default_rng()\n",
        "# Not recommended: from numpy import random"
      ],
      "execution_count": 13,
      "outputs": []
    },
    {
      "cell_type": "code",
      "metadata": {
        "id": "nTG_K5QF4_xW",
        "colab_type": "code",
        "colab": {
          "base_uri": "https://localhost:8080/",
          "height": 34
        },
        "outputId": "6118db79-f60f-46d0-8f97-8043a54c6977"
      },
      "source": [
        "# Two ways to do it\n",
        "random.randint(1,6)"
      ],
      "execution_count": 8,
      "outputs": [
        {
          "output_type": "execute_result",
          "data": {
            "text/plain": [
              "4"
            ]
          },
          "metadata": {
            "tags": []
          },
          "execution_count": 8
        }
      ]
    },
    {
      "cell_type": "code",
      "metadata": {
        "id": "n3-zaB9q5duk",
        "colab_type": "code",
        "colab": {
          "base_uri": "https://localhost:8080/",
          "height": 34
        },
        "outputId": "1dcdbb3f-cb11-4bbb-a3e0-58e55205e05a"
      },
      "source": [
        "rng.integers(1,7) # Note we use 7 not 6"
      ],
      "execution_count": 32,
      "outputs": [
        {
          "output_type": "execute_result",
          "data": {
            "text/plain": [
              "3"
            ]
          },
          "metadata": {
            "tags": []
          },
          "execution_count": 32
        }
      ]
    },
    {
      "cell_type": "code",
      "metadata": {
        "id": "sHK7DTkc2ikq",
        "colab_type": "code",
        "colab": {
          "base_uri": "https://localhost:8080/",
          "height": 153
        },
        "outputId": "e4043c7a-8365-41a3-d375-848019a7600a"
      },
      "source": [
        "# Let's play a game\n",
        "your_score = 0\n",
        "hold  = False\n",
        "while hold == False:\n",
        "  \n",
        "  # Now, roll the dice\n",
        "  dice = random.randint(1,6)\n",
        "  if dice == 1:\n",
        "    print(\"You rolled a 1 and lost everything!\")\n",
        "    print(\"Turn over, score is 0\")\n",
        "    your_score = 0\n",
        "    hold = True\n",
        "  else:\n",
        "    your_score += dice\n",
        "    print(\"You rolled a\", dice, \" and score is\", your_score)\n",
        "    move = input(\"Continue playing (c), or hold (h)?\").lower()\n",
        "    hold = False if move == 'c' else True\n"
      ],
      "execution_count": 41,
      "outputs": [
        {
          "output_type": "stream",
          "text": [
            "You rolled a 2  and score is 2\n",
            "Continue playing (c), or hold (h)?c\n",
            "You rolled a 3  and score is 5\n",
            "Continue playing (c), or hold (h)?c\n",
            "You rolled a 6  and score is 11\n",
            "Continue playing (c), or hold (h)?c\n",
            "You rolled a 1 and lost everything!\n",
            "Turn over, score is 0\n"
          ],
          "name": "stdout"
        }
      ]
    },
    {
      "cell_type": "code",
      "metadata": {
        "id": "hYmIT6_vCf4E",
        "colab_type": "code",
        "colab": {}
      },
      "source": [
        "def playGame( threshold ):\n",
        "  \"\"\" Keep playing until score > threshold \"\"\"\n",
        "  score = 0\n",
        "  while score <= threshold:\n",
        "    dice = random.randint(1,6)\n",
        "    if dice == 1:\n",
        "      score = 0\n",
        "      break\n",
        "    else:\n",
        "      score = score + dice\n",
        "  return score"
      ],
      "execution_count": 15,
      "outputs": []
    },
    {
      "cell_type": "code",
      "metadata": {
        "id": "onjzzHDw9mAK",
        "colab_type": "code",
        "colab": {
          "base_uri": "https://localhost:8080/",
          "height": 425
        },
        "outputId": "cfa49b70-9479-4e32-d716-61330a895ae9"
      },
      "source": [
        "# Now, let's pick a simple strategy: keep playing until your score hits a threshold\n",
        "# Then, simulate many rounds of the game.  Find the best strategy\n",
        "threshold = 5\n",
        "for threshold in range(1,25):\n",
        "  score = 0\n",
        "  numberOfGames = int(1e5)\n",
        "  for game in range(numberOfGames):\n",
        "    score = score + playGame( threshold )\n",
        "  print('Using a threshold of', threshold, ', your average score was', score/numberOfGames)"
      ],
      "execution_count": 60,
      "outputs": [
        {
          "output_type": "stream",
          "text": [
            "Using a threshold of 1 , your average score was 3.34197\n",
            "Using a threshold of 2 , your average score was 3.83468\n",
            "Using a threshold of 3 , your average score was 4.29804\n",
            "Using a threshold of 4 , your average score was 4.84093\n",
            "Using a threshold of 5 , your average score was 5.38701\n",
            "Using a threshold of 6 , your average score was 5.97676\n",
            "Using a threshold of 7 , your average score was 6.24003\n",
            "Using a threshold of 8 , your average score was 6.57406\n",
            "Using a threshold of 9 , your average score was 6.85939\n",
            "Using a threshold of 10 , your average score was 7.14064\n",
            "Using a threshold of 11 , your average score was 7.38608\n",
            "Using a threshold of 12 , your average score was 7.60428\n",
            "Using a threshold of 13 , your average score was 7.7006\n",
            "Using a threshold of 14 , your average score was 7.84318\n",
            "Using a threshold of 15 , your average score was 7.94069\n",
            "Using a threshold of 16 , your average score was 8.03231\n",
            "Using a threshold of 17 , your average score was 8.09751\n",
            "Using a threshold of 18 , your average score was 8.10729\n",
            "Using a threshold of 19 , your average score was 8.12109\n",
            "Using a threshold of 20 , your average score was 8.15492\n",
            "Using a threshold of 21 , your average score was 8.12447\n",
            "Using a threshold of 22 , your average score was 8.04062\n",
            "Using a threshold of 23 , your average score was 8.0448\n",
            "Using a threshold of 24 , your average score was 7.94706\n"
          ],
          "name": "stdout"
        }
      ]
    },
    {
      "cell_type": "code",
      "metadata": {
        "id": "-l0GbrSyDYpr",
        "colab_type": "code",
        "colab": {}
      },
      "source": [
        "# Let's compute things exactly using probability"
      ],
      "execution_count": 47,
      "outputs": []
    },
    {
      "cell_type": "code",
      "metadata": {
        "id": "xa5LZ38JFU9Q",
        "colab_type": "code",
        "colab": {}
      },
      "source": [
        "# Now, let's allow for more complicated strategies, for 2 players playing against each other up to a score of 100\n",
        "\n",
        "def playRound( player, playersExistingScore, opponentsExistingScore, roundsSoFar):\n",
        "  score = 0\n",
        "  rollsSoFar = 0\n",
        "  while True:\n",
        "    # Ask the algorithm what to do\n",
        "    hit_or_hold = player( score, playersExistingScore, opponentsExistingScore, rollsSoFar, roundsSoFar )\n",
        "    if hit_or_hold == 0:  # This means hold\n",
        "      break\n",
        "    else:\n",
        "      dice = random.randint(1,6)\n",
        "      if dice == 0:\n",
        "        score = 0\n",
        "        break\n",
        "      else:\n",
        "        score += dice\n",
        "    rollsSoFar += 1\n",
        "  return score\n",
        "\n",
        "def twoPlayerGame( playerA, playerB, numberOfGames = 100, winningThreshold = 100):\n",
        "  numberOfGames = int( numberOfGames )\n",
        "  winsA = 0\n",
        "  winsB = 0\n",
        "  for game in range(numberOfGames):\n",
        "    scoreA = 0\n",
        "    scoreB = 0\n",
        "    roundsSoFar = 0\n",
        "    while True:\n",
        "      # Who plays first? Let's alternate\n",
        "      if (game%2)==0: # game is an even number\n",
        "        scoreA += playRound( playerA, scoreA, scoreB, roundsSoFar)\n",
        "        if scoreA >= winningThreshold:\n",
        "          winsA += 1\n",
        "          break\n",
        "        scoreB += playRound( playerB, scoreB, scoreA, roundsSoFar)\n",
        "        if scoreB >= winningThreshold:\n",
        "          winsB += 1\n",
        "          break\n",
        "      else:\n",
        "        scoreB += playRound( playerB, scoreB, scoreA, roundsSoFar)\n",
        "        if scoreB >= winningThreshold:\n",
        "          winsB += 1\n",
        "          break\n",
        "        scoreA += playRound( playerA, scoreA, scoreB, roundsSoFar)\n",
        "        if scoreA >= winningThreshold:\n",
        "          winsA += 1\n",
        "          break\n",
        "      roundsSoFar += 1\n",
        "  return [winsA,winsB]"
      ],
      "execution_count": 16,
      "outputs": []
    },
    {
      "cell_type": "code",
      "metadata": {
        "id": "Pt2sXfGzQzdJ",
        "colab_type": "code",
        "colab": {}
      },
      "source": [
        "nextMove = {'hold':0, 'hit': 1 }\n",
        "\n",
        "def simpleAndSillyStrategy(scoreOfCurrentRound, yourExistingScore, opponentsExistingScore,threshold):\n",
        "  if scoreOfCurrentRound <= threshold:\n",
        "    return nextMove[\"hit\"]\n",
        "  else:\n",
        "    return nextMove[\"hold\"]\n",
        "\n",
        "def simpleStrategy(scoreOfCurrentRound, yourExistingScore, opponentsExistingScore,threshold):\n",
        "  if scoreOfCurrentRound + yourExistingScore >= 100:\n",
        "    return nextMove[\"hold\"]\n",
        "  elif scoreOfCurrentRound <= threshold:\n",
        "    return nextMove[\"hit\"]\n",
        "  else:\n",
        "    return nextMove[\"hold\"]\n",
        "\n",
        "def simpleStrategy_withHailMary(scoreOfCurrentRound, yourExistingScore, opponentsExistingScore,threshold):\n",
        "  if (opponentsExistingScore > 90 ) and (yourExistingScore<50):\n",
        "    # Things are desperate!  Time for a hail mary pass...\n",
        "    threshold += 5\n",
        "  elif opponentsExistingScore > 15 + yourExistingScore:\n",
        "    threshold += 5  # This one makes a BIG difference\n",
        "  if yourExistingScore > 15 + opponentsExistingScore:\n",
        "    # You have a comfortable lead. Don't blow it on a risky move\n",
        "    threshold -= 0 # 5\n",
        "  if scoreOfCurrentRound + yourExistingScore >= 100:\n",
        "    return nextMove[\"hold\"]\n",
        "  elif scoreOfCurrentRound <= threshold:\n",
        "    return nextMove[\"hit\"]\n",
        "  else:\n",
        "    return nextMove[\"hold\"]\n",
        "\n",
        "def strategyA(scoreOfCurrentRound, yourExistingScore, opponentsExistingScore, numberOfRollsAtCurrentRound, numberOfRoundsSoFar):\n",
        "  return simpleStrategy(scoreOfCurrentRound, yourExistingScore, opponentsExistingScore, 21 )\n",
        "\n",
        "def strategyB(scoreOfCurrentRound, yourExistingScore, opponentsExistingScore, numberOfRollsAtCurrentRound, numberOfRoundsSoFar):\n",
        "  return simpleStrategy(scoreOfCurrentRound, yourExistingScore, opponentsExistingScore, 20 )\n",
        "\n",
        "def strategyC(scoreOfCurrentRound, yourExistingScore, opponentsExistingScore, numberOfRollsAtCurrentRound, numberOfRoundsSoFar):\n",
        "  return simpleAndSillyStrategy(scoreOfCurrentRound, yourExistingScore, opponentsExistingScore, 20 )\n",
        "\n",
        "def strategyD(scoreOfCurrentRound, yourExistingScore, opponentsExistingScore, numberOfRollsAtCurrentRound, numberOfRoundsSoFar):\n",
        "  return simpleStrategy_withHailMary(scoreOfCurrentRound, yourExistingScore, opponentsExistingScore, 20 )\n",
        "\n",
        "def strategyE(scoreOfCurrentRound, yourExistingScore, opponentsExistingScore, numberOfRollsAtCurrentRound, numberOfRoundsSoFar):\n",
        "  \"\"\" Neller and Presser strategy \"\"\"\n",
        "  if (yourExistingScore>71) or (opponentsExistingScore>71):\n",
        "  return simpleStrategy_withHailMary(scoreOfCurrentRound, yourExistingScore, opponentsExistingScore, 20 )"
      ],
      "execution_count": 17,
      "outputs": []
    },
    {
      "cell_type": "code",
      "metadata": {
        "id": "dwN9a_DmJjhe",
        "colab_type": "code",
        "colab": {
          "base_uri": "https://localhost:8080/",
          "height": 34
        },
        "outputId": "cb30e2f8-13d7-40ae-86b9-09e0b38865d4"
      },
      "source": [
        "results = twoPlayerGame( strategyD, strategyB, 1e4)\n",
        "results"
      ],
      "execution_count": 18,
      "outputs": [
        {
          "output_type": "execute_result",
          "data": {
            "text/plain": [
              "[8570, 1430]"
            ]
          },
          "metadata": {
            "tags": []
          },
          "execution_count": 18
        }
      ]
    },
    {
      "cell_type": "code",
      "metadata": {
        "id": "Arn3_HfOQXQV",
        "colab_type": "code",
        "colab": {
          "base_uri": "https://localhost:8080/",
          "height": 34
        },
        "outputId": "08d673f5-2583-420d-a346-680ea0bcdd67"
      },
      "source": [
        "# Ok, how many samples do we need to see until we can be convinced that one strategy is really better than another?\n",
        "from scipy.stats import binom\n",
        "prob = binom.cdf( min(results) , sum(results) , 0.5)\n",
        "prob"
      ],
      "execution_count": 148,
      "outputs": [
        {
          "output_type": "execute_result",
          "data": {
            "text/plain": [
              "0.0"
            ]
          },
          "metadata": {
            "tags": []
          },
          "execution_count": 148
        }
      ]
    },
    {
      "cell_type": "markdown",
      "metadata": {
        "id": "hr97vvopew6D",
        "colab_type": "text"
      },
      "source": [
        "For how to algorithmically compute the best strategies, see [Optimal Play of the Dice Game Pig, by Todd W. Neller and Clifton G.M. Presser 2004](https://cupola.gettysburg.edu/cgi/viewcontent.cgi?article=1003&context=csfac)\n",
        "\n",
        "For practical strategies, see [Practical Play of the Dice Game Pig, by Todd W. Neller and Clifton G.M. Presser 2010](http://cs.gettysburg.edu/~tneller/papers/umap10.pdf)\n",
        "\n",
        "Depends on your opponent's strategy of course... the above techniques are for playing against an optimal opponent, and suggest rules of thumb like\n",
        "\"If either player’s score is 71 or higher, roll for the goal. Otherwise, hold\n",
        "at 21 + round((j-i)/8) where j is your opponent's score and i is your score.\""
      ]
    },
    {
      "cell_type": "markdown",
      "metadata": {
        "id": "8rGOcWYbg6YO",
        "colab_type": "text"
      },
      "source": [
        "Now let's do some math.  Let's only look at a single turn, and not take into account the entire game.  When should you hit and when should you hold?\n",
        "\n",
        "Let's compute how much you expect to have after your decision, conditioned on how much you have before the decision.  Let $t$ be the turn-total --- that is, how much you have current at your turn.\n",
        "\n",
        "Let $X$ be the random variable for your turn-total *after* your decision.\n",
        "\n",
        "Then if you hold, $\\mathbb{E}[X|t] = t$.\n",
        "\n",
        "If you hit, then \n",
        "$$\\mathbb{E}[X|t] = 0\\cdot \\frac{1}{6} + (t+1)\\frac{1}{6}+ (t+2)\\frac{1}{6}+ (t+3)\\frac{1}{6}+ (t+4)\\frac{1}{6}+ (5+4)\\frac{1}{6} = \\frac{5t+20}{6}\n",
        "$$\n",
        "Then the expected value for hitting is better than for holding when $ \\frac{5t+20}{6} > t $. \n",
        "\n",
        "Todo: plot this and find at what score $t$ you should hit or hold"
      ]
    },
    {
      "cell_type": "code",
      "metadata": {
        "id": "H1NY_PWveuAN",
        "colab_type": "code",
        "colab": {
          "base_uri": "https://localhost:8080/",
          "height": 279
        },
        "outputId": "af9de88c-dd0c-47f7-855c-c4bbda7369ba"
      },
      "source": [
        "import matplotlib.pyplot as plt\n",
        "plt.style.use('seaborn-whitegrid')\n",
        "import numpy as np\n",
        "\n",
        "fig = plt.figure()\n",
        "ax = plt.axes()\n",
        "\n",
        "t = np.arange(1,30)\n",
        "x = (5*t+20)/6\n",
        "ax.plot(t,x,label = 'Hitting')\n",
        "ax.plot(t,20*np.ones(len(x)),label = 'Holding')\n",
        "ax.legend()"
      ],
      "execution_count": 9,
      "outputs": [
        {
          "output_type": "execute_result",
          "data": {
            "text/plain": [
              "<matplotlib.legend.Legend at 0x7fbd8bd925f8>"
            ]
          },
          "metadata": {
            "tags": []
          },
          "execution_count": 9
        },
        {
          "output_type": "display_data",
          "data": {
            "image/png": "[encoded data removed]",
            "text/plain": [
              "<Figure size 432x288 with 1 Axes>"
            ]
          },
          "metadata": {
            "tags": []
          }
        }
      ]
    },
    {
      "cell_type": "code",
      "metadata": {
        "id": "DwtAS_EhTzej",
        "colab_type": "code",
        "colab": {}
      },
      "source": [
        ""
      ],
      "execution_count": null,
      "outputs": []
    }
  ]
}