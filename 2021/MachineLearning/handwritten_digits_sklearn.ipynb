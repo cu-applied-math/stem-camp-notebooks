{
  "nbformat": 4,
  "nbformat_minor": 0,
  "metadata": {
    "kernelspec": {
      "display_name": "Python 2",
      "language": "python",
      "name": "python2"
    },
    "language_info": {
      "codemirror_mode": {
        "name": "ipython",
        "version": 2
      },
      "file_extension": ".py",
      "mimetype": "text/x-python",
      "name": "python",
      "nbconvert_exporter": "python",
      "pygments_lexer": "ipython2",
      "version": "2.7.15"
    },
    "colab": {
      "name": "handwritten_digits_sklearn.ipynb",
      "provenance": [],
      "collapsed_sections": [],
      "include_colab_link": true
    }
  },
  "cells": [
    {
      "cell_type": "markdown",
      "metadata": {
        "id": "view-in-github",
        "colab_type": "text"
      },
      "source": [
        "<a href=\"https://colab.research.google.com/github/cu-applied-math/stem-camp-notebooks/blob/master/2021/MachineLearning/handwritten_digits_sklearn.ipynb\" target=\"_parent\"><img src=\"https://colab.research.google.com/assets/colab-badge.svg\" alt=\"Open In Colab\"/></a>"
      ]
    },
    {
      "cell_type": "markdown",
      "metadata": {
        "id": "l97nYRoSsEoS"
      },
      "source": [
        "## About this tutorial \n",
        "\n",
        "This tutorial is a hands-on introduction to machine learning for beginners. \n",
        "\n",
        "Here, my goal is to help you with a concrete example of image recognition, with just a little bit of code, and no maths. \n",
        "\n",
        "After a short introduction to machine learning, you will learn: \n",
        "\n",
        "* the principles of supervised machine learning for classification,\n",
        "* how to access and validate the training data for your network,\n",
        "* how to create and train your network\n",
        "* how to use the trained and test its performance."
      ]
    },
    {
      "cell_type": "markdown",
      "metadata": {
        "id": "WC2XSzfVsEoV"
      },
      "source": [
        "## Why machine learning? \n",
        "\n",
        "Machine learning is a field of artificial intelligence in which a system is designed to learn automatically given a set of input data. After the system has learnt (we say that the system has been trained), we can use it to make predictions for new data, unseen before. \n",
        "\n",
        "This approach makes it possible to solve complex problems which are difficult or impossible to solve with traditional sequential programming. \n",
        "\n",
        "Examples of machine learning applications include: \n",
        "\n",
        "* autonomous cars: given the data from sensors like cameras and radars, the car is trained to drive on its own. [The one of google still needs to learn about the right lane](https://www.youtube.com/watch?v=TsaES--OTzM) ;-) \n",
        "* drones: the drone pilot only needs to give simple instructions (up, down, left, right, or just 3D coordinates), and the drone automatically performs complex adjustments to keep stability, or to [fly in formation](https://www.youtube.com/watch?v=VnTQTm7vNbY)\n",
        "* [robots](https://www.youtube.com/watch?v=LikxFZZO2sk) \n",
        "* predicting real estate price from a set of variables like location, number of rooms, and even the text of the real estate ad. I'll certainly do a tutorial about that in the near future.\n",
        "* google ads that predict the probability for you to be interested in a given ad to send you the most promising ones\n",
        "* collaborative recommendation systems that give you the youtube videos or amazon products you will like\n",
        "* defect identification on production chains\n",
        "* identification of clusters of like-minded people on the social networks, and of the most important influencers within these groups\n",
        "* tagging photos (just type cat or food in the search box of your google photos library if you have one)\n",
        "* translation systems like [google translate](https://translate.google.fr/?hl=en)\n",
        "* spam email filtering\n",
        "* automatically generate paintings: [deep dream](https://deepdreamgenerator.com/#gallery), [neural doodle](https://github.com/alexjc/neural-doodle)\n",
        "* ..."
      ]
    },
    {
      "cell_type": "markdown",
      "metadata": {
        "id": "eips7B3qsEoW"
      },
      "source": [
        "## Machine learning for classification\n",
        "\n",
        "Let's get a feel for how a neural network can be trained for classification. \n",
        "\n",
        "Our goal is to get started hands on with machine learning fast and easy, so I'm only going to give you a simplified explanation for now.\n",
        "\n",
        "![Supervised learning](https://github.com/cbernet/maldives/raw/master/handwritten_digits_sklearn/supervised_learning.png)\n",
        "\n",
        "The network is presented with a succession of training examples. Each training example consists of: \n",
        "\n",
        "* the image of a digit\n",
        "* a label, which tells us which digit the image truly represents. For a given image, the label could be told to us by the person who wrote the digit in the first place. \n",
        "\n",
        "In the drawing above, the first image is processed by the neural network, which produces an answer: this is a 9. \n",
        "\n",
        "At first, the connections between the neurons in the network are random, and the network is not able to do anything useful. It just provides a random answer. \n",
        "\n",
        "The answer is compared to the label. In this case, the answer (9) is different from the label (the digit is actually a 3), and some feedback is given to the neural network so that it can improve. The connections between the neurons are modified, favoring the ones that tend to give a correct answer. \n",
        "\n",
        "After the modification, the next examples are considered, and the neural network learns in an iterative process. \n",
        "\n",
        "The number of training examples needed to train the network properly could be of the order of a few hundred for networks with a simple architecture, and millions for complex networks.\n",
        "\n",
        "### Packages\n",
        "\n",
        "We will use a variety of tools from [scipy](https://www.scipy.org/), the scientific python library: \n",
        "\n",
        "* [scikit-learn](https://scikit-learn.org/): one of leading machine-learning toolkits for python. It will provide an easy access to the handwritten digits dataset, and allow us to define and train our neural network in a few lines of code\n",
        "* [numpy](http://www.numpy.org/): core package providing powerful tools to manipulate data arrays, such as our digit images\n",
        "* [matplotlib](https://matplotlib.org/): visualization tools, essential to check what we are doing\n",
        "* [jupyter](https://jupyter.org/): the web server that will allow you to follow this tutorial and run the code directly in your web browser. \n",
        "\n",
        "Scipy is actually not a single library, but an \"ecosystem\" of interdependent python packages.\n",
        "\n",
        "You'll train your first neural net easily and in the process, you'll get an understanding of the most important scikit-learn, numpy, and matplotlib tools. That's more than enough for a variety of machine learning tasks, and you can always learn more about specific features of these tools when you need them later on (you'll know!) \n",
        "---"
      ]
    },
    {
      "cell_type": "markdown",
      "metadata": {
        "id": "gq4BaUFcsEoX"
      },
      "source": [
        "Notebook came from: https://github.com/cbernet/maldives/archive/master.zip\n"
      ]
    },
    {
      "cell_type": "markdown",
      "metadata": {
        "id": "N1whWWWPsEoY"
      },
      "source": [
        "## The digits dataset\n",
        "\n",
        "scikit-learn comes with several test datasets. Let's load the handwritten digits dataset:"
      ]
    },
    {
      "cell_type": "code",
      "metadata": {
        "id": "5lvkWiKQsEoZ"
      },
      "source": [
        "from sklearn import datasets\n",
        "digits = datasets.load_digits()"
      ],
      "execution_count": null,
      "outputs": []
    },
    {
      "cell_type": "markdown",
      "metadata": {
        "id": "AYFYhsgAsEoa"
      },
      "source": [
        "In python, the `dir` function returns the names of the attributes of an object, in other words which information is stored in the object in the form of other objects. Let's use this function to check what can be found in the digits object:"
      ]
    },
    {
      "cell_type": "code",
      "metadata": {
        "id": "lbUsDNlVsEoa",
        "outputId": "b08141f1-9bd1-4f1d-ecc4-d070aceaf863"
      },
      "source": [
        "dir(digits)"
      ],
      "execution_count": null,
      "outputs": [
        {
          "output_type": "execute_result",
          "data": {
            "text/plain": [
              "['DESCR', 'data', 'feature_names', 'frame', 'images', 'target', 'target_names']"
            ]
          },
          "metadata": {
            "tags": []
          },
          "execution_count": 2
        }
      ]
    },
    {
      "cell_type": "markdown",
      "metadata": {
        "id": "IM-6K0dbsEob"
      },
      "source": [
        "Let's have a look in more details at some of these attributes. We are going to start by checking their type:"
      ]
    },
    {
      "cell_type": "code",
      "metadata": {
        "id": "hV_2QK0-sEoc",
        "outputId": "6ac4e26c-6fa9-46c6-c03d-2269da702486"
      },
      "source": [
        "print(type(digits.images))\n",
        "print(type(digits.target))"
      ],
      "execution_count": null,
      "outputs": [
        {
          "output_type": "stream",
          "text": [
            "<class 'numpy.ndarray'>\n",
            "<class 'numpy.ndarray'>\n"
          ],
          "name": "stdout"
        }
      ]
    },
    {
      "cell_type": "markdown",
      "metadata": {
        "id": "N5Ghph9GsEoc"
      },
      "source": [
        "`images` and `target` are ndarrays (N-dimensional arrays) from the numpy package. The shape attribute of an ndarray gives the number of dimensions and the size along each dimension of the array. For example:"
      ]
    },
    {
      "cell_type": "code",
      "metadata": {
        "id": "QXoK-QKBsEoc"
      },
      "source": [
        "# TO DO\n",
        "# Get the dimensions of the images"
      ],
      "execution_count": 1,
      "outputs": []
    },
    {
      "cell_type": "markdown",
      "metadata": {
        "id": "w2pVdy2jsEod"
      },
      "source": [
        "digits.image is an array with 3 dimensions. The first dimension indexes images, and we see that we have 1797 images in total. The next two dimensions correspond to the x and y coordinates of the pixels in each image. Each image has 8x8 = 64 pixels. In other words, this array could be represented in 3D as a pile of images with 8x8 pixels each. "
      ]
    },
    {
      "cell_type": "markdown",
      "metadata": {
        "id": "m-pYx9QqsEod"
      },
      "source": [
        "let's look at the data of the first 8x8 image. Each slot in the array corresponds to a pixel, and the value in the slot is the amount of black in the pixel"
      ]
    },
    {
      "cell_type": "code",
      "metadata": {
        "id": "aKnxm0SFsEod",
        "outputId": "cc6297ca-d329-4320-ab4e-828f359eda79"
      },
      "source": [
        "print(digits.images[0])"
      ],
      "execution_count": null,
      "outputs": [
        {
          "output_type": "stream",
          "text": [
            "[[ 0.  0.  5. 13.  9.  1.  0.  0.]\n",
            " [ 0.  0. 13. 15. 10. 15.  5.  0.]\n",
            " [ 0.  3. 15.  2.  0. 11.  8.  0.]\n",
            " [ 0.  4. 12.  0.  0.  8.  8.  0.]\n",
            " [ 0.  5.  8.  0.  0.  9.  8.  0.]\n",
            " [ 0.  4. 11.  0.  1. 12.  7.  0.]\n",
            " [ 0.  2. 14.  5. 10. 12.  0.  0.]\n",
            " [ 0.  0.  6. 13. 10.  0.  0.  0.]]\n"
          ],
          "name": "stdout"
        }
      ]
    },
    {
      "cell_type": "markdown",
      "metadata": {
        "id": "uvSpO-ALsEod"
      },
      "source": [
        "Now let's display this image: (try rerunning this cell if you don't see the image)"
      ]
    },
    {
      "cell_type": "code",
      "metadata": {
        "id": "9HpcU94IsEod",
        "outputId": "6312f98b-3139-48fe-c703-c228333c163b"
      },
      "source": [
        "import matplotlib.pyplot as plt\n",
        "# TO DO: display the image"
      ],
      "execution_count": null,
      "outputs": [
        {
          "output_type": "display_data",
          "data": {
            "text/plain": [
              "<Figure size 432x288 with 1 Axes>"
            ],
            "image/png": "[encoded data removed]"
          },
          "metadata": {
            "tags": [],
            "needs_background": "light"
          }
        }
      ]
    },
    {
      "cell_type": "markdown",
      "metadata": {
        "id": "imvTiQZUsEoe"
      },
      "source": [
        "The image is low resolution. The original digits were of much higher resolution, and the resolution has been decreased when creating the dataset for scikit-learn to make it easier and faster to train a machine learning algorithm to recognize these digits. \n",
        "\n",
        "Now let's investigate the target attribute: "
      ]
    },
    {
      "cell_type": "code",
      "metadata": {
        "scrolled": false,
        "id": "BNDeTBr7sEoe",
        "outputId": "79a86d94-ffa7-4d2e-9bfc-ee4b8511663b"
      },
      "source": [
        "print(digits.target.shape)\n",
        "print(digits.target)"
      ],
      "execution_count": null,
      "outputs": [
        {
          "output_type": "stream",
          "text": [
            "(1797,)\n",
            "[0 1 2 ... 8 9 8]\n"
          ],
          "name": "stdout"
        }
      ]
    },
    {
      "cell_type": "markdown",
      "metadata": {
        "id": "9wCG7yGSsEoe"
      },
      "source": [
        "It is a 1-dimensional array with 1797 slots. Looking into the array, we see that it contains the true numbers corresponding to each image. For example, the first target is 0, and corresponds to the image drawn just above. "
      ]
    },
    {
      "cell_type": "markdown",
      "metadata": {
        "id": "h-zxLqzLsEoe"
      },
      "source": [
        "Let's have a look at some more images using this function: "
      ]
    },
    {
      "cell_type": "code",
      "metadata": {
        "id": "pvaNjdVPsEoe"
      },
      "source": [
        "def plot_multi(i):\n",
        "    '''Plots 16 digits, starting with digit i'''\n",
        "    nplots = 16\n",
        "    fig = plt.figure(figsize=(15,15))\n",
        "    for j in range(nplots):\n",
        "        plt.subplot(4,4,j+1)\n",
        "        plt.imshow(digits.images[i+j], cmap='binary')\n",
        "        plt.title(digits.target[i+j])\n",
        "        plt.axis('off')\n",
        "    plt.show()"
      ],
      "execution_count": null,
      "outputs": []
    },
    {
      "cell_type": "code",
      "metadata": {
        "scrolled": true,
        "id": "cv-Wt04usEof",
        "outputId": "e94d27f9-0e59-477d-e0c5-44df987572b7"
      },
      "source": [
        "plot_multi(0)"
      ],
      "execution_count": null,
      "outputs": [
        {
          "output_type": "display_data",
          "data": {
            "text/plain": [
              "<Figure size 1080x1080 with 16 Axes>"
            ],
            "image/png": "[encoded data removed]"
          },
          "metadata": {
            "tags": [],
            "needs_background": "light"
          }
        }
      ]
    },
    {
      "cell_type": "markdown",
      "metadata": {
        "id": "NOjLeyZlsEof"
      },
      "source": [
        "you can have a look at the next digits by calling `plot_multi(16)`, `plot_multi(32)`, etc. You will probably see that with such a low resolution, it's quite difficult to recognize some of the digits, even for a human. In these conditions, our neural network will also be limited by the low quality of the input images. Can the neural network perform at least as well as a human? It would already be an achievement! "
      ]
    },
    {
      "cell_type": "markdown",
      "metadata": {
        "id": "DA1jJ6dusEof"
      },
      "source": [
        "## Building the network and preparing the input data"
      ]
    },
    {
      "cell_type": "markdown",
      "metadata": {
        "id": "pTqiyWPksEof"
      },
      "source": [
        "With [scikit-learn](https://scikit-learn.org), creating, training, and evaluating a neural network can be done with only a few lines of code. \n",
        "\n",
        "We will make a very simple neural network, with three layers: \n",
        "\n",
        "* an input layer, with 64 nodes, one node per pixel in the input images. Nodes are neurons that actually do nothing. They just take their input value and send it to the neurons of the next layer\n",
        "* a hidden layer with 15 neurons. We could choose a different number, and also add more hidden layers with different numbers of neurons\n",
        "* an output layer with 10 neurons corresponding to our 10 classes of digits, from 0 to 9. \n",
        "\n",
        "This is a *dense* neural network, which means that each node in each layer is connected to all nodes in the previous and next layers. "
      ]
    },
    {
      "cell_type": "markdown",
      "metadata": {
        "id": "mHYGdeiysEof"
      },
      "source": [
        "![Simple dense network](https://github.com/cbernet/maldives/raw/master/handwritten_digits_sklearn/simple_dense.png)"
      ]
    },
    {
      "cell_type": "markdown",
      "metadata": {
        "id": "jf5zjcwVsEog"
      },
      "source": [
        "The input layer requires a 1-dimensional array in input, but our images are 2D. So we need to flatten all images:"
      ]
    },
    {
      "cell_type": "code",
      "metadata": {
        "id": "VWoPeP0ysEog",
        "outputId": "501cf391-cc5b-4c76-c32e-6fb2efd45174"
      },
      "source": [
        "y = digits.target\n",
        "x = digits.images.reshape((len(digits.images), -1))\n",
        "x.shape"
      ],
      "execution_count": null,
      "outputs": [
        {
          "output_type": "execute_result",
          "data": {
            "text/plain": [
              "(1797, 64)"
            ]
          },
          "metadata": {
            "tags": []
          },
          "execution_count": 16
        }
      ]
    },
    {
      "cell_type": "markdown",
      "metadata": {
        "id": "hjyQm6jJsEoh"
      },
      "source": [
        "We now have 1797 flattened images. The two dimensions of our 8x8 images have been collapsed into a single dimension by  writing the rows of 8 pixels as they come, one after the other. The first image that we looked at earlier is now represented by a 1-D array with 8x8 = 64 slots. Please check that the values below are the same as in the original 2-D image. "
      ]
    },
    {
      "cell_type": "code",
      "metadata": {
        "scrolled": true,
        "id": "YlYr3Y8HsEoh",
        "outputId": "22311d67-8a03-4d25-c81a-f6e6ed16ac78"
      },
      "source": [
        "x[0]"
      ],
      "execution_count": null,
      "outputs": [
        {
          "output_type": "execute_result",
          "data": {
            "text/plain": [
              "array([ 0.,  0.,  5., 13.,  9.,  1.,  0.,  0.,  0.,  0., 13., 15., 10.,\n",
              "       15.,  5.,  0.,  0.,  3., 15.,  2.,  0., 11.,  8.,  0.,  0.,  4.,\n",
              "       12.,  0.,  0.,  8.,  8.,  0.,  0.,  5.,  8.,  0.,  0.,  9.,  8.,\n",
              "        0.,  0.,  4., 11.,  0.,  1., 12.,  7.,  0.,  0.,  2., 14.,  5.,\n",
              "       10., 12.,  0.,  0.,  0.,  0.,  6., 13., 10.,  0.,  0.,  0.])"
            ]
          },
          "metadata": {
            "tags": []
          },
          "execution_count": 17
        }
      ]
    },
    {
      "cell_type": "markdown",
      "metadata": {
        "id": "XuoulfUXsEoh"
      },
      "source": [
        "let's now split our data into a training sample and a testing sample:"
      ]
    },
    {
      "cell_type": "code",
      "metadata": {
        "id": "Wv-p4SCysEoi"
      },
      "source": [
        "x_train = x[:1000]\n",
        "y_train = y[:1000]\n",
        "x_test = x[1000:]\n",
        "y_test = y[1000:]"
      ],
      "execution_count": null,
      "outputs": []
    },
    {
      "cell_type": "markdown",
      "metadata": {
        "id": "XI2EwSb3sEoi"
      },
      "source": [
        "The first 1000 images and labels are going to be used for training. The rest of the dataset will be used later to test the performance of our network. "
      ]
    },
    {
      "cell_type": "markdown",
      "metadata": {
        "id": "6qSF7ZVrsEoi"
      },
      "source": [
        "We can now create the neural network. We use one hidden layers with 15 neurons, and scikit-learn is smart enough to find out how many numbers to use in the input and output layers. Don't pay attention to the other parameters, we'll cover that in future posts."
      ]
    },
    {
      "cell_type": "code",
      "metadata": {
        "id": "JkrKom7-sEoi"
      },
      "source": [
        "from sklearn.neural_network import MLPClassifier\n",
        "\n",
        "# Notice we have an object which is an instance of the class MLPClassifier\n",
        "mlp = MLPClassifier(hidden_layer_sizes=(15,), activation='logistic', alpha=1e-4,\n",
        "                    solver='sgd', tol=1e-4, random_state=1,\n",
        "                    learning_rate_init=.1, verbose=True)\n"
      ],
      "execution_count": null,
      "outputs": []
    },
    {
      "cell_type": "markdown",
      "metadata": {
        "id": "qo9pIljWsEoi"
      },
      "source": [
        "Finally, we can train the neural network: "
      ]
    },
    {
      "cell_type": "code",
      "metadata": {
        "id": "5UkWFps9sEoi"
      },
      "source": [
        "# TO DO: \n",
        "# fit the model"
      ],
      "execution_count": 2,
      "outputs": []
    },
    {
      "cell_type": "markdown",
      "metadata": {
        "id": "tosEgYlgsEoj"
      },
      "source": [
        "The training was extremely fast because the neural network is simple and the input dataset is small. Now that the network has been trained, let's see what it can say about our test images:"
      ]
    },
    {
      "cell_type": "code",
      "metadata": {
        "id": "ACOiEO-ssEoj",
        "outputId": "7ef76346-d6f0-48b5-9123-1835ad44a098"
      },
      "source": [
        "predictions = mlp.predict(x_test)\n",
        "predictions[:50] \n",
        "# we just look at the 1st 50 examples in the test sample"
      ],
      "execution_count": null,
      "outputs": [
        {
          "output_type": "execute_result",
          "data": {
            "text/plain": [
              "array([1, 4, 0, 5, 3, 6, 9, 6, 1, 7, 5, 4, 4, 7, 2, 8, 2, 2, 5, 7, 9, 5,\n",
              "       4, 4, 9, 0, 8, 9, 8, 0, 1, 2, 3, 4, 5, 6, 7, 8, 3, 0, 1, 2, 3, 4,\n",
              "       5, 6, 7, 8, 5, 0])"
            ]
          },
          "metadata": {
            "tags": []
          },
          "execution_count": 21
        }
      ]
    },
    {
      "cell_type": "markdown",
      "metadata": {
        "id": "Hv7-iLjQsEoj"
      },
      "source": [
        "These predictions should be fairly close to the targets of our training sample. Let's check by eye (please compare the values of these arrays)"
      ]
    },
    {
      "cell_type": "code",
      "metadata": {
        "id": "mndGnTfSsEoj",
        "outputId": "414389ac-24c7-4920-a176-223ec91f03ff"
      },
      "source": [
        "y_test[:50] \n",
        "# true labels for the 1st 50 examples in the test sample"
      ],
      "execution_count": null,
      "outputs": [
        {
          "output_type": "execute_result",
          "data": {
            "text/plain": [
              "array([1, 4, 0, 5, 3, 6, 9, 6, 1, 7, 5, 4, 4, 7, 2, 8, 2, 2, 5, 7, 9, 5,\n",
              "       4, 4, 9, 0, 8, 9, 8, 0, 1, 2, 3, 4, 5, 6, 7, 8, 9, 0, 1, 2, 3, 4,\n",
              "       5, 6, 7, 8, 9, 0])"
            ]
          },
          "metadata": {
            "tags": []
          },
          "execution_count": 22
        }
      ]
    },
    {
      "cell_type": "markdown",
      "metadata": {
        "id": "J8FXTbbzsEoj"
      },
      "source": [
        "Not bad! we see that most (if not all) predictions match the true labels. We can also visually inspect the results of the predictions below."
      ]
    },
    {
      "cell_type": "code",
      "metadata": {
        "id": "gUCY5BBnsEok",
        "outputId": "d7b1d372-af54-4a8f-a1ec-b6f32a467cb7"
      },
      "source": [
        "img_num = 7\n",
        "plt.imshow(x_test[img_num].reshape(8,8))\n",
        "plt.title(\"predicted: {}, true: {}\".format(predictions[img_num], y_test[img_num]))\n",
        "plt.show()"
      ],
      "execution_count": null,
      "outputs": [
        {
          "output_type": "display_data",
          "data": {
            "text/plain": [
              "<Figure size 432x288 with 1 Axes>"
            ],
            "image/png": "[encoded data removed]"
          },
          "metadata": {
            "tags": [],
            "needs_background": "light"
          }
        }
      ]
    },
    {
      "cell_type": "markdown",
      "metadata": {
        "id": "QJipI6ilsEok"
      },
      "source": [
        "But can we be a bit more quantitative? We can compute the accuracy of the classifier, which the probability for a digit to be classified in the right category. Again, scikit-learn comes with a handy tool to do that: "
      ]
    },
    {
      "cell_type": "code",
      "metadata": {
        "scrolled": true,
        "id": "BTEI5jg4sEok",
        "outputId": "6b4752ab-7b0d-4d67-f255-4d773a067781"
      },
      "source": [
        "from sklearn.metrics import accuracy_score\n",
        "# Get the accuracy of the model using accuracy_score"
      ],
      "execution_count": null,
      "outputs": [
        {
          "output_type": "execute_result",
          "data": {
            "text/plain": [
              "0.9146800501882058"
            ]
          },
          "metadata": {
            "tags": []
          },
          "execution_count": 37
        }
      ]
    },
    {
      "cell_type": "markdown",
      "metadata": {
        "id": "OIFOrFErsEok"
      },
      "source": [
        "This number is the probability for the digits in the test sample to be classified in the right category, meaning that we get 91.6% of the digits right, and 8.4% wrong. \n",
        "\n",
        "**We managed to get an 91.6% accuracy with this very simple neural network. Not too bad!**\n",
        "\n",
        "However, this is only a first try.  "
      ]
    },
    {
      "cell_type": "markdown",
      "metadata": {
        "id": "qhFRbKVzsEol"
      },
      "source": [
        "## Conclusion and outlook"
      ]
    },
    {
      "cell_type": "markdown",
      "metadata": {
        "id": "55uD0peIsEol"
      },
      "source": [
        "In this hands-on tutorial, you have learned: \n",
        "\n",
        "* The principles of supervised machine learning for classification,\n",
        "* How to investigate about your input dataset,\n",
        "* How to train a neural network for image recognition, reaching an accuracy larger than 90% for digit classification.\n",
        "\n",
        "It's only the beginning!"
      ]
    },
    {
      "cell_type": "markdown",
      "metadata": {
        "id": "751fLMMWsEon"
      },
      "source": [
        ""
      ]
    }
  ]
}