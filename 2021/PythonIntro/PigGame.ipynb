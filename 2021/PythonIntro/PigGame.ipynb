{
 "cells": [
  {
   "cell_type": "markdown",
   "id": "af983e71",
   "metadata": {
    "colab_type": "text",
    "id": "view-in-github"
   },
   "source": [
    "<a href=\"https://colab.research.google.com/github/cu-applied-math/stem-camp-notebooks/blob/master/notebooks/Python_Intro_Game_Notebooks/PigGame.ipynb\" target=\"_parent\"><img src=\"https://colab.research.google.com/assets/colab-badge.svg\" alt=\"Open In Colab\"/></a>"
   ]
  },
  {
   "cell_type": "markdown",
   "id": "e9bac856",
   "metadata": {
    "colab_type": "text",
    "id": "IiiEQp92DI8E"
   },
   "source": [
    "# Pig Game"
   ]
  },
  {
   "cell_type": "markdown",
   "id": "b5f35d29",
   "metadata": {
    "colab_type": "text",
    "id": "s9x4crTRDBbB"
   },
   "source": [
    "This builds on the [Guess-a-number game](https://github.com/cu-applied-math/stem-camp-notebooks/blob/master/notebooks/Python_Intro_Game_Notebooks/Guess%20the%20Number%20Game.ipynb), so we recommend you do that first\n",
    "\n",
    "Activities:\n",
    "\n",
    "To start with, read about the game of PIG at [wikipedia](https://en.wikipedia.org/wiki/Pig_(dice_game). The game has two players take turns playing rounds until one player reaches a score of 100. For now, let's start by examining what happens at a single round. At a round, the player rolls the dice and gets a 1, 2, 3, 4, 5 or 6. If they get a 1, their turn is over; otherwise, they get the score of the dice. Then they can choose to \"hit\" (and roll again), or \"stay\" (and end their turn). If they hit and get a 1, they lose all the points they've earned in that round. If they stay, then they keep all the points, but can't earn any more points as their round is over.\n",
    "\n"
   ]
  },
  {
   "cell_type": "markdown",
   "id": "ea6dc25f",
   "metadata": {
    "colab_type": "text",
    "id": "idAXLUfV1Q77"
   },
   "source": [
    "For now, only worry about 1 round of the game. First, simulate a round, where the user (you!) provides the decision about when to quit."
   ]
  },
  {
   "cell_type": "code",
   "execution_count": 1,
   "id": "837fc887",
   "metadata": {
    "colab": {
     "base_uri": "https://localhost:8080/",
     "height": 34
    },
    "colab_type": "code",
    "id": "NyD-3CvOEJoC",
    "outputId": "5635abeb-f945-4bb7-b85e-55f7dc4c3523"
   },
   "outputs": [
    {
     "data": {
      "text/plain": [
       "2"
      ]
     },
     "execution_count": 1,
     "metadata": {
      "tags": []
     },
     "output_type": "execute_result"
    }
   ],
   "source": [
    "# It might be useful to draw random integers from 1 to 6. You can do that with:\n",
    "import random  # only need to run this once\n",
    "\n",
    "# -- These might be useful functions to use --\n",
    "# random.randint(1,6)\n",
    "# input()"
   ]
  },
  {
   "cell_type": "markdown",
   "id": "c3a999ca",
   "metadata": {
    "colab_type": "text",
    "id": "HVd5uOjg1nIS"
   },
   "source": [
    "Now, think of a concrete strategy that you could implement a computer to play; that is, make an **algorithm** to play (still just one round)."
   ]
  },
  {
   "cell_type": "code",
   "execution_count": null,
   "id": "17621bd2",
   "metadata": {
    "colab": {},
    "colab_type": "code",
    "id": "HE-ZlaPR15SM"
   },
   "outputs": [],
   "source": []
  },
  {
   "cell_type": "markdown",
   "id": "2b8f4b22",
   "metadata": {
    "colab_type": "text",
    "id": "RR9V7t1S16AU"
   },
   "source": [
    "Now, take your strategy, and play the game hundreds or thousands of times. What is the expected score you have?  At this point, you can try modifying your strategy to see which ones perform better.  Note: if your strategy averages less than 8 points in a round, you can probably do better!"
   ]
  },
  {
   "cell_type": "code",
   "execution_count": null,
   "id": "8b550f32",
   "metadata": {
    "colab": {},
    "colab_type": "code",
    "id": "SAUV5s_12FPe"
   },
   "outputs": [],
   "source": []
  },
  {
   "cell_type": "markdown",
   "id": "2966783c",
   "metadata": {
    "colab_type": "text",
    "id": "lBCzKxMZ2F7w"
   },
   "source": [
    "Some ideas of strategies: always play for $N$ rounds, or, play until your current score reaches a threshold $T$."
   ]
  },
  {
   "cell_type": "markdown",
   "id": "d852fa67",
   "metadata": {
    "colab_type": "text",
    "id": "jbK-d5h32RSd"
   },
   "source": [
    "## Playing the full game\n",
    "Now, let's have to players play against each other, trying to reach 100 points first.  Make a framework that allows for two players (well, strategies) to play against each other.  That is, have two algorithms compete.\n",
    "\n",
    "We need to agree on a protocol for what a strategy looks like.  Let's agree on the following:"
   ]
  },
  {
   "cell_type": "code",
   "execution_count": null,
   "id": "e9f5c70b",
   "metadata": {
    "colab": {},
    "colab_type": "code",
    "id": "M-byO6Uj3CrD"
   },
   "outputs": [],
   "source": [
    "nextMove = {'hold':0, 'keepRolling': 1 }\n",
    "def myStrategy(scoreOfCurrentRound, yourExistingScore, opponentsExistingScore, numberOfRollsAtCurrentRound, numberOfRoundsSoFar):\n",
    "  ...\n",
    "  # Note: many strategies will not make use of all these variables!\n",
    "  # If your strategy is to always do 3 rolls, then you would just be:\n",
    "  if numberOfRollsAtCurrentRound <= 3:\n",
    "    return nextMove['keeprolling']\n",
    "  else:\n",
    "    return nextMove['hold']\n"
   ]
  },
  {
   "cell_type": "markdown",
   "id": "56d4dd66",
   "metadata": {
    "colab_type": "text",
    "id": "KwHK9Ljk4QQ4"
   },
   "source": [
    "Now make the simulation to have two different strategies compete.  You control the simulation; at every step of a round, you give the strategy the information it needs, and the strategy returns with either a 0 (=hold) or a 1 (=keep rolling)"
   ]
  },
  {
   "cell_type": "code",
   "execution_count": null,
   "id": "ed28ef1e",
   "metadata": {
    "colab": {},
    "colab_type": "code",
    "id": "WnYwTQft4coB"
   },
   "outputs": [],
   "source": []
  },
  {
   "cell_type": "markdown",
   "id": "5254923e",
   "metadata": {
    "colab_type": "text",
    "id": "R29g_WipmW47"
   },
   "source": [
    "## Doing some math\n",
    "For how to algorithmically compute the best strategies, see [Optimal Play of the Dice Game Pig, by Todd W. Neller and Clifton G.M. Presser 2004](https://cupola.gettysburg.edu/cgi/viewcontent.cgi?article=1003&context=csfac)\n",
    "\n",
    "For practical strategies, see [Practical Play of the Dice Game Pig, by Todd W. Neller and Clifton G.M. Presser 2010](http://cs.gettysburg.edu/~tneller/papers/umap10.pdf)\n",
    "\n",
    "Depends on your opponent's strategy of course... the above techniques are for playing against an optimal opponent, and suggest rules of thumb like\n",
    "\"If either player’s score is 71 or higher, roll for the goal. Otherwise, hold\n",
    "at 21 + round((j-i)/8) where j is your opponent's score and i is your score.\""
   ]
  },
  {
   "cell_type": "markdown",
   "id": "6bca3e1c",
   "metadata": {
    "colab_type": "text",
    "id": "J3Pf1-Jcmcvv"
   },
   "source": [
    "Now let's do some math.  Let's only look at a single turn, and not take into account the entire game.  When should you hit and when should you hold?\n",
    "\n",
    "Let's compute how much you expect to have after your decision, conditioned on how much you have before the decision.  Let $t$ be the turn-total --- that is, how much you have current at your turn.\n",
    "\n",
    "Let $X$ be the random variable for your turn-total *after* your decision.\n",
    "\n",
    "Then if you hold, $\\mathbb{E}[X|t] = t$.\n",
    "\n",
    "If you hit, then \n",
    "$$\\mathbb{E}[X|t] = 0\\cdot \\frac{1}{6} + (t+2)\\frac{1}{6}+ (t+3)\\frac{1}{6}+ (t+4)\\frac{1}{6}+ (t+5)\\frac{1}{6}+ (t+6)\\frac{1}{6} = \\frac{5t+20}{6}\n",
    "$$\n",
    "Then the expected value for hitting is better than for holding when $ \\frac{5t+20}{6} > t $. \n",
    "\n",
    "Todo: plot this and find at what score $t$ you should hit or hold"
   ]
  },
  {
   "cell_type": "code",
   "execution_count": null,
   "id": "ee737eb7",
   "metadata": {
    "colab": {},
    "colab_type": "code",
    "id": "aE5A3H-mESwW"
   },
   "outputs": [],
   "source": [
    "import matplotlib.pyplot as plt\n",
    "plt.style.use('seaborn-whitegrid')\n",
    "import numpy as np\n",
    "\n",
    "fig = plt.figure()\n",
    "ax = plt.axes()\n",
    "\n",
    "t = np.arange(1,30)\n",
    "x = ...\n",
    "ax.plot(...)\n",
    "ax.plot(...)\n",
    "ax.legend()"
   ]
  },
  {
   "cell_type": "markdown",
   "id": "e42ce616",
   "metadata": {
    "colab_type": "text",
    "id": "TF2i65qq4jPQ"
   },
   "source": [
    "### Statistical significance\n",
    "If one strategy beats another strategy in, say, 505 games out of 1000 total games, can you be sure it's a better strategy, or is this due to chance? Can you conclude if you have a really good strategy?"
   ]
  },
  {
   "cell_type": "code",
   "execution_count": null,
   "id": "95bd6946",
   "metadata": {
    "colab": {},
    "colab_type": "code",
    "id": "a5k5JjmZ4rEB"
   },
   "outputs": [],
   "source": [
    "from scipy.stats import binom\n",
    "# binom.cdf  # might be useful"
   ]
  }
 ],
 "metadata": {
  "colab": {
   "authorship_tag": "ABX9TyP8pjSkJ4xIcsTK+yPP9lqR",
   "collapsed_sections": [],
   "include_colab_link": true,
   "name": "PigGame.ipynb",
   "provenance": []
  },
  "kernelspec": {
   "display_name": "Python 3",
   "name": "python3"
  }
 },
 "nbformat": 4,
 "nbformat_minor": 5
}
