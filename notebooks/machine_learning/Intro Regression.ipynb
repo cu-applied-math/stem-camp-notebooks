{
  "nbformat": 4,
  "nbformat_minor": 0,
  "metadata": {
    "kernelspec": {
      "display_name": "Python 3",
      "language": "python",
      "name": "python3"
    },
    "language_info": {
      "codemirror_mode": {
        "name": "ipython",
        "version": 3
      },
      "file_extension": ".py",
      "mimetype": "text/x-python",
      "name": "python",
      "nbconvert_exporter": "python",
      "pygments_lexer": "ipython3",
      "version": "3.6.4"
    },
    "colab": {
      "name": "Intro Regression.ipynb",
      "provenance": [],
      "include_colab_link": true
    }
  },
  "cells": [
    {
      "cell_type": "markdown",
      "metadata": {
        "id": "view-in-github",
        "colab_type": "text"
      },
      "source": [
        "<a href=\"https://colab.research.google.com/github/cu-applied-math/stem-camp-notebooks/blob/student-colab/notebooks/machine_learning/Intro%20Regression.ipynb\" target=\"_parent\"><img src=\"https://colab.research.google.com/assets/colab-badge.svg\" alt=\"Open In Colab\"/></a>"
      ]
    },
    {
      "cell_type": "markdown",
      "metadata": {
        "id": "MxnZy4HRFoq5",
        "colab_type": "text"
      },
      "source": [
        "# Simple Linear Regression"
      ]
    },
    {
      "cell_type": "markdown",
      "metadata": {
        "id": "BCu-szTOFoq6",
        "colab_type": "text"
      },
      "source": [
        "In this module we will learn how to use data to learn a *trend* and use this trend to predict new observations. First we load the base libraries. \n",
        "\n",
        "\n",
        "---\n",
        "\n"
      ]
    },
    {
      "cell_type": "code",
      "metadata": {
        "id": "6nUTUPQPFoq6",
        "colab_type": "code",
        "colab": {}
      },
      "source": [
        "import csv\n",
        "import numpy as np\n",
        "import scipy as sp\n",
        "import pandas as pd\n",
        "import sklearn as sk\n",
        "import matplotlib.pyplot as plt\n",
        "from IPython.display import Image\n",
        "\n",
        "print('csv: {}'.format(csv.__version__))\n",
        "print('numpy: {}'.format(np.__version__))\n",
        "print('scipy: {}'.format(sp.__version__))\n",
        "print('pandas: {}'.format(pd.__version__))\n",
        "print('sklearn: {}'.format(sk.__version__))"
      ],
      "execution_count": null,
      "outputs": []
    },
    {
      "cell_type": "markdown",
      "metadata": {
        "id": "zaLcaZEjFoq-",
        "colab_type": "text"
      },
      "source": [
        "The easiest way to learn how regression works is by thinking about an example. Consider an imaginary dataset of buildings built in Denver containing three pieces of information for each building: the year it was built, the number of stories, and the building's total height in feet. \n",
        "\n",
        "It might seem obvious that the more stories a building has, the taller it is in feet, and vice versa. Linear regression exploits this idea. Let's say I'm a professor researching buildings and stories, and I want to use the # of stories in a building to estimate its height in feet. I can easily stand outside a building and see how many stories it has, but my tape measurer won't reach many of the roofs in Denver. I do know that the two-story building I live in is right around 20 feet high. My idea is to take the number of stories, and multiply by 10.something, but I'm not sure this will work for other buildings (commercial and industrial buildings for example).\n",
        "\n",
        "I lament to my friends, and by a stroke of incredible luck one of my pals happens to have an old dataset lying around that contains the information I need! His parchment has records of 60 random buildings in Denver built from 1907 to 1992. Inspecting the first few entries of the parchment:\n",
        "\n",
        "| Year      | Height (feet) | Number of stories     |\n",
        "| :---        |    :----:   |          ---: |\n",
        "| 1974      | 770       | 54   |\n",
        "| 1948   | 677        | 47      |\n",
        "| 1985   | 428        | 28      |\n",
        "\n",
        " \n",
        "It seems I may need to multiply by more than 10. Taking the first observations and dividing the height by the number of stories for the first three entries gives about 14.3, 14.4, and 15.3 feet per story, respectively. How can I combine all 60 observations to get a good answer? One could naively just take the average of all of these numbers, but in higher dimensions this doesn't work. To help, we have a statistical technique called linear regression. I can use regression to find a good number to multiply the number of stories by (call it $\\beta$), and I hope this will help me get an accurate prediction for the height. I know this height will not be exactly right, so there is some error in each prediction. If I write this all out, we have  \n",
        "\n",
        "$$ \\operatorname{(height)} = \\operatorname{(\\# of stories)} \\cdot \\beta + \\epsilon$$\n",
        "\n",
        "$$ y = X \\beta + \\epsilon $$\n",
        "\n",
        "From algebra, we know this is a linear equation, where $\\beta$ is the slope of the line. Linear regression actually seeks to minimize the errors $\\epsilon$ (the mean squared error). The plot in the link shows the linear regression line, the data it was estimated from, and the errors or deviations $\\epsilon$ for each data point."
      ]
    },
    {
      "cell_type": "code",
      "metadata": {
        "id": "H8IN4wJIFoq_",
        "colab_type": "code",
        "colab": {},
        "outputId": "331b827c-5553-4f94-fe08-38e41d663d04"
      },
      "source": [
        "Image(url='http://www.radford.edu/~rsheehy/Gen_flash/Tutorials/Linear_Regression/reg-tut_files/linreg3.gif')"
      ],
      "execution_count": null,
      "outputs": [
        {
          "output_type": "execute_result",
          "data": {
            "text/html": [
              "<img src=\"http://www.radford.edu/~rsheehy/Gen_flash/Tutorials/Linear_Regression/reg-tut_files/linreg3.gif\"/>"
            ],
            "text/plain": [
              "<IPython.core.display.Image object>"
            ]
          },
          "metadata": {
            "tags": []
          },
          "execution_count": 2
        }
      ]
    },
    {
      "cell_type": "markdown",
      "metadata": {
        "id": "M7Na1jyYForB",
        "colab_type": "text"
      },
      "source": [
        "But we can learn about the math later. Let's think about other interesting questions. Which would be better for predicting: would # of stories help predict height in feet better than height would predict # of stories? \n",
        "\n",
        "Say we decide to predict height using the # of stories. Since we are using one piece of information to predict another, this is called *simple linear regression.* \n",
        "\n",
        "Would incorporating the year the building was built help me make a better prediction? This would be an example of *multiple regression* since we would use two pieces of (or more) information to predict.\n",
        "\n",
        "Okay now its time to go back to python. We will import the data file, get an initial look at the data using pandas functions, and then fit some linear regression models using scikit-learn."
      ]
    },
    {
      "cell_type": "markdown",
      "metadata": {
        "id": "7_az_sUsForC",
        "colab_type": "text"
      },
      "source": [
        "The dataset is in a .csv file, which we need to import. You may have already seen this, but we can use the python standard library function csv.reader, numpy.loadtxt, or pandas.read_csv to import the data. We show all three just as a reminder, but we keep the data as a pandas DataFrame object."
      ]
    },
    {
      "cell_type": "code",
      "metadata": {
        "id": "9R-7sJJGForD",
        "colab_type": "code",
        "colab": {}
      },
      "source": [
        "#filename = '/Users/jessicagronski/Downloads/bldgstories1.csv'\n",
        "filename = 'https://github.com/cu-applied-math/stem-camp-notebooks/raw/student-colab/notebooks/machine_learning/data/bldgstories2.csv'\n",
        "\n",
        "# Method 1\n",
        "#raw_data = open(filename, 'rt')\n",
        "#reader = csv.reader(raw_data, delimiter=',', quoting=csv.QUOTE_NONE)\n",
        "#x = list(reader)\n",
        "#data = np.array(x).astype('float')\n",
        "\n",
        "# Method 2: Load CSV with numpy\n",
        "#import numpy\n",
        "#raw_data = open(filename, 'rb')\n",
        "#data = numpy.loadtxt(raw_data, delimiter=\",\")\n",
        "\n",
        "# Method 3: Load CSV using Pandas\n",
        "import pandas\n",
        "colnames = ['year', 'height', 'stories']\n",
        "data = pandas.read_csv(filename, names=colnames)\n",
        "data = pandas.DataFrame(data, columns=colnames)"
      ],
      "execution_count": 2,
      "outputs": []
    },
    {
      "cell_type": "markdown",
      "metadata": {
        "id": "BAFjC8-JForF",
        "colab_type": "text"
      },
      "source": [
        "# Know Your Data\n",
        "\n",
        "Now we inspect the DataFrame using some numpy functions you have already learned such as shape, head, dtypes, corr, and skew functions. Find more methods associated with DataFrame objects!"
      ]
    },
    {
      "cell_type": "code",
      "metadata": {
        "id": "vIuriCDjForG",
        "colab_type": "code",
        "colab": {}
      },
      "source": [
        "print('Dimensions:')\n",
        "print(data.shape)\n",
        "print('Six observations:')\n",
        "print(data.head(6))\n",
        "print('Correlation matrix:')\n",
        "correlations = data.corr(method='pearson')\n",
        "print(correlations)"
      ],
      "execution_count": null,
      "outputs": []
    },
    {
      "cell_type": "markdown",
      "metadata": {
        "id": "tVNIkygZForI",
        "colab_type": "text"
      },
      "source": [
        "Remember we can acces the five number summary + some using the describe function."
      ]
    },
    {
      "cell_type": "code",
      "metadata": {
        "id": "ZlKdgSDMForI",
        "colab_type": "code",
        "colab": {}
      },
      "source": [
        "pandas.set_option('precision', 3)\n",
        "description = data.describe()\n",
        "print(description)"
      ],
      "execution_count": null,
      "outputs": []
    },
    {
      "cell_type": "markdown",
      "metadata": {
        "id": "OmhZJ_8MForL",
        "colab_type": "text"
      },
      "source": [
        "# Regression Model\n",
        "\n",
        "We fit a linear regression model below. We try to use height to predict the number of stories in a building."
      ]
    },
    {
      "cell_type": "code",
      "metadata": {
        "id": "MaX7JYTLForL",
        "colab_type": "code",
        "colab": {}
      },
      "source": [
        "from sklearn import linear_model\n",
        "obj = linear_model.LinearRegression()\n",
        "obj.fit(np.array(data.height.values.reshape(-1,1)), data.stories )#need this values.reshape(-1,1) to avoid deprecation warnings\n",
        "print( obj.coef_, obj.intercept_ )"
      ],
      "execution_count": null,
      "outputs": []
    },
    {
      "cell_type": "markdown",
      "metadata": {
        "id": "5nDZVFmdForO",
        "colab_type": "text"
      },
      "source": [
        "We show the data and the regression lines."
      ]
    },
    {
      "cell_type": "code",
      "metadata": {
        "id": "B64MhU4UForO",
        "colab_type": "code",
        "colab": {}
      },
      "source": [
        "x_min, x_max = data.height.values.min() - .5, data.height.values.max() + .5 # for plotting\n",
        "x_rng = np.linspace(x_min,x_max,200)\n",
        "\n",
        "plt.plot(x_rng, x_rng * obj.coef_ + obj.intercept_, 'k')\n",
        "plt.plot(data.height.values, data.stories.values,'ro', alpha = 0.5)\n",
        "plt.show()"
      ],
      "execution_count": null,
      "outputs": []
    },
    {
      "cell_type": "markdown",
      "metadata": {
        "id": "UhN9IRL7ForQ",
        "colab_type": "text"
      },
      "source": [
        "**Q**: Check the residuals for normality.\n",
        "\n",
        "Hint: you might want to look at [`numpy.histogram`](https://numpy.org/doc/stable/reference/generated/numpy.histogram.html) to start with.  There are also many other techniques for checking normality, such as a [QQ-plot](https://en.wikipedia.org/wiki/Q%E2%80%93Q_plot)"
      ]
    },
    {
      "cell_type": "code",
      "metadata": {
        "id": "K1VMFrl0OvW4",
        "colab_type": "code",
        "colab": {}
      },
      "source": [
        ""
      ],
      "execution_count": null,
      "outputs": []
    },
    {
      "cell_type": "markdown",
      "metadata": {
        "id": "O_G5OyTdForR",
        "colab_type": "text"
      },
      "source": [
        "Now we will do multiple linear regression. This means we will use more than one predictor when we fit a model and predict our response variable # of stories. We will use both height and the year it was built. We can look at the mean squared error for both models and see which one predicts one better."
      ]
    },
    {
      "cell_type": "code",
      "metadata": {
        "id": "AfRm5EduForR",
        "colab_type": "code",
        "colab": {}
      },
      "source": [
        "obj2 = linear_model.LinearRegression()\n",
        "X = np.array( (data.height.values, data.year.values))\n",
        "obj2.fit(X.transpose() , data.stories)\n",
        "print(obj2.coef_, obj2.intercept_)"
      ],
      "execution_count": null,
      "outputs": []
    },
    {
      "cell_type": "code",
      "metadata": {
        "id": "E-_diLqJForT",
        "colab_type": "code",
        "colab": {}
      },
      "source": [
        "from mpl_toolkits.mplot3d import Axes3D\n",
        "\n",
        "ax = plt.axes(projection = '3d')\n",
        "#ax.plot(data.height.values, data.year.values , data.stories.values, 'bo')\n",
        "\n",
        "ax.plot_trisurf(data.height.values, data.year.values, (np.dot(X.transpose(),obj2.coef_) \\\n",
        "                + obj2.intercept_), color='b')\n",
        "\n",
        "plt.show()\n",
        "#plt.close()\n",
        "\n",
        "##### doesn't work - have the students try to solve it."
      ],
      "execution_count": null,
      "outputs": []
    },
    {
      "cell_type": "code",
      "metadata": {
        "id": "UO6HGp9JForW",
        "colab_type": "code",
        "colab": {}
      },
      "source": [
        "print(np.dot(X.transpose(),obj2.coef_).shape)"
      ],
      "execution_count": null,
      "outputs": []
    },
    {
      "cell_type": "code",
      "metadata": {
        "id": "K9eixqHAForY",
        "colab_type": "code",
        "colab": {}
      },
      "source": [
        "data.height.values.shape"
      ],
      "execution_count": null,
      "outputs": []
    }
  ]
}