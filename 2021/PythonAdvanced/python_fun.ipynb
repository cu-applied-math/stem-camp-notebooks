{
  "nbformat": 4,
  "nbformat_minor": 0,
  "metadata": {
    "colab": {
      "name": "python-fun.ipynb",
      "provenance": [],
      "authorship_tag": "ABX9TyOyCEEJxB0hYzncdITtc6EJ",
      "include_colab_link": true
    },
    "kernelspec": {
      "name": "python3",
      "display_name": "Python 3"
    },
    "language_info": {
      "name": "python"
    }
  },
  "cells": [
    {
      "cell_type": "markdown",
      "metadata": {
        "id": "view-in-github",
        "colab_type": "text"
      },
      "source": [
        "<a href=\"https://colab.research.google.com/github/cu-applied-math/stem-camp-notebooks/blob/master/2021/PythonAdvanced/python_fun.ipynb\" target=\"_parent\"><img src=\"https://colab.research.google.com/assets/colab-badge.svg\" alt=\"Open In Colab\"/></a>"
      ]
    },
    {
      "cell_type": "markdown",
      "metadata": {
        "id": "ONkfEX9-fLSR"
      },
      "source": [
        "We are going to play around with a bunch of python exercises!"
      ]
    },
    {
      "cell_type": "code",
      "metadata": {
        "id": "OG0WDgk3ffXv"
      },
      "source": [
        "# import needed packages here\n",
        "# TO DO: import numpy as np, import matplotlib.pyplot"
      ],
      "execution_count": null,
      "outputs": []
    },
    {
      "cell_type": "markdown",
      "metadata": {
        "id": "K11mhdhTfUSQ"
      },
      "source": [
        "To start with, write a script that computes the volume of a sphere with radius 6."
      ]
    },
    {
      "cell_type": "code",
      "metadata": {
        "id": "WQDR0PV3e7_G"
      },
      "source": [
        ""
      ],
      "execution_count": null,
      "outputs": []
    },
    {
      "cell_type": "markdown",
      "metadata": {
        "id": "M3kSDT4wfszm"
      },
      "source": [
        "Create two numpy arrays, then write a function that multiplies the two arrays together."
      ]
    },
    {
      "cell_type": "code",
      "metadata": {
        "id": "yKRvnAdrfsOA"
      },
      "source": [
        ""
      ],
      "execution_count": null,
      "outputs": []
    },
    {
      "cell_type": "markdown",
      "metadata": {
        "id": "BmVdd6q3fy4s"
      },
      "source": [
        "Create a list of 10 random numbers that have values between 1 and 20. Count the number of even numbers and print that value."
      ]
    },
    {
      "cell_type": "code",
      "metadata": {
        "id": "1fXThmx5fydO"
      },
      "source": [
        ""
      ],
      "execution_count": null,
      "outputs": []
    },
    {
      "cell_type": "markdown",
      "metadata": {
        "id": "QR60MorSgBp6"
      },
      "source": [
        ""
      ]
    }
  ]
}