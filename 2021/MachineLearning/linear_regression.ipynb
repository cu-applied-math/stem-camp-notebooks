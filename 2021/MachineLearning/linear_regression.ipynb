{
  "nbformat": 4,
  "nbformat_minor": 0,
  "metadata": {
    "kernelspec": {
      "display_name": "Python 3",
      "language": "python",
      "name": "python3"
    },
    "language_info": {
      "codemirror_mode": {
        "name": "ipython",
        "version": 3
      },
      "file_extension": ".py",
      "mimetype": "text/x-python",
      "name": "python",
      "nbconvert_exporter": "python",
      "pygments_lexer": "ipython3",
      "version": "3.6.2"
    },
    "colab": {
      "name": "linear_regression.ipynb",
      "provenance": [],
      "collapsed_sections": [],
      "include_colab_link": true
    }
  },
  "cells": [
    {
      "cell_type": "markdown",
      "metadata": {
        "id": "view-in-github",
        "colab_type": "text"
      },
      "source": [
        "<a href=\"https://colab.research.google.com/github/cu-applied-math/stem-camp-notebooks/blob/master/2021/MachineLearning/linear_regression.ipynb\" target=\"_parent\"><img src=\"https://colab.research.google.com/assets/colab-badge.svg\" alt=\"Open In Colab\"/></a>"
      ]
    },
    {
      "cell_type": "markdown",
      "metadata": {
        "id": "dXDrQdiwhSlx"
      },
      "source": [
        "# Simple Linear Regression\n",
        "\n",
        "[Linear regression](https://en.wikipedia.org/wiki/Linear_regression) is perhaps the most simple of all of the models. Do you remember the linear formula where `m` is the slope and `b` is where the line starts on the y-axis?\n",
        "\n",
        "From: https://github.com/Wintellect/DataScienceExamples/tree/master/Regression"
      ]
    },
    {
      "cell_type": "markdown",
      "metadata": {
        "id": "NEwBM6TLhSl0"
      },
      "source": [
        "$$y=mx+b$$"
      ]
    },
    {
      "cell_type": "markdown",
      "metadata": {
        "id": "_kyUvve8hSl0"
      },
      "source": [
        "This is a simple linear model since there is only one coefficient - `mx`."
      ]
    },
    {
      "cell_type": "markdown",
      "metadata": {
        "id": "v8ULJwavhSl1"
      },
      "source": [
        "## Imports and load data"
      ]
    },
    {
      "cell_type": "code",
      "metadata": {
        "id": "Is8SghothSl1"
      },
      "source": [
        "import pandas as pd\n",
        "import numpy as np\n",
        "import matplotlib.pyplot as plt\n",
        "import seaborn as sns\n",
        "from sklearn.model_selection import train_test_split\n",
        "from sklearn.linear_model import LinearRegression\n",
        "from sklearn.metrics import r2_score\n",
        "\n",
        "sns.set()\n",
        "%matplotlib inline"
      ],
      "execution_count": null,
      "outputs": []
    },
    {
      "cell_type": "code",
      "metadata": {
        "id": "yX1e_havhSl2"
      },
      "source": [
        "df = pd.read_csv(\"https://raw.githubusercontent.com/cu-applied-math/stem-camp-notebooks/master/2021/MachineLearning/SalaryData.csv\")"
      ],
      "execution_count": null,
      "outputs": []
    },
    {
      "cell_type": "code",
      "metadata": {
        "id": "i8nXmdx7hSl2",
        "colab": {
          "base_uri": "https://localhost:8080/",
          "height": 204
        },
        "outputId": "d36c9760-2af6-4234-eb0f-57ea9f30cd64"
      },
      "source": [
        "df.head()"
      ],
      "execution_count": null,
      "outputs": [
        {
          "output_type": "execute_result",
          "data": {
            "text/html": [
              "<div>\n",
              "<style scoped>\n",
              "    .dataframe tbody tr th:only-of-type {\n",
              "        vertical-align: middle;\n",
              "    }\n",
              "\n",
              "    .dataframe tbody tr th {\n",
              "        vertical-align: top;\n",
              "    }\n",
              "\n",
              "    .dataframe thead th {\n",
              "        text-align: right;\n",
              "    }\n",
              "</style>\n",
              "<table border=\"1\" class=\"dataframe\">\n",
              "  <thead>\n",
              "    <tr style=\"text-align: right;\">\n",
              "      <th></th>\n",
              "      <th>YearsExperience</th>\n",
              "      <th>Salary</th>\n",
              "    </tr>\n",
              "  </thead>\n",
              "  <tbody>\n",
              "    <tr>\n",
              "      <th>0</th>\n",
              "      <td>1.1</td>\n",
              "      <td>39343.0</td>\n",
              "    </tr>\n",
              "    <tr>\n",
              "      <th>1</th>\n",
              "      <td>1.3</td>\n",
              "      <td>46205.0</td>\n",
              "    </tr>\n",
              "    <tr>\n",
              "      <th>2</th>\n",
              "      <td>1.5</td>\n",
              "      <td>37731.0</td>\n",
              "    </tr>\n",
              "    <tr>\n",
              "      <th>3</th>\n",
              "      <td>2.0</td>\n",
              "      <td>43525.0</td>\n",
              "    </tr>\n",
              "    <tr>\n",
              "      <th>4</th>\n",
              "      <td>2.2</td>\n",
              "      <td>39891.0</td>\n",
              "    </tr>\n",
              "  </tbody>\n",
              "</table>\n",
              "</div>"
            ],
            "text/plain": [
              "   YearsExperience   Salary\n",
              "0              1.1  39343.0\n",
              "1              1.3  46205.0\n",
              "2              1.5  37731.0\n",
              "3              2.0  43525.0\n",
              "4              2.2  39891.0"
            ]
          },
          "metadata": {
            "tags": []
          },
          "execution_count": 38
        }
      ]
    },
    {
      "cell_type": "code",
      "metadata": {
        "id": "x_KZrj_ehSl2",
        "colab": {
          "base_uri": "https://localhost:8080/"
        },
        "outputId": "bc11c31d-6789-483a-c919-5394d5aca1e7"
      },
      "source": [
        "df.shape"
      ],
      "execution_count": null,
      "outputs": [
        {
          "output_type": "execute_result",
          "data": {
            "text/plain": [
              "(30, 2)"
            ]
          },
          "metadata": {
            "tags": []
          },
          "execution_count": 39
        }
      ]
    },
    {
      "cell_type": "markdown",
      "metadata": {
        "id": "_WH2-VhBhSl3"
      },
      "source": [
        "Before continuing, check if there are any missing data in the data set."
      ]
    },
    {
      "cell_type": "code",
      "metadata": {
        "id": "QjnoDQjghSl3",
        "colab": {
          "base_uri": "https://localhost:8080/"
        },
        "outputId": "d9cbd394-24d5-4fa2-f794-fec26e451fe5"
      },
      "source": [
        "df.isnull().values.any()"
      ],
      "execution_count": null,
      "outputs": [
        {
          "output_type": "execute_result",
          "data": {
            "text/plain": [
              "False"
            ]
          },
          "metadata": {
            "tags": []
          },
          "execution_count": 40
        }
      ]
    },
    {
      "cell_type": "markdown",
      "metadata": {
        "id": "ptCsaPethSl3"
      },
      "source": [
        "## Split data\n",
        "\n",
        "Splitting the dependent variable (`Salary`) out from the indepedent variable (`YearsExperience`) so we can build our model.\n",
        "\n",
        "We use the `train_test_split` method from `scikit-learn` to split our data. The `test_size` is used to tell it what percentage of the data to use for our testing data set and the `random_state` is used as a seed for the random splitting of the data. The seed will randomize the split in the same way each time for reproducability."
      ]
    },
    {
      "cell_type": "markdown",
      "metadata": {
        "id": "LQFIR2TXj6Ck"
      },
      "source": [
        "Use the train_test_split method from scikit-learn to split the data. Use a `test_size` of 0.2 and give the method a `random_state`."
      ]
    },
    {
      "cell_type": "code",
      "metadata": {
        "id": "dts_48SpkGGx"
      },
      "source": [
        "# TO DO\n",
        "# Use the train_test_split method from scikit-learn\n",
        "train_set, test_set = "
      ],
      "execution_count": null,
      "outputs": []
    },
    {
      "cell_type": "code",
      "metadata": {
        "id": "J3a2ZUZ2hSl4"
      },
      "source": [
        "df_copy = train_set.copy()"
      ],
      "execution_count": null,
      "outputs": []
    },
    {
      "cell_type": "code",
      "metadata": {
        "id": "Z_ieis8zhSl4",
        "colab": {
          "base_uri": "https://localhost:8080/"
        },
        "outputId": "822c0595-c30a-4168-d7c1-63a8bfb8c9f9"
      },
      "source": [
        "df_copy.shape"
      ],
      "execution_count": null,
      "outputs": [
        {
          "output_type": "execute_result",
          "data": {
            "text/plain": [
              "(24, 2)"
            ]
          },
          "metadata": {
            "tags": []
          },
          "execution_count": 43
        }
      ]
    },
    {
      "cell_type": "code",
      "metadata": {
        "id": "I2ARlC0RhSl4",
        "colab": {
          "base_uri": "https://localhost:8080/",
          "height": 204
        },
        "outputId": "2395cec8-89c9-44ec-cffc-bc624e6a3c11"
      },
      "source": [
        "df_copy.head()"
      ],
      "execution_count": null,
      "outputs": [
        {
          "output_type": "execute_result",
          "data": {
            "text/html": [
              "<div>\n",
              "<style scoped>\n",
              "    .dataframe tbody tr th:only-of-type {\n",
              "        vertical-align: middle;\n",
              "    }\n",
              "\n",
              "    .dataframe tbody tr th {\n",
              "        vertical-align: top;\n",
              "    }\n",
              "\n",
              "    .dataframe thead th {\n",
              "        text-align: right;\n",
              "    }\n",
              "</style>\n",
              "<table border=\"1\" class=\"dataframe\">\n",
              "  <thead>\n",
              "    <tr style=\"text-align: right;\">\n",
              "      <th></th>\n",
              "      <th>YearsExperience</th>\n",
              "      <th>Salary</th>\n",
              "    </tr>\n",
              "  </thead>\n",
              "  <tbody>\n",
              "    <tr>\n",
              "      <th>28</th>\n",
              "      <td>10.3</td>\n",
              "      <td>122391.0</td>\n",
              "    </tr>\n",
              "    <tr>\n",
              "      <th>24</th>\n",
              "      <td>8.7</td>\n",
              "      <td>109431.0</td>\n",
              "    </tr>\n",
              "    <tr>\n",
              "      <th>12</th>\n",
              "      <td>4.0</td>\n",
              "      <td>56957.0</td>\n",
              "    </tr>\n",
              "    <tr>\n",
              "      <th>0</th>\n",
              "      <td>1.1</td>\n",
              "      <td>39343.0</td>\n",
              "    </tr>\n",
              "    <tr>\n",
              "      <th>4</th>\n",
              "      <td>2.2</td>\n",
              "      <td>39891.0</td>\n",
              "    </tr>\n",
              "  </tbody>\n",
              "</table>\n",
              "</div>"
            ],
            "text/plain": [
              "    YearsExperience    Salary\n",
              "28             10.3  122391.0\n",
              "24              8.7  109431.0\n",
              "12              4.0   56957.0\n",
              "0               1.1   39343.0\n",
              "4               2.2   39891.0"
            ]
          },
          "metadata": {
            "tags": []
          },
          "execution_count": 44
        }
      ]
    },
    {
      "cell_type": "markdown",
      "metadata": {
        "id": "W-NEeHyfhSl4"
      },
      "source": [
        "## Exploratory Data Analysis\n",
        "\n",
        "Explore the data to find trends. Using the `describe` method to get descriptive statistics on numerical columns of our data. The `corr` method to calculate correlations between the columns of our data. And plotting with `matplotlib` via the `plot` method to get a visual of the data. Also using `seaborn`'s `regplot` to give us what a linear regression line of our data may look like and to verify that our data looks linear."
      ]
    },
    {
      "cell_type": "code",
      "metadata": {
        "id": "5SFKln2ykrKj"
      },
      "source": [
        "# TO DO\n",
        "# Use the describe method on df_copy to get descriptive statistics"
      ],
      "execution_count": null,
      "outputs": []
    },
    {
      "cell_type": "code",
      "metadata": {
        "id": "ZHdT_V--hSl5",
        "colab": {
          "base_uri": "https://localhost:8080/",
          "height": 111
        },
        "outputId": "80516e89-f22c-441f-bb21-df4afa1284d2"
      },
      "source": [
        "df_copy.corr()"
      ],
      "execution_count": null,
      "outputs": [
        {
          "output_type": "execute_result",
          "data": {
            "text/html": [
              "<div>\n",
              "<style scoped>\n",
              "    .dataframe tbody tr th:only-of-type {\n",
              "        vertical-align: middle;\n",
              "    }\n",
              "\n",
              "    .dataframe tbody tr th {\n",
              "        vertical-align: top;\n",
              "    }\n",
              "\n",
              "    .dataframe thead th {\n",
              "        text-align: right;\n",
              "    }\n",
              "</style>\n",
              "<table border=\"1\" class=\"dataframe\">\n",
              "  <thead>\n",
              "    <tr style=\"text-align: right;\">\n",
              "      <th></th>\n",
              "      <th>YearsExperience</th>\n",
              "      <th>Salary</th>\n",
              "    </tr>\n",
              "  </thead>\n",
              "  <tbody>\n",
              "    <tr>\n",
              "      <th>YearsExperience</th>\n",
              "      <td>1.00000</td>\n",
              "      <td>0.98211</td>\n",
              "    </tr>\n",
              "    <tr>\n",
              "      <th>Salary</th>\n",
              "      <td>0.98211</td>\n",
              "      <td>1.00000</td>\n",
              "    </tr>\n",
              "  </tbody>\n",
              "</table>\n",
              "</div>"
            ],
            "text/plain": [
              "                 YearsExperience   Salary\n",
              "YearsExperience          1.00000  0.98211\n",
              "Salary                   0.98211  1.00000"
            ]
          },
          "metadata": {
            "tags": []
          },
          "execution_count": 46
        }
      ]
    },
    {
      "cell_type": "code",
      "metadata": {
        "id": "6EMml1vlhSl5",
        "colab": {
          "base_uri": "https://localhost:8080/",
          "height": 322
        },
        "outputId": "f9adafc7-6183-4b47-9ead-131dac24afdd"
      },
      "source": [
        "df_copy.plot.scatter(x='YearsExperience', y='Salary')\n",
        "plt.show()"
      ],
      "execution_count": null,
      "outputs": [
        {
          "output_type": "stream",
          "text": [
            "*c* argument looks like a single numeric RGB or RGBA sequence, which should be avoided as value-mapping will have precedence in case its length matches with *x* & *y*.  Please use the *color* keyword-argument or provide a 2-D array with a single row if you intend to specify the same RGB or RGBA value for all points.\n"
          ],
          "name": "stderr"
        },
        {
          "output_type": "display_data",
          "data": {
            "image/png": "[encoded data removed]",
            "text/plain": [
              "<Figure size 432x288 with 1 Axes>"
            ]
          },
          "metadata": {
            "tags": [],
            "needs_background": "light"
          }
        }
      ]
    },
    {
      "cell_type": "code",
      "metadata": {
        "id": "9ByByo9phSl5",
        "colab": {
          "base_uri": "https://localhost:8080/",
          "height": 339
        },
        "outputId": "938ac742-3f65-47c9-eab7-62985281351b"
      },
      "source": [
        "# Regression plot\n",
        "sns.regplot('YearsExperience', # Horizontal axis\n",
        "           'Salary', # Vertical axis\n",
        "           data=df_copy)\n",
        "plt.show()"
      ],
      "execution_count": null,
      "outputs": [
        {
          "output_type": "stream",
          "text": [
            "/usr/local/lib/python3.7/dist-packages/seaborn/_decorators.py:43: FutureWarning: Pass the following variables as keyword args: x, y. From version 0.12, the only valid positional argument will be `data`, and passing other arguments without an explicit keyword will result in an error or misinterpretation.\n",
            "  FutureWarning\n"
          ],
          "name": "stderr"
        },
        {
          "output_type": "display_data",
          "data": {
            "image/png": "[encoded data removed]",
            "text/plain": [
              "<Figure size 432x288 with 1 Axes>"
            ]
          },
          "metadata": {
            "tags": [],
            "needs_background": "light"
          }
        }
      ]
    },
    {
      "cell_type": "markdown",
      "metadata": {
        "id": "dR0gox-ahSl5"
      },
      "source": [
        "## Predict\n",
        "\n",
        "We're making three other data sets for the `LinearRegression` model:\n",
        "- `test_set` that is just the `YearsExperience` column (dropping the `Salary` column) that will be used for analyzing and scoring our model.\n",
        "- `train_labels` that is just the `Salary` column to train the `LinearRegression` model what the answers are when passing in the years of experience input.\n",
        "- `train_set` that is also just the `YearsExperience` column (dropping the `Salary` column) that will be passed into the `LinearRegression`'s `fit` method as the `x` parameter."
      ]
    },
    {
      "cell_type": "code",
      "metadata": {
        "id": "7SsekDfDhSl5"
      },
      "source": [
        "test_set_full = test_set.copy()\n",
        "\n",
        "test_set = test_set.drop([\"Salary\"], axis=1)"
      ],
      "execution_count": null,
      "outputs": []
    },
    {
      "cell_type": "code",
      "metadata": {
        "id": "dha5X-FYhSl6",
        "colab": {
          "base_uri": "https://localhost:8080/",
          "height": 204
        },
        "outputId": "f5510d66-7e73-4c56-be13-982adfa0811d"
      },
      "source": [
        "test_set.head()"
      ],
      "execution_count": null,
      "outputs": [
        {
          "output_type": "execute_result",
          "data": {
            "text/html": [
              "<div>\n",
              "<style scoped>\n",
              "    .dataframe tbody tr th:only-of-type {\n",
              "        vertical-align: middle;\n",
              "    }\n",
              "\n",
              "    .dataframe tbody tr th {\n",
              "        vertical-align: top;\n",
              "    }\n",
              "\n",
              "    .dataframe thead th {\n",
              "        text-align: right;\n",
              "    }\n",
              "</style>\n",
              "<table border=\"1\" class=\"dataframe\">\n",
              "  <thead>\n",
              "    <tr style=\"text-align: right;\">\n",
              "      <th></th>\n",
              "      <th>YearsExperience</th>\n",
              "    </tr>\n",
              "  </thead>\n",
              "  <tbody>\n",
              "    <tr>\n",
              "      <th>27</th>\n",
              "      <td>9.6</td>\n",
              "    </tr>\n",
              "    <tr>\n",
              "      <th>15</th>\n",
              "      <td>4.9</td>\n",
              "    </tr>\n",
              "    <tr>\n",
              "      <th>23</th>\n",
              "      <td>8.2</td>\n",
              "    </tr>\n",
              "    <tr>\n",
              "      <th>17</th>\n",
              "      <td>5.3</td>\n",
              "    </tr>\n",
              "    <tr>\n",
              "      <th>8</th>\n",
              "      <td>3.2</td>\n",
              "    </tr>\n",
              "  </tbody>\n",
              "</table>\n",
              "</div>"
            ],
            "text/plain": [
              "    YearsExperience\n",
              "27              9.6\n",
              "15              4.9\n",
              "23              8.2\n",
              "17              5.3\n",
              "8               3.2"
            ]
          },
          "metadata": {
            "tags": []
          },
          "execution_count": 50
        }
      ]
    },
    {
      "cell_type": "code",
      "metadata": {
        "id": "Bzj24oRShSl6"
      },
      "source": [
        "train_labels = train_set[\"Salary\"]"
      ],
      "execution_count": null,
      "outputs": []
    },
    {
      "cell_type": "code",
      "metadata": {
        "id": "NHNjPt-NhSl6",
        "colab": {
          "base_uri": "https://localhost:8080/"
        },
        "outputId": "01eb5f58-9848-4ad6-e024-2b57d6733e20"
      },
      "source": [
        "train_labels.head()"
      ],
      "execution_count": null,
      "outputs": [
        {
          "output_type": "execute_result",
          "data": {
            "text/plain": [
              "28    122391.0\n",
              "24    109431.0\n",
              "12     56957.0\n",
              "0      39343.0\n",
              "4      39891.0\n",
              "Name: Salary, dtype: float64"
            ]
          },
          "metadata": {
            "tags": []
          },
          "execution_count": 52
        }
      ]
    },
    {
      "cell_type": "code",
      "metadata": {
        "id": "0cQhVVVThSl6"
      },
      "source": [
        "train_set_full = train_set.copy()\n",
        "\n",
        "train_set = train_set.drop([\"Salary\"], axis=1)"
      ],
      "execution_count": null,
      "outputs": []
    },
    {
      "cell_type": "code",
      "metadata": {
        "id": "FAYynaFAhSl6",
        "colab": {
          "base_uri": "https://localhost:8080/",
          "height": 204
        },
        "outputId": "6ae17f63-fc6c-422c-e8dd-ca7613f66c66"
      },
      "source": [
        "train_set.head()"
      ],
      "execution_count": null,
      "outputs": [
        {
          "output_type": "execute_result",
          "data": {
            "text/html": [
              "<div>\n",
              "<style scoped>\n",
              "    .dataframe tbody tr th:only-of-type {\n",
              "        vertical-align: middle;\n",
              "    }\n",
              "\n",
              "    .dataframe tbody tr th {\n",
              "        vertical-align: top;\n",
              "    }\n",
              "\n",
              "    .dataframe thead th {\n",
              "        text-align: right;\n",
              "    }\n",
              "</style>\n",
              "<table border=\"1\" class=\"dataframe\">\n",
              "  <thead>\n",
              "    <tr style=\"text-align: right;\">\n",
              "      <th></th>\n",
              "      <th>YearsExperience</th>\n",
              "    </tr>\n",
              "  </thead>\n",
              "  <tbody>\n",
              "    <tr>\n",
              "      <th>28</th>\n",
              "      <td>10.3</td>\n",
              "    </tr>\n",
              "    <tr>\n",
              "      <th>24</th>\n",
              "      <td>8.7</td>\n",
              "    </tr>\n",
              "    <tr>\n",
              "      <th>12</th>\n",
              "      <td>4.0</td>\n",
              "    </tr>\n",
              "    <tr>\n",
              "      <th>0</th>\n",
              "      <td>1.1</td>\n",
              "    </tr>\n",
              "    <tr>\n",
              "      <th>4</th>\n",
              "      <td>2.2</td>\n",
              "    </tr>\n",
              "  </tbody>\n",
              "</table>\n",
              "</div>"
            ],
            "text/plain": [
              "    YearsExperience\n",
              "28             10.3\n",
              "24              8.7\n",
              "12              4.0\n",
              "0               1.1\n",
              "4               2.2"
            ]
          },
          "metadata": {
            "tags": []
          },
          "execution_count": 54
        }
      ]
    },
    {
      "cell_type": "markdown",
      "metadata": {
        "id": "3_C5DpFGhSl6"
      },
      "source": [
        "Now that we have our data in the correct form, we pass in the `train_set` and `train_labels` into the `fit` method to train the model."
      ]
    },
    {
      "cell_type": "markdown",
      "metadata": {
        "id": "Cw1a55nSl_yp"
      },
      "source": [
        "Check out the documentation for the Linear Regression model here: https://scikit-learn.org/stable/modules/generated/sklearn.linear_model.LinearRegression.html"
      ]
    },
    {
      "cell_type": "code",
      "metadata": {
        "id": "HiqT8ARShSl6"
      },
      "source": [
        "# TO DO\n",
        "# Use the LinearRegression() model\n",
        "# Fit the model (Do we use the train_set or test_set?)"
      ],
      "execution_count": 2,
      "outputs": []
    },
    {
      "cell_type": "markdown",
      "metadata": {
        "id": "SG7n2rsWhSl7"
      },
      "source": [
        "Now we have a model and can call the `predict` function on it with inputs. "
      ]
    },
    {
      "cell_type": "code",
      "metadata": {
        "id": "4tbSVrykhSl7",
        "colab": {
          "base_uri": "https://localhost:8080/"
        },
        "outputId": "2cb9e298-d91e-4bcf-e2b5-e35114e31261"
      },
      "source": [
        "# Use the model to predict (Do we use the train_set or test_set?)\n",
        "salary_pred = lin_reg.predict(test_set)\n",
        "\n",
        "salary_pred"
      ],
      "execution_count": null,
      "outputs": [
        {
          "output_type": "execute_result",
          "data": {
            "text/plain": [
              "array([115790.21011287,  71498.27809463, 102596.86866063,  75267.80422384,\n",
              "        55477.79204548,  60189.69970699])"
            ]
          },
          "metadata": {
            "tags": []
          },
          "execution_count": 56
        }
      ]
    },
    {
      "cell_type": "markdown",
      "metadata": {
        "id": "vgVVhckohSl7"
      },
      "source": [
        "## Analyze Results"
      ]
    },
    {
      "cell_type": "markdown",
      "metadata": {
        "id": "SRAF7DZzhSl7"
      },
      "source": [
        "We can get the coefficients and intercept from our model."
      ]
    },
    {
      "cell_type": "code",
      "metadata": {
        "id": "Nyv8quV1hSl7"
      },
      "source": [
        "# TO DO\n",
        "# Get the coefficients and intercept from our model"
      ],
      "execution_count": 1,
      "outputs": []
    },
    {
      "cell_type": "markdown",
      "metadata": {
        "id": "kt9QuDUShSl7"
      },
      "source": [
        "With that information we can build our line formula - $y=9423.81532303x + 25321.5830118$\n",
        "\n",
        "We can compare our predictions to our testing set label columns."
      ]
    },
    {
      "cell_type": "code",
      "metadata": {
        "id": "mLNtx4OghSl7",
        "colab": {
          "base_uri": "https://localhost:8080/"
        },
        "outputId": "7e343ce6-317e-463b-c887-1e0b74453a22"
      },
      "source": [
        "print(salary_pred)\n",
        "print(test_set_full[\"Salary\"])"
      ],
      "execution_count": null,
      "outputs": [
        {
          "output_type": "stream",
          "text": [
            "[115790.21011287  71498.27809463 102596.86866063  75267.80422384\n",
            "  55477.79204548  60189.69970699]\n",
            "27    112635.0\n",
            "15     67938.0\n",
            "23    113812.0\n",
            "17     83088.0\n",
            "8      64445.0\n",
            "9      57189.0\n",
            "Name: Salary, dtype: float64\n"
          ],
          "name": "stdout"
        }
      ]
    },
    {
      "cell_type": "markdown",
      "metadata": {
        "id": "Da3DFAJahSl8"
      },
      "source": [
        "Models in `scikit-learn` have a `score` method. Depending on the model, this method will do a different calculation. For `LinearRegression` it calculates the $r^2$."
      ]
    },
    {
      "cell_type": "code",
      "metadata": {
        "id": "uKrrnr1XhSl8",
        "colab": {
          "base_uri": "https://localhost:8080/"
        },
        "outputId": "b8559db6-b862-4751-eb86-a90fb74a167a"
      },
      "source": [
        "# TO DO\n",
        "# Score our model using the score method (i.e. calculate the r^2)"
      ],
      "execution_count": null,
      "outputs": [
        {
          "output_type": "execute_result",
          "data": {
            "text/plain": [
              "0.9024461774180497"
            ]
          },
          "metadata": {
            "tags": []
          },
          "execution_count": 59
        }
      ]
    },
    {
      "cell_type": "markdown",
      "metadata": {
        "id": "QLt7ic29hSl8"
      },
      "source": [
        "There's also a separate `r2_score` method that will calculate the $r^2$."
      ]
    },
    {
      "cell_type": "code",
      "metadata": {
        "id": "chP4lsCxhSl8",
        "colab": {
          "base_uri": "https://localhost:8080/"
        },
        "outputId": "610055da-f2cc-4041-ddef-66db88b1164c"
      },
      "source": [
        "r2_score(test_set_full[\"Salary\"], salary_pred)"
      ],
      "execution_count": null,
      "outputs": [
        {
          "output_type": "execute_result",
          "data": {
            "text/plain": [
              "0.9024461774180497"
            ]
          },
          "metadata": {
            "tags": []
          },
          "execution_count": 60
        }
      ]
    },
    {
      "cell_type": "markdown",
      "metadata": {
        "id": "23RWCjkJhSl8"
      },
      "source": [
        "We can also plot our test data as a scatter plot and, with our predicted salary that we got from our model, plot a line to see how well it fits the data."
      ]
    },
    {
      "cell_type": "code",
      "metadata": {
        "id": "5G-RN5TFhSl8",
        "colab": {
          "base_uri": "https://localhost:8080/",
          "height": 268
        },
        "outputId": "f1bbc7c3-86df-4160-9f41-1ffd6619e624"
      },
      "source": [
        "plt.scatter(test_set_full[\"YearsExperience\"], test_set_full[\"Salary\"], color='blue')\n",
        "plt.plot(test_set_full[\"YearsExperience\"], salary_pred, color='red', linewidth=2)\n",
        "plt.show()"
      ],
      "execution_count": null,
      "outputs": [
        {
          "output_type": "display_data",
          "data": {
            "image/png": "[encoded data removed]",
            "text/plain": [
              "<Figure size 432x288 with 1 Axes>"
            ]
          },
          "metadata": {
            "tags": [],
            "needs_background": "light"
          }
        }
      ]
    },
    {
      "cell_type": "code",
      "metadata": {
        "id": "Uk8vMtUki3eI"
      },
      "source": [
        ""
      ],
      "execution_count": null,
      "outputs": []
    }
  ]
}