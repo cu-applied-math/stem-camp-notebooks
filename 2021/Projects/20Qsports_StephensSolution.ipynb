{
  "nbformat": 4,
  "nbformat_minor": 0,
  "metadata": {
    "kernelspec": {
      "display_name": "Python 3",
      "language": "python",
      "name": "python3"
    },
    "language_info": {
      "codemirror_mode": {
        "name": "ipython",
        "version": 3
      },
      "file_extension": ".py",
      "mimetype": "text/x-python",
      "name": "python",
      "nbconvert_exporter": "python",
      "pygments_lexer": "ipython3",
      "version": "3.7.2"
    },
    "colab": {
      "name": "20Qsports_StephensSolution.ipynb",
      "provenance": [],
      "include_colab_link": true
    }
  },
  "cells": [
    {
      "cell_type": "markdown",
      "metadata": {
        "id": "view-in-github",
        "colab_type": "text"
      },
      "source": [
        "<a href=\"https://colab.research.google.com/github/cu-applied-math/stem-camp-notebooks/blob/master/notebooks/20Q/playGame/20Qsports_StephensSolution.ipynb\" target=\"_parent\"><img src=\"https://colab.research.google.com/assets/colab-badge.svg\" alt=\"Open In Colab\"/></a>"
      ]
    },
    {
      "cell_type": "markdown",
      "metadata": {
        "id": "W0kPGbVnH52E",
        "colab_type": "text"
      },
      "source": [
        "# Stephen's implementation of the decision tree 20Q game"
      ]
    },
    {
      "cell_type": "markdown",
      "metadata": {
        "id": "Jst2FPuyH52F",
        "colab_type": "text"
      },
      "source": [
        "## Read in the data, as in the setup script"
      ]
    },
    {
      "cell_type": "code",
      "metadata": {
        "id": "TSBsbdBwH52F",
        "colab_type": "code",
        "colab": {
          "base_uri": "https://localhost:8080/",
          "height": 442
        },
        "outputId": "a033b497-582f-41b7-e3f0-3115f3ba7f3f"
      },
      "source": [
        "# Download the data\n",
        "!wget -q https://github.com/cu-applied-math/stem-camp-notebooks/raw/student-colab/notebooks/20Q/data/SportsDataset_ListOfSports.csv\n",
        "!wget -q https://github.com/cu-applied-math/stem-camp-notebooks/raw/student-colab/notebooks/20Q/data/SportsDataset_ListOfAttributes.csv\n",
        "!wget -q https://github.com/cu-applied-math/stem-camp-notebooks/raw/student-colab/notebooks/20Q/data/SportsDataset_DataAttributes.csv\n",
        "\n",
        "import csv\n",
        "sports = []  # This is a python \"list\" data structure (it is \"mutable\")\n",
        "# The file has a list of sports, one per line.\n",
        "# There are spaces in some names, but no commas or weird punctuation\n",
        "with open('SportsDataset_ListOfSports.csv','r') as csvfile:\n",
        "    myreader = csv.reader(csvfile)\n",
        "    for index, row in enumerate( myreader ):\n",
        "        sports.append(' '.join(row) ) # the join() call merges all fields\n",
        "# Make a look-up table: if you input the name of the sport, it tells you the index\n",
        "# Also, print out a list of all the sports, to make sure it looks OK\n",
        "Sport2Index = {}\n",
        "for ind, sprt in enumerate( sports ):\n",
        "    Sport2Index[sprt] = ind\n",
        "    print('Sport #', ind,'is',sprt)\n",
        "# And example usage of the index lookup:\n",
        "#print('The sport \"', sports[7],'\" has 0-based index', Sport2Index[sports[7]])\n",
        "\n",
        "# -- And read in the list of questions --\n",
        "# this csv file has only a single row\n",
        "questions = []\n",
        "with open('SportsDataset_ListOfAttributes.csv','r') as csvfile:\n",
        "    myreader = csv.reader( csvfile )\n",
        "    for row in myreader:\n",
        "        questions = row\n",
        "Question2Index = {}\n",
        "for ind, quest in enumerate( questions ):\n",
        "    Question2Index[quest] = ind\n",
        "    #print('Question #', ind,': ',quest)\n",
        "# And example usage of the index lookup:\n",
        "#print('The question \"', questions[10],'\" has 0-based index', Question2Index[questions[10]])\n",
        "\n",
        "# -- And read in the training data --\n",
        "YesNoDict = { \"Yes\": 1, \"No\": -1, \"Unsure\": 0, \"\": 0 }\n",
        "# Load from the csv file.\n",
        "# Note: the file only has \"1\"s, because blanks mean \"No\"\n",
        "\n",
        "X = []\n",
        "with open('SportsDataset_DataAttributes.csv','r') as csvfile:\n",
        "    myreader = csv.reader(csvfile)\n",
        "    for row in myreader:\n",
        "        data = [];\n",
        "        for col in row:\n",
        "            data.append( col or \"-1\")\n",
        "        X.append( list(map(int,data)) ) # integers, not strings\n",
        "\n",
        "# This data file is listed in the same order as the sports\n",
        "# The variable \"y\" contains the index of the sport\n",
        "Y = range(len(sports)) # this doesn't work\n",
        "Y = list( map(int,Y) ) # Instead, we need to ask python to really enumerate it!"
      ],
      "execution_count": 2,
      "outputs": [
        {
          "output_type": "stream",
          "text": [
            "Sport # 0 is Diving\n",
            "Sport # 1 is Swimming\n",
            "Sport # 2 is Synchronized Swimming\n",
            "Sport # 3 is Water Polo\n",
            "Sport # 4 is Kayak\n",
            "Sport # 5 is Basketball\n",
            "Sport # 6 is Bicycling\n",
            "Sport # 7 is Speed skating\n",
            "Sport # 8 is Figure skating\n",
            "Sport # 9 is Gymnastics\n",
            "Sport # 10 is Volleyball\n",
            "Sport # 11 is Wrestling\n",
            "Sport # 12 is Track/running\n",
            "Sport # 13 is Baseball\n",
            "Sport # 14 is Boxing\n",
            "Sport # 15 is Fencing\n",
            "Sport # 16 is Field Hockey\n",
            "Sport # 17 is Football\n",
            "Sport # 18 is Golf\n",
            "Sport # 19 is Sailing\n",
            "Sport # 20 is Softball\n",
            "Sport # 21 is Ping pong\n",
            "Sport # 22 is Tennis\n",
            "Sport # 23 is Ice hockey\n",
            "Sport # 24 is Skiing\n"
          ],
          "name": "stdout"
        }
      ]
    },
    {
      "cell_type": "markdown",
      "metadata": {
        "id": "crlkz84gH52I",
        "colab_type": "text"
      },
      "source": [
        "# Answers to student notebook"
      ]
    },
    {
      "cell_type": "code",
      "metadata": {
        "id": "zSaCqJWSH52J",
        "colab_type": "code",
        "colab": {}
      },
      "source": [
        "# Solution to Task #4\n",
        "from sklearn import tree\n",
        "#clf = tree.DecisionTreeClassifier(max_depth=13,min_samples_leaf=1)\n",
        "clf = tree.DecisionTreeClassifier()\n",
        "clf.fit(X,Y)\n",
        "clf.score(X,Y)"
      ],
      "execution_count": null,
      "outputs": []
    },
    {
      "cell_type": "code",
      "metadata": {
        "id": "fTIiQIs1H52M",
        "colab_type": "code",
        "colab": {
          "base_uri": "https://localhost:8080/",
          "height": 103
        },
        "outputId": "c37c21f8-7b1e-47f2-b219-1c22ea4e7f29"
      },
      "source": [
        "# Solution to task #5\n",
        "ind = Sport2Index['Basketball']\n",
        "print(ind)\n",
        "bball = X[ind]\n",
        "print('For sport=basketball, the yes/no answers were:')\n",
        "print(list(map(lambda x: 'yes' if x==1 else 'no' , bball )))\n",
        "print('From these answers, the decision tree predicts:')\n",
        "ans = clf.predict( [bball] )[0]\n",
        "sports[ans]"
      ],
      "execution_count": 14,
      "outputs": [
        {
          "output_type": "stream",
          "text": [
            "5\n",
            "For sport=basketball, the yes/no answers were:\n",
            "['no', 'yes', 'no', 'no', 'no', 'no', 'no', 'no', 'no', 'yes', 'no', 'no', 'yes', 'no']\n",
            "From these answers, the decision tree predicts:\n"
          ],
          "name": "stdout"
        },
        {
          "output_type": "execute_result",
          "data": {
            "application/vnd.google.colaboratory.intrinsic": {
              "type": "string"
            },
            "text/plain": [
              "'Basketball'"
            ]
          },
          "metadata": {
            "tags": []
          },
          "execution_count": 14
        }
      ]
    },
    {
      "cell_type": "code",
      "metadata": {
        "id": "01UawhHvH52O",
        "colab_type": "code",
        "colab": {},
        "outputId": "73e05b0a-53d1-41cd-fff2-ef2402434f24"
      },
      "source": [
        "# Solution to task #6\n",
        "x = [0]*len(questions)\n",
        "for i,Q in enumerate( questions ):\n",
        "    print(Q)\n",
        "    x[i] = int( input(\"  [1 for Yes, -1 for No]  \") )\n",
        "    #x[i] = parseInput(input(\"  [Yes/no/unsure]  \"))\n"
      ],
      "execution_count": null,
      "outputs": [
        {
          "output_type": "stream",
          "text": [
            "Water Sport?\n",
            "  [1 for Yes, -1 for No]  1\n",
            "Necessarily a team sport?\n",
            "  [1 for Yes, -1 for No]  1\n",
            "Ice involved?\n",
            "  [1 for Yes, -1 for No]  1\n",
            "Snow involved? \n",
            "  [1 for Yes, -1 for No]  -1\n",
            "One-on-one matches?\n",
            "  [1 for Yes, -1 for No]  1\n",
            "Subjective scoring?\n",
            "  [1 for Yes, -1 for No]  1\n",
            "Race of some sort?\n",
            "  [1 for Yes, -1 for No]  1\n",
            "Is it always played outdoors?\n",
            "  [1 for Yes, -1 for No]  1\n",
            "Is it a combat sport?\n",
            "  [1 for Yes, -1 for No]  1\n",
            "Is there a goal or a hoop?\n",
            "  [1 for Yes, -1 for No]  1\n",
            "Does each person have large equipment (bike, boat; NOT skates, skis, stick...)\n",
            "  [1 for Yes, -1 for No]  1\n",
            "Does each participant have small gear like a racquet, stick, skates, skis, mitt, sword, etc.?\n",
            "  [1 for Yes, -1 for No]  1\n",
            "Is there a ball bigger than a baseball used?\n",
            "  [1 for Yes, -1 for No]  1\n",
            "Is there a weapon involved?\n",
            "  [1 for Yes, -1 for No]  1\n"
          ],
          "name": "stdout"
        }
      ]
    },
    {
      "cell_type": "markdown",
      "metadata": {
        "id": "ly7ZsB-kH52Q",
        "colab_type": "text"
      },
      "source": [
        "# Actually classify (here, we depart from public script)"
      ]
    },
    {
      "cell_type": "code",
      "metadata": {
        "id": "1WRL8ve5H52R",
        "colab_type": "code",
        "colab": {
          "base_uri": "https://localhost:8080/",
          "height": 119
        },
        "outputId": "4b6010e6-a0cf-44f8-c2aa-27585f4e5745"
      },
      "source": [
        "from sklearn import tree\n",
        "from sklearn.ensemble import RandomForestClassifier\n",
        "#clf = tree.DecisionTreeClassifier(max_depth=8,min_samples_leaf=2)\n",
        "clf = tree.DecisionTreeClassifier(max_depth=13,min_samples_leaf=1)\n",
        "clf.fit(X,Y)\n",
        "# Try changing the training data, so that we don't get 100% accuracy:\n",
        "#X2 = X.copy()\n",
        "#X2[15][-1] = -1\n",
        "#clf.fit(X2,y)"
      ],
      "execution_count": 15,
      "outputs": [
        {
          "output_type": "execute_result",
          "data": {
            "text/plain": [
              "DecisionTreeClassifier(ccp_alpha=0.0, class_weight=None, criterion='gini',\n",
              "                       max_depth=13, max_features=None, max_leaf_nodes=None,\n",
              "                       min_impurity_decrease=0.0, min_impurity_split=None,\n",
              "                       min_samples_leaf=1, min_samples_split=2,\n",
              "                       min_weight_fraction_leaf=0.0, presort='deprecated',\n",
              "                       random_state=None, splitter='best')"
            ]
          },
          "metadata": {
            "tags": []
          },
          "execution_count": 15
        }
      ]
    },
    {
      "cell_type": "code",
      "metadata": {
        "id": "jevoKa_aH52T",
        "colab_type": "code",
        "colab": {
          "base_uri": "https://localhost:8080/",
          "height": 1000
        },
        "outputId": "43ba5be7-514b-4395-a3ef-1705849ddeef"
      },
      "source": [
        "# -- Visualize the decision tree --\n",
        "\n",
        "import graphviz\n",
        "\n",
        "# dot_data = tree.export_graphviz( clf, out_file='sportsTree.dot', feature_names = questions,impurity=False,\n",
        "#                                class_names = sports,filled=True, rounded=True,label=None,\n",
        "#                                proportion=True) # impurity = False\n",
        "# # export to out_file = 'sportsTree.dot', then in vim, use `%s/\\\\n\\[.*\\]\\\\n/\\\\n/g` to remove labels\n",
        "# graph = graphviz.Source( dot_data )\n",
        "# graph.render('sportsTree')\n",
        "# graph\n",
        "\n",
        "# Try another way (July 2020), following Coursera course\n",
        "# see plot_decision_tree() in \n",
        "# https://github.com/Starignus/AppliedML_Python_Coursera/blob/d70b1433eb18bd22fd193faa86b291eae699f4fc/adspy_shared_utilities.py\n",
        "from sklearn.tree import export_graphviz\n",
        "export_graphviz(clf, out_file=\"sportsTree.dot\", feature_names=questions, class_names=sports,\n",
        "                filled = True, rounded=True,\n",
        "                impurity = False,label='none',leaves_parallel=True)\n",
        "! sed -i 's/\\\\n\\[.*\\]\\\\n/\\\\n/g' sportsTree.dot\n",
        "# Oh well. It's OK to include values\n",
        "with open(\"sportsTree.dot\") as f:\n",
        "  dot_graph = f.read()\n",
        "graphviz.Source( dot_graph )\n",
        "\n",
        "# If you can't gt graphviz to work, then use this old static image:\n",
        "# from IPython.display import Image\n",
        "# Image(url='https://github.com/cu-applied-math/stem-camp-notebooks/raw/master/notebooks/20Q/playGame/sportsTree.png')"
      ],
      "execution_count": 33,
      "outputs": [
        {
          "output_type": "execute_result",
          "data": {
            "text/plain": [
              "<graphviz.files.Source at 0x7f65a3277160>"
            ],
            "image/svg+xml": "<?xml version=\"1.0\" encoding=\"UTF-8\" standalone=\"no\"?>\n<!DOCTYPE svg PUBLIC \"-//W3C//DTD SVG 1.1//EN\"\n \"http://www.w3.org/Graphics/SVG/1.1/DTD/svg11.dtd\">\n<!-- Generated by graphviz version 2.40.1 (20161225.0304)\n -->\n<!-- Title: Tree Pages: 1 -->\n<svg width=\"3025pt\" height=\"855pt\"\n viewBox=\"0.00 0.00 3024.50 854.50\" xmlns=\"http://www.w3.org/2000/svg\" xmlns:xlink=\"http://www.w3.org/1999/xlink\">\n<g id=\"graph0\" class=\"graph\" transform=\"scale(1 1) rotate(0) translate(4 850.5)\">\n<title>Tree</title>\n<polygon fill=\"#ffffff\" stroke=\"transparent\" points=\"-4,4 -4,-850.5 3020.5,-850.5 3020.5,4 -4,4\"/>\n<!-- 0 -->\n<g id=\"node1\" class=\"node\">\n<title>0</title>\n<path fill=\"#ffffff\" stroke=\"#000000\" d=\"M2332,-846.5C2332,-846.5 2150,-846.5 2150,-846.5 2144,-846.5 2138,-840.5 2138,-834.5 2138,-834.5 2138,-805.5 2138,-805.5 2138,-799.5 2144,-793.5 2150,-793.5 2150,-793.5 2332,-793.5 2332,-793.5 2338,-793.5 2344,-799.5 2344,-805.5 2344,-805.5 2344,-834.5 2344,-834.5 2344,-840.5 2338,-846.5 2332,-846.5\"/>\n<text text-anchor=\"middle\" x=\"2241\" y=\"-831.3\" font-family=\"Helvetica,sans-Serif\" font-size=\"14.00\" fill=\"#000000\">One&#45;on&#45;one matches? &lt;= 0.0</text>\n<text text-anchor=\"middle\" x=\"2241\" y=\"-816.3\" font-family=\"Helvetica,sans-Serif\" font-size=\"14.00\" fill=\"#000000\">25</text>\n<text text-anchor=\"middle\" x=\"2241\" y=\"-801.3\" font-family=\"Helvetica,sans-Serif\" font-size=\"14.00\" fill=\"#000000\">Diving</text>\n</g>\n<!-- 1 -->\n<g id=\"node2\" class=\"node\">\n<title>1</title>\n<path fill=\"#ffffff\" stroke=\"#000000\" d=\"M2189,-757.5C2189,-757.5 1987,-757.5 1987,-757.5 1981,-757.5 1975,-751.5 1975,-745.5 1975,-745.5 1975,-716.5 1975,-716.5 1975,-710.5 1981,-704.5 1987,-704.5 1987,-704.5 2189,-704.5 2189,-704.5 2195,-704.5 2201,-710.5 2201,-716.5 2201,-716.5 2201,-745.5 2201,-745.5 2201,-751.5 2195,-757.5 2189,-757.5\"/>\n<text text-anchor=\"middle\" x=\"2088\" y=\"-742.3\" font-family=\"Helvetica,sans-Serif\" font-size=\"14.00\" fill=\"#000000\">Is there a goal or a hoop? &lt;= 0.0</text>\n<text text-anchor=\"middle\" x=\"2088\" y=\"-727.3\" font-family=\"Helvetica,sans-Serif\" font-size=\"14.00\" fill=\"#000000\">20</text>\n<text text-anchor=\"middle\" x=\"2088\" y=\"-712.3\" font-family=\"Helvetica,sans-Serif\" font-size=\"14.00\" fill=\"#000000\">Diving</text>\n</g>\n<!-- 0&#45;&gt;1 -->\n<g id=\"edge1\" class=\"edge\">\n<title>0&#45;&gt;1</title>\n<path fill=\"none\" stroke=\"#000000\" d=\"M2195.095,-793.2971C2178.5297,-783.6611 2159.6729,-772.6921 2142.4473,-762.6719\"/>\n<polygon fill=\"#000000\" stroke=\"#000000\" points=\"2144.0126,-759.5335 2133.6088,-757.5306 2140.4929,-765.5842 2144.0126,-759.5335\"/>\n<text text-anchor=\"middle\" x=\"2140.0006\" y=\"-777.9997\" font-family=\"Helvetica,sans-Serif\" font-size=\"14.00\" fill=\"#000000\">True</text>\n</g>\n<!-- 40 -->\n<g id=\"node41\" class=\"node\">\n<title>40</title>\n<path fill=\"#ffffff\" stroke=\"#000000\" d=\"M2581,-757.5C2581,-757.5 2357,-757.5 2357,-757.5 2351,-757.5 2345,-751.5 2345,-745.5 2345,-745.5 2345,-716.5 2345,-716.5 2345,-710.5 2351,-704.5 2357,-704.5 2357,-704.5 2581,-704.5 2581,-704.5 2587,-704.5 2593,-710.5 2593,-716.5 2593,-716.5 2593,-745.5 2593,-745.5 2593,-751.5 2587,-757.5 2581,-757.5\"/>\n<text text-anchor=\"middle\" x=\"2469\" y=\"-742.3\" font-family=\"Helvetica,sans-Serif\" font-size=\"14.00\" fill=\"#000000\">Is it always played outdoors? &lt;= 0.0</text>\n<text text-anchor=\"middle\" x=\"2469\" y=\"-727.3\" font-family=\"Helvetica,sans-Serif\" font-size=\"14.00\" fill=\"#000000\">5</text>\n<text text-anchor=\"middle\" x=\"2469\" y=\"-712.3\" font-family=\"Helvetica,sans-Serif\" font-size=\"14.00\" fill=\"#000000\">Wrestling</text>\n</g>\n<!-- 0&#45;&gt;40 -->\n<g id=\"edge40\" class=\"edge\">\n<title>0&#45;&gt;40</title>\n<path fill=\"none\" stroke=\"#000000\" d=\"M2309.0987,-793.4176C2335.0395,-783.2916 2364.7869,-771.6797 2391.534,-761.2389\"/>\n<polygon fill=\"#000000\" stroke=\"#000000\" points=\"2392.8158,-764.4958 2400.8585,-757.5991 2390.2703,-757.975 2392.8158,-764.4958\"/>\n<text text-anchor=\"middle\" x=\"2390.8191\" y=\"-776.7947\" font-family=\"Helvetica,sans-Serif\" font-size=\"14.00\" fill=\"#000000\">False</text>\n</g>\n<!-- 2 -->\n<g id=\"node3\" class=\"node\">\n<title>2</title>\n<path fill=\"#ffffff\" stroke=\"#000000\" d=\"M1771,-668.5C1771,-668.5 1649,-668.5 1649,-668.5 1643,-668.5 1637,-662.5 1637,-656.5 1637,-656.5 1637,-627.5 1637,-627.5 1637,-621.5 1643,-615.5 1649,-615.5 1649,-615.5 1771,-615.5 1771,-615.5 1777,-615.5 1783,-621.5 1783,-627.5 1783,-627.5 1783,-656.5 1783,-656.5 1783,-662.5 1777,-668.5 1771,-668.5\"/>\n<text text-anchor=\"middle\" x=\"1710\" y=\"-653.3\" font-family=\"Helvetica,sans-Serif\" font-size=\"14.00\" fill=\"#000000\">Ice involved? &lt;= 0.0</text>\n<text text-anchor=\"middle\" x=\"1710\" y=\"-638.3\" font-family=\"Helvetica,sans-Serif\" font-size=\"14.00\" fill=\"#000000\">17</text>\n<text text-anchor=\"middle\" x=\"1710\" y=\"-623.3\" font-family=\"Helvetica,sans-Serif\" font-size=\"14.00\" fill=\"#000000\">Diving</text>\n</g>\n<!-- 1&#45;&gt;2 -->\n<g id=\"edge2\" class=\"edge\">\n<title>1&#45;&gt;2</title>\n<path fill=\"none\" stroke=\"#000000\" d=\"M1975.3553,-704.4778C1916.7719,-690.6844 1846.4229,-674.1207 1792.8827,-661.5147\"/>\n<polygon fill=\"#000000\" stroke=\"#000000\" points=\"1793.6238,-658.0936 1783.0878,-659.2085 1792.0195,-664.9073 1793.6238,-658.0936\"/>\n</g>\n<!-- 35 -->\n<g id=\"node36\" class=\"node\">\n<title>35</title>\n<path fill=\"#ffffff\" stroke=\"#000000\" d=\"M2200,-668.5C2200,-668.5 1976,-668.5 1976,-668.5 1970,-668.5 1964,-662.5 1964,-656.5 1964,-656.5 1964,-627.5 1964,-627.5 1964,-621.5 1970,-615.5 1976,-615.5 1976,-615.5 2200,-615.5 2200,-615.5 2206,-615.5 2212,-621.5 2212,-627.5 2212,-627.5 2212,-656.5 2212,-656.5 2212,-662.5 2206,-668.5 2200,-668.5\"/>\n<text text-anchor=\"middle\" x=\"2088\" y=\"-653.3\" font-family=\"Helvetica,sans-Serif\" font-size=\"14.00\" fill=\"#000000\">Is it always played outdoors? &lt;= 0.0</text>\n<text text-anchor=\"middle\" x=\"2088\" y=\"-638.3\" font-family=\"Helvetica,sans-Serif\" font-size=\"14.00\" fill=\"#000000\">3</text>\n<text text-anchor=\"middle\" x=\"2088\" y=\"-623.3\" font-family=\"Helvetica,sans-Serif\" font-size=\"14.00\" fill=\"#000000\">Basketball</text>\n</g>\n<!-- 1&#45;&gt;35 -->\n<g id=\"edge35\" class=\"edge\">\n<title>1&#45;&gt;35</title>\n<path fill=\"none\" stroke=\"#000000\" d=\"M2088,-704.2971C2088,-696.2887 2088,-687.3597 2088,-678.8198\"/>\n<polygon fill=\"#000000\" stroke=\"#000000\" points=\"2091.5001,-678.6841 2088,-668.6841 2084.5001,-678.6841 2091.5001,-678.6841\"/>\n</g>\n<!-- 3 -->\n<g id=\"node4\" class=\"node\">\n<title>3</title>\n<path fill=\"#ffffff\" stroke=\"#000000\" d=\"M1586,-579.5C1586,-579.5 1422,-579.5 1422,-579.5 1416,-579.5 1410,-573.5 1410,-567.5 1410,-567.5 1410,-538.5 1410,-538.5 1410,-532.5 1416,-526.5 1422,-526.5 1422,-526.5 1586,-526.5 1586,-526.5 1592,-526.5 1598,-532.5 1598,-538.5 1598,-538.5 1598,-567.5 1598,-567.5 1598,-573.5 1592,-579.5 1586,-579.5\"/>\n<text text-anchor=\"middle\" x=\"1504\" y=\"-564.3\" font-family=\"Helvetica,sans-Serif\" font-size=\"14.00\" fill=\"#000000\">Subjective scoring? &lt;= 0.0</text>\n<text text-anchor=\"middle\" x=\"1504\" y=\"-549.3\" font-family=\"Helvetica,sans-Serif\" font-size=\"14.00\" fill=\"#000000\">15</text>\n<text text-anchor=\"middle\" x=\"1504\" y=\"-534.3\" font-family=\"Helvetica,sans-Serif\" font-size=\"14.00\" fill=\"#000000\">Diving</text>\n</g>\n<!-- 2&#45;&gt;3 -->\n<g id=\"edge3\" class=\"edge\">\n<title>2&#45;&gt;3</title>\n<path fill=\"none\" stroke=\"#000000\" d=\"M1648.4722,-615.4176C1625.3416,-605.4243 1598.861,-593.9837 1574.9423,-583.6498\"/>\n<polygon fill=\"#000000\" stroke=\"#000000\" points=\"1576.1345,-580.3523 1565.5664,-579.5991 1573.3582,-586.7782 1576.1345,-580.3523\"/>\n</g>\n<!-- 32 -->\n<g id=\"node33\" class=\"node\">\n<title>32</title>\n<path fill=\"#ffffff\" stroke=\"#000000\" d=\"M1791.5,-579.5C1791.5,-579.5 1628.5,-579.5 1628.5,-579.5 1622.5,-579.5 1616.5,-573.5 1616.5,-567.5 1616.5,-567.5 1616.5,-538.5 1616.5,-538.5 1616.5,-532.5 1622.5,-526.5 1628.5,-526.5 1628.5,-526.5 1791.5,-526.5 1791.5,-526.5 1797.5,-526.5 1803.5,-532.5 1803.5,-538.5 1803.5,-538.5 1803.5,-567.5 1803.5,-567.5 1803.5,-573.5 1797.5,-579.5 1791.5,-579.5\"/>\n<text text-anchor=\"middle\" x=\"1710\" y=\"-564.3\" font-family=\"Helvetica,sans-Serif\" font-size=\"14.00\" fill=\"#000000\">Race of some sort? &lt;= 0.0</text>\n<text text-anchor=\"middle\" x=\"1710\" y=\"-549.3\" font-family=\"Helvetica,sans-Serif\" font-size=\"14.00\" fill=\"#000000\">2</text>\n<text text-anchor=\"middle\" x=\"1710\" y=\"-534.3\" font-family=\"Helvetica,sans-Serif\" font-size=\"14.00\" fill=\"#000000\">Speed skating</text>\n</g>\n<!-- 2&#45;&gt;32 -->\n<g id=\"edge32\" class=\"edge\">\n<title>2&#45;&gt;32</title>\n<path fill=\"none\" stroke=\"#000000\" d=\"M1710,-615.2971C1710,-607.2887 1710,-598.3597 1710,-589.8198\"/>\n<polygon fill=\"#000000\" stroke=\"#000000\" points=\"1713.5001,-589.6841 1710,-579.6841 1706.5001,-589.6841 1713.5001,-589.6841\"/>\n</g>\n<!-- 4 -->\n<g id=\"node5\" class=\"node\">\n<title>4</title>\n<path fill=\"#ffffff\" stroke=\"#000000\" d=\"M1366,-490.5C1366,-490.5 756,-490.5 756,-490.5 750,-490.5 744,-484.5 744,-478.5 744,-478.5 744,-449.5 744,-449.5 744,-443.5 750,-437.5 756,-437.5 756,-437.5 1366,-437.5 1366,-437.5 1372,-437.5 1378,-443.5 1378,-449.5 1378,-449.5 1378,-478.5 1378,-478.5 1378,-484.5 1372,-490.5 1366,-490.5\"/>\n<text text-anchor=\"middle\" x=\"1061\" y=\"-475.3\" font-family=\"Helvetica,sans-Serif\" font-size=\"14.00\" fill=\"#000000\">Does each participant have small gear like a racquet, stick, skates, skis, mitt, sword, etc.? &lt;= 0.0</text>\n<text text-anchor=\"middle\" x=\"1061\" y=\"-460.3\" font-family=\"Helvetica,sans-Serif\" font-size=\"14.00\" fill=\"#000000\">12</text>\n<text text-anchor=\"middle\" x=\"1061\" y=\"-445.3\" font-family=\"Helvetica,sans-Serif\" font-size=\"14.00\" fill=\"#000000\">Swimming</text>\n</g>\n<!-- 3&#45;&gt;4 -->\n<g id=\"edge4\" class=\"edge\">\n<title>3&#45;&gt;4</title>\n<path fill=\"none\" stroke=\"#000000\" d=\"M1409.7801,-534.0709C1349.7299,-522.0067 1270.7877,-506.147 1203.1964,-492.5677\"/>\n<polygon fill=\"#000000\" stroke=\"#000000\" points=\"1203.8034,-489.1198 1193.3099,-490.5814 1202.4246,-495.9826 1203.8034,-489.1198\"/>\n</g>\n<!-- 27 -->\n<g id=\"node28\" class=\"node\">\n<title>27</title>\n<path fill=\"#ffffff\" stroke=\"#000000\" d=\"M1613.5,-490.5C1613.5,-490.5 1408.5,-490.5 1408.5,-490.5 1402.5,-490.5 1396.5,-484.5 1396.5,-478.5 1396.5,-478.5 1396.5,-449.5 1396.5,-449.5 1396.5,-443.5 1402.5,-437.5 1408.5,-437.5 1408.5,-437.5 1613.5,-437.5 1613.5,-437.5 1619.5,-437.5 1625.5,-443.5 1625.5,-449.5 1625.5,-449.5 1625.5,-478.5 1625.5,-478.5 1625.5,-484.5 1619.5,-490.5 1613.5,-490.5\"/>\n<text text-anchor=\"middle\" x=\"1511\" y=\"-475.3\" font-family=\"Helvetica,sans-Serif\" font-size=\"14.00\" fill=\"#000000\">Necessarily a team sport? &lt;= 0.0</text>\n<text text-anchor=\"middle\" x=\"1511\" y=\"-460.3\" font-family=\"Helvetica,sans-Serif\" font-size=\"14.00\" fill=\"#000000\">3</text>\n<text text-anchor=\"middle\" x=\"1511\" y=\"-445.3\" font-family=\"Helvetica,sans-Serif\" font-size=\"14.00\" fill=\"#000000\">Diving</text>\n</g>\n<!-- 3&#45;&gt;27 -->\n<g id=\"edge27\" class=\"edge\">\n<title>3&#45;&gt;27</title>\n<path fill=\"none\" stroke=\"#000000\" d=\"M1506.1002,-526.2971C1506.7301,-518.2887 1507.4324,-509.3597 1508.1041,-500.8198\"/>\n<polygon fill=\"#000000\" stroke=\"#000000\" points=\"1511.6063,-500.9278 1508.9013,-490.6841 1504.6278,-500.3788 1511.6063,-500.9278\"/>\n</g>\n<!-- 5 -->\n<g id=\"node6\" class=\"node\">\n<title>5</title>\n<path fill=\"#ffffff\" stroke=\"#000000\" d=\"M868,-401.5C868,-401.5 326,-401.5 326,-401.5 320,-401.5 314,-395.5 314,-389.5 314,-389.5 314,-360.5 314,-360.5 314,-354.5 320,-348.5 326,-348.5 326,-348.5 868,-348.5 868,-348.5 874,-348.5 880,-354.5 880,-360.5 880,-360.5 880,-389.5 880,-389.5 880,-395.5 874,-401.5 868,-401.5\"/>\n<text text-anchor=\"middle\" x=\"597\" y=\"-386.3\" font-family=\"Helvetica,sans-Serif\" font-size=\"14.00\" fill=\"#000000\">Does each person have large equipment (bike, boat; NOT skates, skis, stick...) &lt;= 0.0</text>\n<text text-anchor=\"middle\" x=\"597\" y=\"-371.3\" font-family=\"Helvetica,sans-Serif\" font-size=\"14.00\" fill=\"#000000\">8</text>\n<text text-anchor=\"middle\" x=\"597\" y=\"-356.3\" font-family=\"Helvetica,sans-Serif\" font-size=\"14.00\" fill=\"#000000\">Swimming</text>\n</g>\n<!-- 4&#45;&gt;5 -->\n<g id=\"edge5\" class=\"edge\">\n<title>4&#45;&gt;5</title>\n<path fill=\"none\" stroke=\"#000000\" d=\"M922.7272,-437.4778C866.9176,-426.773 802.4093,-414.3996 745.5979,-403.5026\"/>\n<polygon fill=\"#000000\" stroke=\"#000000\" points=\"745.9319,-400.0029 735.4516,-401.5564 744.6132,-406.8776 745.9319,-400.0029\"/>\n</g>\n<!-- 20 -->\n<g id=\"node21\" class=\"node\">\n<title>20</title>\n<path fill=\"#ffffff\" stroke=\"#000000\" d=\"M1224,-401.5C1224,-401.5 910,-401.5 910,-401.5 904,-401.5 898,-395.5 898,-389.5 898,-389.5 898,-360.5 898,-360.5 898,-354.5 904,-348.5 910,-348.5 910,-348.5 1224,-348.5 1224,-348.5 1230,-348.5 1236,-354.5 1236,-360.5 1236,-360.5 1236,-389.5 1236,-389.5 1236,-395.5 1230,-401.5 1224,-401.5\"/>\n<text text-anchor=\"middle\" x=\"1067\" y=\"-386.3\" font-family=\"Helvetica,sans-Serif\" font-size=\"14.00\" fill=\"#000000\">Is there a ball bigger than a baseball used? &lt;= 0.0</text>\n<text text-anchor=\"middle\" x=\"1067\" y=\"-371.3\" font-family=\"Helvetica,sans-Serif\" font-size=\"14.00\" fill=\"#000000\">4</text>\n<text text-anchor=\"middle\" x=\"1067\" y=\"-356.3\" font-family=\"Helvetica,sans-Serif\" font-size=\"14.00\" fill=\"#000000\">Baseball</text>\n</g>\n<!-- 4&#45;&gt;20 -->\n<g id=\"edge20\" class=\"edge\">\n<title>4&#45;&gt;20</title>\n<path fill=\"none\" stroke=\"#000000\" d=\"M1062.8002,-437.2971C1063.3401,-429.2887 1063.942,-420.3597 1064.5178,-411.8198\"/>\n<polygon fill=\"#000000\" stroke=\"#000000\" points=\"1068.0204,-411.8969 1065.2011,-401.6841 1061.0363,-411.426 1068.0204,-411.8969\"/>\n</g>\n<!-- 6 -->\n<g id=\"node7\" class=\"node\">\n<title>6</title>\n<path fill=\"#ffffff\" stroke=\"#000000\" d=\"M483,-312.5C483,-312.5 169,-312.5 169,-312.5 163,-312.5 157,-306.5 157,-300.5 157,-300.5 157,-271.5 157,-271.5 157,-265.5 163,-259.5 169,-259.5 169,-259.5 483,-259.5 483,-259.5 489,-259.5 495,-265.5 495,-271.5 495,-271.5 495,-300.5 495,-300.5 495,-306.5 489,-312.5 483,-312.5\"/>\n<text text-anchor=\"middle\" x=\"326\" y=\"-297.3\" font-family=\"Helvetica,sans-Serif\" font-size=\"14.00\" fill=\"#000000\">Is there a ball bigger than a baseball used? &lt;= 0.0</text>\n<text text-anchor=\"middle\" x=\"326\" y=\"-282.3\" font-family=\"Helvetica,sans-Serif\" font-size=\"14.00\" fill=\"#000000\">5</text>\n<text text-anchor=\"middle\" x=\"326\" y=\"-267.3\" font-family=\"Helvetica,sans-Serif\" font-size=\"14.00\" fill=\"#000000\">Swimming</text>\n</g>\n<!-- 5&#45;&gt;6 -->\n<g id=\"edge6\" class=\"edge\">\n<title>5&#45;&gt;6</title>\n<path fill=\"none\" stroke=\"#000000\" d=\"M516.0581,-348.4176C484.8211,-338.159 448.9401,-326.3752 416.8282,-315.8292\"/>\n<polygon fill=\"#000000\" stroke=\"#000000\" points=\"417.5856,-312.3941 406.9927,-312.5991 415.4014,-319.0446 417.5856,-312.3941\"/>\n</g>\n<!-- 15 -->\n<g id=\"node16\" class=\"node\">\n<title>15</title>\n<path fill=\"#ffffff\" stroke=\"#000000\" d=\"M687.5,-312.5C687.5,-312.5 524.5,-312.5 524.5,-312.5 518.5,-312.5 512.5,-306.5 512.5,-300.5 512.5,-300.5 512.5,-271.5 512.5,-271.5 512.5,-265.5 518.5,-259.5 524.5,-259.5 524.5,-259.5 687.5,-259.5 687.5,-259.5 693.5,-259.5 699.5,-265.5 699.5,-271.5 699.5,-271.5 699.5,-300.5 699.5,-300.5 699.5,-306.5 693.5,-312.5 687.5,-312.5\"/>\n<text text-anchor=\"middle\" x=\"606\" y=\"-297.3\" font-family=\"Helvetica,sans-Serif\" font-size=\"14.00\" fill=\"#000000\">Race of some sort? &lt;= 0.0</text>\n<text text-anchor=\"middle\" x=\"606\" y=\"-282.3\" font-family=\"Helvetica,sans-Serif\" font-size=\"14.00\" fill=\"#000000\">3</text>\n<text text-anchor=\"middle\" x=\"606\" y=\"-267.3\" font-family=\"Helvetica,sans-Serif\" font-size=\"14.00\" fill=\"#000000\">Kayak</text>\n</g>\n<!-- 5&#45;&gt;15 -->\n<g id=\"edge15\" class=\"edge\">\n<title>5&#45;&gt;15</title>\n<path fill=\"none\" stroke=\"#000000\" d=\"M599.7003,-348.2971C600.5101,-340.2887 601.4131,-331.3597 602.2766,-322.8198\"/>\n<polygon fill=\"#000000\" stroke=\"#000000\" points=\"605.7777,-322.9855 603.3016,-312.6841 598.8132,-322.2812 605.7777,-322.9855\"/>\n</g>\n<!-- 7 -->\n<g id=\"node8\" class=\"node\">\n<title>7</title>\n<path fill=\"#ffffff\" stroke=\"#000000\" d=\"M236,-223.5C236,-223.5 12,-223.5 12,-223.5 6,-223.5 0,-217.5 0,-211.5 0,-211.5 0,-182.5 0,-182.5 0,-176.5 6,-170.5 12,-170.5 12,-170.5 236,-170.5 236,-170.5 242,-170.5 248,-176.5 248,-182.5 248,-182.5 248,-211.5 248,-211.5 248,-217.5 242,-223.5 236,-223.5\"/>\n<text text-anchor=\"middle\" x=\"124\" y=\"-208.3\" font-family=\"Helvetica,sans-Serif\" font-size=\"14.00\" fill=\"#000000\">Is it always played outdoors? &lt;= 0.0</text>\n<text text-anchor=\"middle\" x=\"124\" y=\"-193.3\" font-family=\"Helvetica,sans-Serif\" font-size=\"14.00\" fill=\"#000000\">2</text>\n<text text-anchor=\"middle\" x=\"124\" y=\"-178.3\" font-family=\"Helvetica,sans-Serif\" font-size=\"14.00\" fill=\"#000000\">Swimming</text>\n</g>\n<!-- 6&#45;&gt;7 -->\n<g id=\"edge7\" class=\"edge\">\n<title>6&#45;&gt;7</title>\n<path fill=\"none\" stroke=\"#000000\" d=\"M265.667,-259.4176C242.9854,-249.4243 217.0191,-237.9837 193.5648,-227.6498\"/>\n<polygon fill=\"#000000\" stroke=\"#000000\" points=\"194.9333,-224.4282 184.371,-223.5991 192.1109,-230.834 194.9333,-224.4282\"/>\n</g>\n<!-- 10 -->\n<g id=\"node11\" class=\"node\">\n<title>10</title>\n<path fill=\"#ffffff\" stroke=\"#000000\" d=\"M399.5,-223.5C399.5,-223.5 278.5,-223.5 278.5,-223.5 272.5,-223.5 266.5,-217.5 266.5,-211.5 266.5,-211.5 266.5,-182.5 266.5,-182.5 266.5,-176.5 272.5,-170.5 278.5,-170.5 278.5,-170.5 399.5,-170.5 399.5,-170.5 405.5,-170.5 411.5,-176.5 411.5,-182.5 411.5,-182.5 411.5,-211.5 411.5,-211.5 411.5,-217.5 405.5,-223.5 399.5,-223.5\"/>\n<text text-anchor=\"middle\" x=\"339\" y=\"-208.3\" font-family=\"Helvetica,sans-Serif\" font-size=\"14.00\" fill=\"#000000\">Water Sport? &lt;= 0.0</text>\n<text text-anchor=\"middle\" x=\"339\" y=\"-193.3\" font-family=\"Helvetica,sans-Serif\" font-size=\"14.00\" fill=\"#000000\">3</text>\n<text text-anchor=\"middle\" x=\"339\" y=\"-178.3\" font-family=\"Helvetica,sans-Serif\" font-size=\"14.00\" fill=\"#000000\">Water Polo</text>\n</g>\n<!-- 6&#45;&gt;10 -->\n<g id=\"edge10\" class=\"edge\">\n<title>6&#45;&gt;10</title>\n<path fill=\"none\" stroke=\"#000000\" d=\"M329.9004,-259.2971C331.0702,-251.2887 332.3744,-242.3597 333.6218,-233.8198\"/>\n<polygon fill=\"#000000\" stroke=\"#000000\" points=\"337.1202,-234.085 335.1023,-223.6841 330.1937,-233.0732 337.1202,-234.085\"/>\n</g>\n<!-- 8 -->\n<g id=\"node9\" class=\"node\">\n<title>8</title>\n<path fill=\"#e5a939\" stroke=\"#000000\" d=\"M72.5,-38C72.5,-38 13.5,-38 13.5,-38 7.5,-38 1.5,-32 1.5,-26 1.5,-26 1.5,-12 1.5,-12 1.5,-6 7.5,0 13.5,0 13.5,0 72.5,0 72.5,0 78.5,0 84.5,-6 84.5,-12 84.5,-12 84.5,-26 84.5,-26 84.5,-32 78.5,-38 72.5,-38\"/>\n<text text-anchor=\"middle\" x=\"43\" y=\"-22.8\" font-family=\"Helvetica,sans-Serif\" font-size=\"14.00\" fill=\"#000000\">1</text>\n<text text-anchor=\"middle\" x=\"43\" y=\"-7.8\" font-family=\"Helvetica,sans-Serif\" font-size=\"14.00\" fill=\"#000000\">Swimming</text>\n</g>\n<!-- 7&#45;&gt;8 -->\n<g id=\"edge8\" class=\"edge\">\n<title>7&#45;&gt;8</title>\n<path fill=\"none\" stroke=\"#000000\" d=\"M111.8735,-170.3516C96.8506,-137.3382 71.3603,-81.3227 55.9613,-47.4829\"/>\n<polygon fill=\"#000000\" stroke=\"#000000\" points=\"59.0435,-45.8057 51.7159,-38.1534 52.6722,-48.705 59.0435,-45.8057\"/>\n</g>\n<!-- 9 -->\n<g id=\"node10\" class=\"node\">\n<title>9</title>\n<path fill=\"#39b4e5\" stroke=\"#000000\" d=\"M195.5,-38C195.5,-38 114.5,-38 114.5,-38 108.5,-38 102.5,-32 102.5,-26 102.5,-26 102.5,-12 102.5,-12 102.5,-6 108.5,0 114.5,0 114.5,0 195.5,0 195.5,0 201.5,0 207.5,-6 207.5,-12 207.5,-12 207.5,-26 207.5,-26 207.5,-32 201.5,-38 195.5,-38\"/>\n<text text-anchor=\"middle\" x=\"155\" y=\"-22.8\" font-family=\"Helvetica,sans-Serif\" font-size=\"14.00\" fill=\"#000000\">1</text>\n<text text-anchor=\"middle\" x=\"155\" y=\"-7.8\" font-family=\"Helvetica,sans-Serif\" font-size=\"14.00\" fill=\"#000000\">Track/running</text>\n</g>\n<!-- 7&#45;&gt;9 -->\n<g id=\"edge9\" class=\"edge\">\n<title>7&#45;&gt;9</title>\n<path fill=\"none\" stroke=\"#000000\" d=\"M128.641,-170.3516C134.3412,-137.6216 143.9789,-82.2827 149.8869,-48.3592\"/>\n<polygon fill=\"#000000\" stroke=\"#000000\" points=\"153.3966,-48.6057 151.6643,-38.1534 146.5004,-47.4046 153.3966,-48.6057\"/>\n</g>\n<!-- 11 -->\n<g id=\"node12\" class=\"node\">\n<title>11</title>\n<path fill=\"#ffffff\" stroke=\"#000000\" d=\"M435,-134.5C435,-134.5 211,-134.5 211,-134.5 205,-134.5 199,-128.5 199,-122.5 199,-122.5 199,-93.5 199,-93.5 199,-87.5 205,-81.5 211,-81.5 211,-81.5 435,-81.5 435,-81.5 441,-81.5 447,-87.5 447,-93.5 447,-93.5 447,-122.5 447,-122.5 447,-128.5 441,-134.5 435,-134.5\"/>\n<text text-anchor=\"middle\" x=\"323\" y=\"-119.3\" font-family=\"Helvetica,sans-Serif\" font-size=\"14.00\" fill=\"#000000\">Is it always played outdoors? &lt;= 0.0</text>\n<text text-anchor=\"middle\" x=\"323\" y=\"-104.3\" font-family=\"Helvetica,sans-Serif\" font-size=\"14.00\" fill=\"#000000\">2</text>\n<text text-anchor=\"middle\" x=\"323\" y=\"-89.3\" font-family=\"Helvetica,sans-Serif\" font-size=\"14.00\" fill=\"#000000\">Volleyball</text>\n</g>\n<!-- 10&#45;&gt;11 -->\n<g id=\"edge11\" class=\"edge\">\n<title>10&#45;&gt;11</title>\n<path fill=\"none\" stroke=\"#000000\" d=\"M334.1995,-170.2971C332.744,-162.2007 331.1193,-153.1633 329.5687,-144.5384\"/>\n<polygon fill=\"#000000\" stroke=\"#000000\" points=\"333.0114,-143.907 327.7971,-134.6841 326.1218,-145.1456 333.0114,-143.907\"/>\n</g>\n<!-- 14 -->\n<g id=\"node15\" class=\"node\">\n<title>14</title>\n<path fill=\"#cee539\" stroke=\"#000000\" d=\"M506.5,-38C506.5,-38 443.5,-38 443.5,-38 437.5,-38 431.5,-32 431.5,-26 431.5,-26 431.5,-12 431.5,-12 431.5,-6 437.5,0 443.5,0 443.5,0 506.5,0 506.5,0 512.5,0 518.5,-6 518.5,-12 518.5,-12 518.5,-26 518.5,-26 518.5,-32 512.5,-38 506.5,-38\"/>\n<text text-anchor=\"middle\" x=\"475\" y=\"-22.8\" font-family=\"Helvetica,sans-Serif\" font-size=\"14.00\" fill=\"#000000\">1</text>\n<text text-anchor=\"middle\" x=\"475\" y=\"-7.8\" font-family=\"Helvetica,sans-Serif\" font-size=\"14.00\" fill=\"#000000\">Water Polo</text>\n</g>\n<!-- 10&#45;&gt;14 -->\n<g id=\"edge14\" class=\"edge\">\n<title>10&#45;&gt;14</title>\n<path fill=\"none\" stroke=\"#000000\" d=\"M388.6185,-170.4944C420.5069,-153.46 456,-134.5 456,-134.5 456,-134.5 464.5956,-82.2477 470.2239,-48.0337\"/>\n<polygon fill=\"#000000\" stroke=\"#000000\" points=\"473.6928,-48.508 471.8625,-38.0725 466.7857,-47.3717 473.6928,-48.508\"/>\n</g>\n<!-- 12 -->\n<g id=\"node13\" class=\"node\">\n<title>12</title>\n<path fill=\"#39e5c5\" stroke=\"#000000\" d=\"M304,-38C304,-38 250,-38 250,-38 244,-38 238,-32 238,-26 238,-26 238,-12 238,-12 238,-6 244,0 250,0 250,0 304,0 304,0 310,0 316,-6 316,-12 316,-12 316,-26 316,-26 316,-32 310,-38 304,-38\"/>\n<text text-anchor=\"middle\" x=\"277\" y=\"-22.8\" font-family=\"Helvetica,sans-Serif\" font-size=\"14.00\" fill=\"#000000\">1</text>\n<text text-anchor=\"middle\" x=\"277\" y=\"-7.8\" font-family=\"Helvetica,sans-Serif\" font-size=\"14.00\" fill=\"#000000\">Volleyball</text>\n</g>\n<!-- 11&#45;&gt;12 -->\n<g id=\"edge12\" class=\"edge\">\n<title>11&#45;&gt;12</title>\n<path fill=\"none\" stroke=\"#000000\" d=\"M309.1985,-81.2971C303.6311,-70.5254 297.2028,-58.0881 291.561,-47.1725\"/>\n<polygon fill=\"#000000\" stroke=\"#000000\" points=\"294.5478,-45.3283 286.847,-38.0518 288.3293,-48.5424 294.5478,-45.3283\"/>\n</g>\n<!-- 13 -->\n<g id=\"node14\" class=\"node\">\n<title>13</title>\n<path fill=\"#8c39e5\" stroke=\"#000000\" d=\"M390,-38C390,-38 346,-38 346,-38 340,-38 334,-32 334,-26 334,-26 334,-12 334,-12 334,-6 340,0 346,0 346,0 390,0 390,0 396,0 402,-6 402,-12 402,-12 402,-26 402,-26 402,-32 396,-38 390,-38\"/>\n<text text-anchor=\"middle\" x=\"368\" y=\"-22.8\" font-family=\"Helvetica,sans-Serif\" font-size=\"14.00\" fill=\"#000000\">1</text>\n<text text-anchor=\"middle\" x=\"368\" y=\"-7.8\" font-family=\"Helvetica,sans-Serif\" font-size=\"14.00\" fill=\"#000000\">Football</text>\n</g>\n<!-- 11&#45;&gt;13 -->\n<g id=\"edge13\" class=\"edge\">\n<title>11&#45;&gt;13</title>\n<path fill=\"none\" stroke=\"#000000\" d=\"M336.5015,-81.2971C341.9478,-70.5254 348.2364,-58.0881 353.7555,-47.1725\"/>\n<polygon fill=\"#000000\" stroke=\"#000000\" points=\"356.9783,-48.5552 358.3671,-38.0518 350.7314,-45.3966 356.9783,-48.5552\"/>\n</g>\n<!-- 16 -->\n<g id=\"node17\" class=\"node\">\n<title>16</title>\n<path fill=\"#a6e539\" stroke=\"#000000\" d=\"M609,-38C609,-38 575,-38 575,-38 569,-38 563,-32 563,-26 563,-26 563,-12 563,-12 563,-6 569,0 575,0 575,0 609,0 609,0 615,0 621,-6 621,-12 621,-12 621,-26 621,-26 621,-32 615,-38 609,-38\"/>\n<text text-anchor=\"middle\" x=\"592\" y=\"-22.8\" font-family=\"Helvetica,sans-Serif\" font-size=\"14.00\" fill=\"#000000\">1</text>\n<text text-anchor=\"middle\" x=\"592\" y=\"-7.8\" font-family=\"Helvetica,sans-Serif\" font-size=\"14.00\" fill=\"#000000\">Kayak</text>\n</g>\n<!-- 15&#45;&gt;16 -->\n<g id=\"edge16\" class=\"edge\">\n<title>15&#45;&gt;16</title>\n<path fill=\"none\" stroke=\"#000000\" d=\"M604.6064,-259.4229C601.972,-209.1801 596.2801,-100.6268 593.538,-48.3321\"/>\n<polygon fill=\"#000000\" stroke=\"#000000\" points=\"597.0187,-47.8711 592.9998,-38.0681 590.0283,-48.2377 597.0187,-47.8711\"/>\n</g>\n<!-- 17 -->\n<g id=\"node18\" class=\"node\">\n<title>17</title>\n<path fill=\"#ffffff\" stroke=\"#000000\" d=\"M753.5,-223.5C753.5,-223.5 632.5,-223.5 632.5,-223.5 626.5,-223.5 620.5,-217.5 620.5,-211.5 620.5,-211.5 620.5,-182.5 620.5,-182.5 620.5,-176.5 626.5,-170.5 632.5,-170.5 632.5,-170.5 753.5,-170.5 753.5,-170.5 759.5,-170.5 765.5,-176.5 765.5,-182.5 765.5,-182.5 765.5,-211.5 765.5,-211.5 765.5,-217.5 759.5,-223.5 753.5,-223.5\"/>\n<text text-anchor=\"middle\" x=\"693\" y=\"-208.3\" font-family=\"Helvetica,sans-Serif\" font-size=\"14.00\" fill=\"#000000\">Water Sport? &lt;= 0.0</text>\n<text text-anchor=\"middle\" x=\"693\" y=\"-193.3\" font-family=\"Helvetica,sans-Serif\" font-size=\"14.00\" fill=\"#000000\">2</text>\n<text text-anchor=\"middle\" x=\"693\" y=\"-178.3\" font-family=\"Helvetica,sans-Serif\" font-size=\"14.00\" fill=\"#000000\">Bicycling</text>\n</g>\n<!-- 15&#45;&gt;17 -->\n<g id=\"edge17\" class=\"edge\">\n<title>15&#45;&gt;17</title>\n<path fill=\"none\" stroke=\"#000000\" d=\"M632.1029,-259.2971C640.7915,-250.4087 650.5888,-240.3862 659.7442,-231.0203\"/>\n<polygon fill=\"#000000\" stroke=\"#000000\" points=\"662.4281,-233.2817 666.9156,-223.6841 657.4224,-228.3885 662.4281,-233.2817\"/>\n</g>\n<!-- 18 -->\n<g id=\"node19\" class=\"node\">\n<title>18</title>\n<path fill=\"#53e539\" stroke=\"#000000\" d=\"M709,-38C709,-38 659,-38 659,-38 653,-38 647,-32 647,-26 647,-26 647,-12 647,-12 647,-6 653,0 659,0 659,0 709,0 709,0 715,0 721,-6 721,-12 721,-12 721,-26 721,-26 721,-32 715,-38 709,-38\"/>\n<text text-anchor=\"middle\" x=\"684\" y=\"-22.8\" font-family=\"Helvetica,sans-Serif\" font-size=\"14.00\" fill=\"#000000\">1</text>\n<text text-anchor=\"middle\" x=\"684\" y=\"-7.8\" font-family=\"Helvetica,sans-Serif\" font-size=\"14.00\" fill=\"#000000\">Bicycling</text>\n</g>\n<!-- 17&#45;&gt;18 -->\n<g id=\"edge18\" class=\"edge\">\n<title>17&#45;&gt;18</title>\n<path fill=\"none\" stroke=\"#000000\" d=\"M691.6526,-170.3516C689.9977,-137.6216 687.1997,-82.2827 685.4845,-48.3592\"/>\n<polygon fill=\"#000000\" stroke=\"#000000\" points=\"688.969,-47.9639 684.9684,-38.1534 681.978,-48.3174 688.969,-47.9639\"/>\n</g>\n<!-- 19 -->\n<g id=\"node20\" class=\"node\">\n<title>19</title>\n<path fill=\"#df39e5\" stroke=\"#000000\" d=\"M787,-38C787,-38 751,-38 751,-38 745,-38 739,-32 739,-26 739,-26 739,-12 739,-12 739,-6 745,0 751,0 751,0 787,0 787,0 793,0 799,-6 799,-12 799,-12 799,-26 799,-26 799,-32 793,-38 787,-38\"/>\n<text text-anchor=\"middle\" x=\"769\" y=\"-22.8\" font-family=\"Helvetica,sans-Serif\" font-size=\"14.00\" fill=\"#000000\">1</text>\n<text text-anchor=\"middle\" x=\"769\" y=\"-7.8\" font-family=\"Helvetica,sans-Serif\" font-size=\"14.00\" fill=\"#000000\">Sailing</text>\n</g>\n<!-- 17&#45;&gt;19 -->\n<g id=\"edge19\" class=\"edge\">\n<title>17&#45;&gt;19</title>\n<path fill=\"none\" stroke=\"#000000\" d=\"M704.378,-170.3516C718.4736,-137.3382 742.3903,-81.3227 756.8387,-47.4829\"/>\n<polygon fill=\"#000000\" stroke=\"#000000\" points=\"760.1142,-48.7246 760.8221,-38.1534 753.6765,-45.9758 760.1142,-48.7246\"/>\n</g>\n<!-- 21 -->\n<g id=\"node22\" class=\"node\">\n<title>21</title>\n<path fill=\"#ffffff\" stroke=\"#000000\" d=\"M1160.5,-312.5C1160.5,-312.5 955.5,-312.5 955.5,-312.5 949.5,-312.5 943.5,-306.5 943.5,-300.5 943.5,-300.5 943.5,-271.5 943.5,-271.5 943.5,-265.5 949.5,-259.5 955.5,-259.5 955.5,-259.5 1160.5,-259.5 1160.5,-259.5 1166.5,-259.5 1172.5,-265.5 1172.5,-271.5 1172.5,-271.5 1172.5,-300.5 1172.5,-300.5 1172.5,-306.5 1166.5,-312.5 1160.5,-312.5\"/>\n<text text-anchor=\"middle\" x=\"1058\" y=\"-297.3\" font-family=\"Helvetica,sans-Serif\" font-size=\"14.00\" fill=\"#000000\">Necessarily a team sport? &lt;= 0.0</text>\n<text text-anchor=\"middle\" x=\"1058\" y=\"-282.3\" font-family=\"Helvetica,sans-Serif\" font-size=\"14.00\" fill=\"#000000\">3</text>\n<text text-anchor=\"middle\" x=\"1058\" y=\"-267.3\" font-family=\"Helvetica,sans-Serif\" font-size=\"14.00\" fill=\"#000000\">Baseball</text>\n</g>\n<!-- 20&#45;&gt;21 -->\n<g id=\"edge21\" class=\"edge\">\n<title>20&#45;&gt;21</title>\n<path fill=\"none\" stroke=\"#000000\" d=\"M1064.2997,-348.2971C1063.4899,-340.2887 1062.5869,-331.3597 1061.7234,-322.8198\"/>\n<polygon fill=\"#000000\" stroke=\"#000000\" points=\"1065.1868,-322.2812 1060.6984,-312.6841 1058.2223,-322.9855 1065.1868,-322.2812\"/>\n</g>\n<!-- 26 -->\n<g id=\"node27\" class=\"node\">\n<title>26</title>\n<path fill=\"#e539c0\" stroke=\"#000000\" d=\"M1221.5,-38C1221.5,-38 1180.5,-38 1180.5,-38 1174.5,-38 1168.5,-32 1168.5,-26 1168.5,-26 1168.5,-12 1168.5,-12 1168.5,-6 1174.5,0 1180.5,0 1180.5,0 1221.5,0 1221.5,0 1227.5,0 1233.5,-6 1233.5,-12 1233.5,-12 1233.5,-26 1233.5,-26 1233.5,-32 1227.5,-38 1221.5,-38\"/>\n<text text-anchor=\"middle\" x=\"1201\" y=\"-22.8\" font-family=\"Helvetica,sans-Serif\" font-size=\"14.00\" fill=\"#000000\">1</text>\n<text text-anchor=\"middle\" x=\"1201\" y=\"-7.8\" font-family=\"Helvetica,sans-Serif\" font-size=\"14.00\" fill=\"#000000\">Softball</text>\n</g>\n<!-- 20&#45;&gt;26 -->\n<g id=\"edge26\" class=\"edge\">\n<title>20&#45;&gt;26</title>\n<path fill=\"none\" stroke=\"#000000\" d=\"M1115.3463,-348.4944C1146.417,-331.46 1181,-312.5 1181,-312.5 1181,-312.5 1193.9347,-122.6829 1199,-48.3502\"/>\n<polygon fill=\"#000000\" stroke=\"#000000\" points=\"1202.4997,-48.4722 1199.6877,-38.2574 1195.5159,-47.9962 1202.4997,-48.4722\"/>\n</g>\n<!-- 22 -->\n<g id=\"node23\" class=\"node\">\n<title>22</title>\n<path fill=\"#ffffff\" stroke=\"#000000\" d=\"M1046.5,-223.5C1046.5,-223.5 903.5,-223.5 903.5,-223.5 897.5,-223.5 891.5,-217.5 891.5,-211.5 891.5,-211.5 891.5,-182.5 891.5,-182.5 891.5,-176.5 897.5,-170.5 903.5,-170.5 903.5,-170.5 1046.5,-170.5 1046.5,-170.5 1052.5,-170.5 1058.5,-176.5 1058.5,-182.5 1058.5,-182.5 1058.5,-211.5 1058.5,-211.5 1058.5,-217.5 1052.5,-223.5 1046.5,-223.5\"/>\n<text text-anchor=\"middle\" x=\"975\" y=\"-208.3\" font-family=\"Helvetica,sans-Serif\" font-size=\"14.00\" fill=\"#000000\">Snow involved? &#160;&lt;= 0.0</text>\n<text text-anchor=\"middle\" x=\"975\" y=\"-193.3\" font-family=\"Helvetica,sans-Serif\" font-size=\"14.00\" fill=\"#000000\">2</text>\n<text text-anchor=\"middle\" x=\"975\" y=\"-178.3\" font-family=\"Helvetica,sans-Serif\" font-size=\"14.00\" fill=\"#000000\">Golf</text>\n</g>\n<!-- 21&#45;&gt;22 -->\n<g id=\"edge22\" class=\"edge\">\n<title>21&#45;&gt;22</title>\n<path fill=\"none\" stroke=\"#000000\" d=\"M1033.0973,-259.2971C1024.8081,-250.4087 1015.4613,-240.3862 1006.7268,-231.0203\"/>\n<polygon fill=\"#000000\" stroke=\"#000000\" points=\"1009.2651,-228.6103 999.8852,-223.6841 1004.1458,-233.3845 1009.2651,-228.6103\"/>\n</g>\n<!-- 25 -->\n<g id=\"node26\" class=\"node\">\n<title>25</title>\n<path fill=\"#3989e5\" stroke=\"#000000\" d=\"M1110.5,-38C1110.5,-38 1061.5,-38 1061.5,-38 1055.5,-38 1049.5,-32 1049.5,-26 1049.5,-26 1049.5,-12 1049.5,-12 1049.5,-6 1055.5,0 1061.5,0 1061.5,0 1110.5,0 1110.5,0 1116.5,0 1122.5,-6 1122.5,-12 1122.5,-12 1122.5,-26 1122.5,-26 1122.5,-32 1116.5,-38 1110.5,-38\"/>\n<text text-anchor=\"middle\" x=\"1086\" y=\"-22.8\" font-family=\"Helvetica,sans-Serif\" font-size=\"14.00\" fill=\"#000000\">1</text>\n<text text-anchor=\"middle\" x=\"1086\" y=\"-7.8\" font-family=\"Helvetica,sans-Serif\" font-size=\"14.00\" fill=\"#000000\">Baseball</text>\n</g>\n<!-- 21&#45;&gt;25 -->\n<g id=\"edge25\" class=\"edge\">\n<title>21&#45;&gt;25</title>\n<path fill=\"none\" stroke=\"#000000\" d=\"M1061.8168,-259.4944C1064.2698,-242.46 1067,-223.5 1067,-223.5 1067,-223.5 1078.0169,-104.9232 1083.2726,-48.3551\"/>\n<polygon fill=\"#000000\" stroke=\"#000000\" points=\"1086.7723,-48.5198 1084.2125,-38.2389 1079.8023,-47.8722 1086.7723,-48.5198\"/>\n</g>\n<!-- 23 -->\n<g id=\"node24\" class=\"node\">\n<title>23</title>\n<path fill=\"#b739e5\" stroke=\"#000000\" d=\"M931,-38C931,-38 901,-38 901,-38 895,-38 889,-32 889,-26 889,-26 889,-12 889,-12 889,-6 895,0 901,0 901,0 931,0 931,0 937,0 943,-6 943,-12 943,-12 943,-26 943,-26 943,-32 937,-38 931,-38\"/>\n<text text-anchor=\"middle\" x=\"916\" y=\"-22.8\" font-family=\"Helvetica,sans-Serif\" font-size=\"14.00\" fill=\"#000000\">1</text>\n<text text-anchor=\"middle\" x=\"916\" y=\"-7.8\" font-family=\"Helvetica,sans-Serif\" font-size=\"14.00\" fill=\"#000000\">Golf</text>\n</g>\n<!-- 22&#45;&gt;23 -->\n<g id=\"edge23\" class=\"edge\">\n<title>22&#45;&gt;23</title>\n<path fill=\"none\" stroke=\"#000000\" d=\"M966.1671,-170.3516C955.2714,-137.4799 936.8168,-81.8031 925.5858,-47.9199\"/>\n<polygon fill=\"#000000\" stroke=\"#000000\" points=\"928.8172,-46.5444 922.3486,-38.1534 922.1727,-48.7468 928.8172,-46.5444\"/>\n</g>\n<!-- 24 -->\n<g id=\"node25\" class=\"node\">\n<title>24</title>\n<path fill=\"#e55639\" stroke=\"#000000\" d=\"M1005,-38C1005,-38 973,-38 973,-38 967,-38 961,-32 961,-26 961,-26 961,-12 961,-12 961,-6 967,0 973,0 973,0 1005,0 1005,0 1011,0 1017,-6 1017,-12 1017,-12 1017,-26 1017,-26 1017,-32 1011,-38 1005,-38\"/>\n<text text-anchor=\"middle\" x=\"989\" y=\"-22.8\" font-family=\"Helvetica,sans-Serif\" font-size=\"14.00\" fill=\"#000000\">1</text>\n<text text-anchor=\"middle\" x=\"989\" y=\"-7.8\" font-family=\"Helvetica,sans-Serif\" font-size=\"14.00\" fill=\"#000000\">Skiing</text>\n</g>\n<!-- 22&#45;&gt;24 -->\n<g id=\"edge24\" class=\"edge\">\n<title>22&#45;&gt;24</title>\n<path fill=\"none\" stroke=\"#000000\" d=\"M977.0959,-170.3516C979.6702,-137.6216 984.0227,-82.2827 986.6908,-48.3592\"/>\n<polygon fill=\"#000000\" stroke=\"#000000\" points=\"990.1986,-48.3971 987.4936,-38.1534 983.2201,-47.8482 990.1986,-48.3971\"/>\n</g>\n<!-- 28 -->\n<g id=\"node29\" class=\"node\">\n<title>28</title>\n<path fill=\"#ffffff\" stroke=\"#000000\" d=\"M1465.5,-401.5C1465.5,-401.5 1344.5,-401.5 1344.5,-401.5 1338.5,-401.5 1332.5,-395.5 1332.5,-389.5 1332.5,-389.5 1332.5,-360.5 1332.5,-360.5 1332.5,-354.5 1338.5,-348.5 1344.5,-348.5 1344.5,-348.5 1465.5,-348.5 1465.5,-348.5 1471.5,-348.5 1477.5,-354.5 1477.5,-360.5 1477.5,-360.5 1477.5,-389.5 1477.5,-389.5 1477.5,-395.5 1471.5,-401.5 1465.5,-401.5\"/>\n<text text-anchor=\"middle\" x=\"1405\" y=\"-386.3\" font-family=\"Helvetica,sans-Serif\" font-size=\"14.00\" fill=\"#000000\">Water Sport? &lt;= 0.0</text>\n<text text-anchor=\"middle\" x=\"1405\" y=\"-371.3\" font-family=\"Helvetica,sans-Serif\" font-size=\"14.00\" fill=\"#000000\">2</text>\n<text text-anchor=\"middle\" x=\"1405\" y=\"-356.3\" font-family=\"Helvetica,sans-Serif\" font-size=\"14.00\" fill=\"#000000\">Diving</text>\n</g>\n<!-- 27&#45;&gt;28 -->\n<g id=\"edge28\" class=\"edge\">\n<title>27&#45;&gt;28</title>\n<path fill=\"none\" stroke=\"#000000\" d=\"M1479.1965,-437.2971C1468.2959,-428.1447 1455.9631,-417.7898 1444.5267,-408.1875\"/>\n<polygon fill=\"#000000\" stroke=\"#000000\" points=\"1446.6901,-405.4339 1436.781,-401.6841 1442.189,-410.7948 1446.6901,-405.4339\"/>\n</g>\n<!-- 31 -->\n<g id=\"node32\" class=\"node\">\n<title>31</title>\n<path fill=\"#e5d139\" stroke=\"#000000\" d=\"M1616,-38C1616,-38 1464,-38 1464,-38 1458,-38 1452,-32 1452,-26 1452,-26 1452,-12 1452,-12 1452,-6 1458,0 1464,0 1464,0 1616,0 1616,0 1622,0 1628,-6 1628,-12 1628,-12 1628,-26 1628,-26 1628,-32 1622,-38 1616,-38\"/>\n<text text-anchor=\"middle\" x=\"1540\" y=\"-22.8\" font-family=\"Helvetica,sans-Serif\" font-size=\"14.00\" fill=\"#000000\">1</text>\n<text text-anchor=\"middle\" x=\"1540\" y=\"-7.8\" font-family=\"Helvetica,sans-Serif\" font-size=\"14.00\" fill=\"#000000\">Synchronized Swimming</text>\n</g>\n<!-- 27&#45;&gt;31 -->\n<g id=\"edge31\" class=\"edge\">\n<title>27&#45;&gt;31</title>\n<path fill=\"none\" stroke=\"#000000\" d=\"M1515.3416,-437.3516C1523.4316,-387.6956 1540,-286 1540,-286 1540,-286 1540,-286 1540,-197 1540,-197 1540,-98.8936 1540,-48.3494\"/>\n<polygon fill=\"#000000\" stroke=\"#000000\" points=\"1543.5001,-48.0491 1540,-38.0491 1536.5001,-48.0492 1543.5001,-48.0491\"/>\n</g>\n<!-- 29 -->\n<g id=\"node30\" class=\"node\">\n<title>29</title>\n<path fill=\"#39e59a\" stroke=\"#000000\" d=\"M1346.5,-38C1346.5,-38 1277.5,-38 1277.5,-38 1271.5,-38 1265.5,-32 1265.5,-26 1265.5,-26 1265.5,-12 1265.5,-12 1265.5,-6 1271.5,0 1277.5,0 1277.5,0 1346.5,0 1346.5,0 1352.5,0 1358.5,-6 1358.5,-12 1358.5,-12 1358.5,-26 1358.5,-26 1358.5,-32 1352.5,-38 1346.5,-38\"/>\n<text text-anchor=\"middle\" x=\"1312\" y=\"-22.8\" font-family=\"Helvetica,sans-Serif\" font-size=\"14.00\" fill=\"#000000\">1</text>\n<text text-anchor=\"middle\" x=\"1312\" y=\"-7.8\" font-family=\"Helvetica,sans-Serif\" font-size=\"14.00\" fill=\"#000000\">Gymnastics</text>\n</g>\n<!-- 28&#45;&gt;29 -->\n<g id=\"edge29\" class=\"edge\">\n<title>28&#45;&gt;29</title>\n<path fill=\"none\" stroke=\"#000000\" d=\"M1398.0099,-348.2421C1380.9685,-283.0083 1337.3845,-116.1709 1319.6649,-48.341\"/>\n<polygon fill=\"#000000\" stroke=\"#000000\" points=\"1322.9651,-47.1262 1317.0511,-38.3355 1316.1924,-48.8955 1322.9651,-47.1262\"/>\n</g>\n<!-- 30 -->\n<g id=\"node31\" class=\"node\">\n<title>30</title>\n<path fill=\"#e58139\" stroke=\"#000000\" d=\"M1421.5,-38C1421.5,-38 1388.5,-38 1388.5,-38 1382.5,-38 1376.5,-32 1376.5,-26 1376.5,-26 1376.5,-12 1376.5,-12 1376.5,-6 1382.5,0 1388.5,0 1388.5,0 1421.5,0 1421.5,0 1427.5,0 1433.5,-6 1433.5,-12 1433.5,-12 1433.5,-26 1433.5,-26 1433.5,-32 1427.5,-38 1421.5,-38\"/>\n<text text-anchor=\"middle\" x=\"1405\" y=\"-22.8\" font-family=\"Helvetica,sans-Serif\" font-size=\"14.00\" fill=\"#000000\">1</text>\n<text text-anchor=\"middle\" x=\"1405\" y=\"-7.8\" font-family=\"Helvetica,sans-Serif\" font-size=\"14.00\" fill=\"#000000\">Diving</text>\n</g>\n<!-- 28&#45;&gt;30 -->\n<g id=\"edge30\" class=\"edge\">\n<title>28&#45;&gt;30</title>\n<path fill=\"none\" stroke=\"#000000\" d=\"M1405,-348.2421C1405,-283.0083 1405,-116.1709 1405,-48.341\"/>\n<polygon fill=\"#000000\" stroke=\"#000000\" points=\"1408.5001,-48.3355 1405,-38.3355 1401.5001,-48.3356 1408.5001,-48.3355\"/>\n</g>\n<!-- 33 -->\n<g id=\"node34\" class=\"node\">\n<title>33</title>\n<path fill=\"#39e572\" stroke=\"#000000\" d=\"M1749,-38C1749,-38 1665,-38 1665,-38 1659,-38 1653,-32 1653,-26 1653,-26 1653,-12 1653,-12 1653,-6 1659,0 1665,0 1665,0 1749,0 1749,0 1755,0 1761,-6 1761,-12 1761,-12 1761,-26 1761,-26 1761,-32 1755,-38 1749,-38\"/>\n<text text-anchor=\"middle\" x=\"1707\" y=\"-22.8\" font-family=\"Helvetica,sans-Serif\" font-size=\"14.00\" fill=\"#000000\">1</text>\n<text text-anchor=\"middle\" x=\"1707\" y=\"-7.8\" font-family=\"Helvetica,sans-Serif\" font-size=\"14.00\" fill=\"#000000\">Figure skating</text>\n</g>\n<!-- 32&#45;&gt;33 -->\n<g id=\"edge33\" class=\"edge\">\n<title>32&#45;&gt;33</title>\n<path fill=\"none\" stroke=\"#000000\" d=\"M1709.5509,-526.3516C1708.714,-476.6956 1707,-375 1707,-375 1707,-375 1707,-375 1707,-197 1707,-197 1707,-98.8936 1707,-48.3494\"/>\n<polygon fill=\"#000000\" stroke=\"#000000\" points=\"1710.5001,-48.0491 1707,-38.0491 1703.5001,-48.0492 1710.5001,-48.0491\"/>\n</g>\n<!-- 34 -->\n<g id=\"node35\" class=\"node\">\n<title>34</title>\n<path fill=\"#39e547\" stroke=\"#000000\" d=\"M1877,-38C1877,-38 1791,-38 1791,-38 1785,-38 1779,-32 1779,-26 1779,-26 1779,-12 1779,-12 1779,-6 1785,0 1791,0 1791,0 1877,0 1877,0 1883,0 1889,-6 1889,-12 1889,-12 1889,-26 1889,-26 1889,-32 1883,-38 1877,-38\"/>\n<text text-anchor=\"middle\" x=\"1834\" y=\"-22.8\" font-family=\"Helvetica,sans-Serif\" font-size=\"14.00\" fill=\"#000000\">1</text>\n<text text-anchor=\"middle\" x=\"1834\" y=\"-7.8\" font-family=\"Helvetica,sans-Serif\" font-size=\"14.00\" fill=\"#000000\">Speed skating</text>\n</g>\n<!-- 32&#45;&gt;34 -->\n<g id=\"edge34\" class=\"edge\">\n<title>32&#45;&gt;34</title>\n<path fill=\"none\" stroke=\"#000000\" d=\"M1728.5641,-526.3516C1763.1559,-476.6956 1834,-375 1834,-375 1834,-375 1834,-375 1834,-197 1834,-197 1834,-98.8936 1834,-48.3494\"/>\n<polygon fill=\"#000000\" stroke=\"#000000\" points=\"1837.5001,-48.0491 1834,-38.0491 1830.5001,-48.0492 1837.5001,-48.0491\"/>\n</g>\n<!-- 36 -->\n<g id=\"node37\" class=\"node\">\n<title>36</title>\n<path fill=\"#ffffff\" stroke=\"#000000\" d=\"M2147,-579.5C2147,-579.5 1833,-579.5 1833,-579.5 1827,-579.5 1821,-573.5 1821,-567.5 1821,-567.5 1821,-538.5 1821,-538.5 1821,-532.5 1827,-526.5 1833,-526.5 1833,-526.5 2147,-526.5 2147,-526.5 2153,-526.5 2159,-532.5 2159,-538.5 2159,-538.5 2159,-567.5 2159,-567.5 2159,-573.5 2153,-579.5 2147,-579.5\"/>\n<text text-anchor=\"middle\" x=\"1990\" y=\"-564.3\" font-family=\"Helvetica,sans-Serif\" font-size=\"14.00\" fill=\"#000000\">Is there a ball bigger than a baseball used? &lt;= 0.0</text>\n<text text-anchor=\"middle\" x=\"1990\" y=\"-549.3\" font-family=\"Helvetica,sans-Serif\" font-size=\"14.00\" fill=\"#000000\">2</text>\n<text text-anchor=\"middle\" x=\"1990\" y=\"-534.3\" font-family=\"Helvetica,sans-Serif\" font-size=\"14.00\" fill=\"#000000\">Basketball</text>\n</g>\n<!-- 35&#45;&gt;36 -->\n<g id=\"edge36\" class=\"edge\">\n<title>35&#45;&gt;36</title>\n<path fill=\"none\" stroke=\"#000000\" d=\"M2058.5968,-615.2971C2048.6158,-606.2327 2037.336,-595.9888 2026.8488,-586.4647\"/>\n<polygon fill=\"#000000\" stroke=\"#000000\" points=\"2029.1384,-583.8161 2019.3825,-579.6841 2024.4323,-588.9981 2029.1384,-583.8161\"/>\n</g>\n<!-- 39 -->\n<g id=\"node40\" class=\"node\">\n<title>39</title>\n<path fill=\"#6439e5\" stroke=\"#000000\" d=\"M2225.5,-38C2225.5,-38 2148.5,-38 2148.5,-38 2142.5,-38 2136.5,-32 2136.5,-26 2136.5,-26 2136.5,-12 2136.5,-12 2136.5,-6 2142.5,0 2148.5,0 2148.5,0 2225.5,0 2225.5,0 2231.5,0 2237.5,-6 2237.5,-12 2237.5,-12 2237.5,-26 2237.5,-26 2237.5,-32 2231.5,-38 2225.5,-38\"/>\n<text text-anchor=\"middle\" x=\"2187\" y=\"-22.8\" font-family=\"Helvetica,sans-Serif\" font-size=\"14.00\" fill=\"#000000\">1</text>\n<text text-anchor=\"middle\" x=\"2187\" y=\"-7.8\" font-family=\"Helvetica,sans-Serif\" font-size=\"14.00\" fill=\"#000000\">Field Hockey</text>\n</g>\n<!-- 35&#45;&gt;39 -->\n<g id=\"edge39\" class=\"edge\">\n<title>35&#45;&gt;39</title>\n<path fill=\"none\" stroke=\"#000000\" d=\"M2121.9272,-615.4944C2143.7312,-598.46 2168,-579.5 2168,-579.5 2168,-579.5 2187,-464 2187,-464 2187,-464 2187,-464 2187,-197 2187,-197 2187,-98.8936 2187,-48.3494\"/>\n<polygon fill=\"#000000\" stroke=\"#000000\" points=\"2190.5001,-48.0491 2187,-38.0491 2183.5001,-48.0492 2190.5001,-48.0491\"/>\n</g>\n<!-- 37 -->\n<g id=\"node38\" class=\"node\">\n<title>37</title>\n<path fill=\"#e53944\" stroke=\"#000000\" d=\"M1994.5,-38C1994.5,-38 1931.5,-38 1931.5,-38 1925.5,-38 1919.5,-32 1919.5,-26 1919.5,-26 1919.5,-12 1919.5,-12 1919.5,-6 1925.5,0 1931.5,0 1931.5,0 1994.5,0 1994.5,0 2000.5,0 2006.5,-6 2006.5,-12 2006.5,-12 2006.5,-26 2006.5,-26 2006.5,-32 2000.5,-38 1994.5,-38\"/>\n<text text-anchor=\"middle\" x=\"1963\" y=\"-22.8\" font-family=\"Helvetica,sans-Serif\" font-size=\"14.00\" fill=\"#000000\">1</text>\n<text text-anchor=\"middle\" x=\"1963\" y=\"-7.8\" font-family=\"Helvetica,sans-Serif\" font-size=\"14.00\" fill=\"#000000\">Ice hockey</text>\n</g>\n<!-- 36&#45;&gt;37 -->\n<g id=\"edge37\" class=\"edge\">\n<title>36&#45;&gt;37</title>\n<path fill=\"none\" stroke=\"#000000\" d=\"M1985.9578,-526.3516C1978.4257,-476.6956 1963,-375 1963,-375 1963,-375 1963,-375 1963,-197 1963,-197 1963,-98.8936 1963,-48.3494\"/>\n<polygon fill=\"#000000\" stroke=\"#000000\" points=\"1966.5001,-48.0491 1963,-38.0491 1959.5001,-48.0492 1966.5001,-48.0491\"/>\n</g>\n<!-- 38 -->\n<g id=\"node39\" class=\"node\">\n<title>38</title>\n<path fill=\"#7be539\" stroke=\"#000000\" d=\"M2097,-38C2097,-38 2037,-38 2037,-38 2031,-38 2025,-32 2025,-26 2025,-26 2025,-12 2025,-12 2025,-6 2031,0 2037,0 2037,0 2097,0 2097,0 2103,0 2109,-6 2109,-12 2109,-12 2109,-26 2109,-26 2109,-32 2103,-38 2097,-38\"/>\n<text text-anchor=\"middle\" x=\"2067\" y=\"-22.8\" font-family=\"Helvetica,sans-Serif\" font-size=\"14.00\" fill=\"#000000\">1</text>\n<text text-anchor=\"middle\" x=\"2067\" y=\"-7.8\" font-family=\"Helvetica,sans-Serif\" font-size=\"14.00\" fill=\"#000000\">Basketball</text>\n</g>\n<!-- 36&#45;&gt;38 -->\n<g id=\"edge38\" class=\"edge\">\n<title>36&#45;&gt;38</title>\n<path fill=\"none\" stroke=\"#000000\" d=\"M2001.5277,-526.3516C2023.0081,-476.6956 2067,-375 2067,-375 2067,-375 2067,-375 2067,-197 2067,-197 2067,-98.8936 2067,-48.3494\"/>\n<polygon fill=\"#000000\" stroke=\"#000000\" points=\"2070.5001,-48.0491 2067,-38.0491 2063.5001,-48.0492 2070.5001,-48.0491\"/>\n</g>\n<!-- 41 -->\n<g id=\"node42\" class=\"node\">\n<title>41</title>\n<path fill=\"#ffffff\" stroke=\"#000000\" d=\"M2552.5,-668.5C2552.5,-668.5 2385.5,-668.5 2385.5,-668.5 2379.5,-668.5 2373.5,-662.5 2373.5,-656.5 2373.5,-656.5 2373.5,-627.5 2373.5,-627.5 2373.5,-621.5 2379.5,-615.5 2385.5,-615.5 2385.5,-615.5 2552.5,-615.5 2552.5,-615.5 2558.5,-615.5 2564.5,-621.5 2564.5,-627.5 2564.5,-627.5 2564.5,-656.5 2564.5,-656.5 2564.5,-662.5 2558.5,-668.5 2552.5,-668.5\"/>\n<text text-anchor=\"middle\" x=\"2469\" y=\"-653.3\" font-family=\"Helvetica,sans-Serif\" font-size=\"14.00\" fill=\"#000000\">Is it a combat sport? &lt;= 0.0</text>\n<text text-anchor=\"middle\" x=\"2469\" y=\"-638.3\" font-family=\"Helvetica,sans-Serif\" font-size=\"14.00\" fill=\"#000000\">4</text>\n<text text-anchor=\"middle\" x=\"2469\" y=\"-623.3\" font-family=\"Helvetica,sans-Serif\" font-size=\"14.00\" fill=\"#000000\">Wrestling</text>\n</g>\n<!-- 40&#45;&gt;41 -->\n<g id=\"edge41\" class=\"edge\">\n<title>40&#45;&gt;41</title>\n<path fill=\"none\" stroke=\"#000000\" d=\"M2469,-704.2971C2469,-696.2887 2469,-687.3597 2469,-678.8198\"/>\n<polygon fill=\"#000000\" stroke=\"#000000\" points=\"2472.5001,-678.6841 2469,-668.6841 2465.5001,-678.6841 2472.5001,-678.6841\"/>\n</g>\n<!-- 48 -->\n<g id=\"node49\" class=\"node\">\n<title>48</title>\n<path fill=\"#e5396f\" stroke=\"#000000\" d=\"M3004.5,-38C3004.5,-38 2969.5,-38 2969.5,-38 2963.5,-38 2957.5,-32 2957.5,-26 2957.5,-26 2957.5,-12 2957.5,-12 2957.5,-6 2963.5,0 2969.5,0 2969.5,0 3004.5,0 3004.5,0 3010.5,0 3016.5,-6 3016.5,-12 3016.5,-12 3016.5,-26 3016.5,-26 3016.5,-32 3010.5,-38 3004.5,-38\"/>\n<text text-anchor=\"middle\" x=\"2987\" y=\"-22.8\" font-family=\"Helvetica,sans-Serif\" font-size=\"14.00\" fill=\"#000000\">1</text>\n<text text-anchor=\"middle\" x=\"2987\" y=\"-7.8\" font-family=\"Helvetica,sans-Serif\" font-size=\"14.00\" fill=\"#000000\">Tennis</text>\n</g>\n<!-- 40&#45;&gt;48 -->\n<g id=\"edge48\" class=\"edge\">\n<title>40&#45;&gt;48</title>\n<path fill=\"none\" stroke=\"#000000\" d=\"M2556.4902,-704.4373C2699.6012,-660.9878 2968,-579.5 2968,-579.5 2968,-579.5 2987,-553 2987,-553 2987,-553 2987,-553 2987,-197 2987,-197 2987,-98.8936 2987,-48.3494\"/>\n<polygon fill=\"#000000\" stroke=\"#000000\" points=\"2990.5001,-48.0491 2987,-38.0491 2983.5001,-48.0492 2990.5001,-48.0491\"/>\n</g>\n<!-- 42 -->\n<g id=\"node43\" class=\"node\">\n<title>42</title>\n<path fill=\"#e53998\" stroke=\"#000000\" d=\"M2326.5,-38C2326.5,-38 2267.5,-38 2267.5,-38 2261.5,-38 2255.5,-32 2255.5,-26 2255.5,-26 2255.5,-12 2255.5,-12 2255.5,-6 2261.5,0 2267.5,0 2267.5,0 2326.5,0 2326.5,0 2332.5,0 2338.5,-6 2338.5,-12 2338.5,-12 2338.5,-26 2338.5,-26 2338.5,-32 2332.5,-38 2326.5,-38\"/>\n<text text-anchor=\"middle\" x=\"2297\" y=\"-22.8\" font-family=\"Helvetica,sans-Serif\" font-size=\"14.00\" fill=\"#000000\">1</text>\n<text text-anchor=\"middle\" x=\"2297\" y=\"-7.8\" font-family=\"Helvetica,sans-Serif\" font-size=\"14.00\" fill=\"#000000\">Ping pong</text>\n</g>\n<!-- 41&#45;&gt;42 -->\n<g id=\"edge42\" class=\"edge\">\n<title>41&#45;&gt;42</title>\n<path fill=\"none\" stroke=\"#000000\" d=\"M2404.1142,-615.4944C2362.4141,-598.46 2316,-579.5 2316,-579.5 2316,-579.5 2297,-464 2297,-464 2297,-464 2297,-464 2297,-197 2297,-197 2297,-98.8936 2297,-48.3494\"/>\n<polygon fill=\"#000000\" stroke=\"#000000\" points=\"2300.5001,-48.0491 2297,-38.0491 2293.5001,-48.0492 2300.5001,-48.0491\"/>\n</g>\n<!-- 43 -->\n<g id=\"node44\" class=\"node\">\n<title>43</title>\n<path fill=\"#ffffff\" stroke=\"#000000\" d=\"M2947,-579.5C2947,-579.5 2337,-579.5 2337,-579.5 2331,-579.5 2325,-573.5 2325,-567.5 2325,-567.5 2325,-538.5 2325,-538.5 2325,-532.5 2331,-526.5 2337,-526.5 2337,-526.5 2947,-526.5 2947,-526.5 2953,-526.5 2959,-532.5 2959,-538.5 2959,-538.5 2959,-567.5 2959,-567.5 2959,-573.5 2953,-579.5 2947,-579.5\"/>\n<text text-anchor=\"middle\" x=\"2642\" y=\"-564.3\" font-family=\"Helvetica,sans-Serif\" font-size=\"14.00\" fill=\"#000000\">Does each participant have small gear like a racquet, stick, skates, skis, mitt, sword, etc.? &lt;= 0.0</text>\n<text text-anchor=\"middle\" x=\"2642\" y=\"-549.3\" font-family=\"Helvetica,sans-Serif\" font-size=\"14.00\" fill=\"#000000\">3</text>\n<text text-anchor=\"middle\" x=\"2642\" y=\"-534.3\" font-family=\"Helvetica,sans-Serif\" font-size=\"14.00\" fill=\"#000000\">Wrestling</text>\n</g>\n<!-- 41&#45;&gt;43 -->\n<g id=\"edge43\" class=\"edge\">\n<title>41&#45;&gt;43</title>\n<path fill=\"none\" stroke=\"#000000\" d=\"M2520.9057,-615.2971C2539.9801,-605.4843 2561.7414,-594.2891 2581.5057,-584.1213\"/>\n<polygon fill=\"#000000\" stroke=\"#000000\" points=\"2583.1381,-587.2176 2590.4292,-579.5306 2579.9358,-580.993 2583.1381,-587.2176\"/>\n</g>\n<!-- 44 -->\n<g id=\"node45\" class=\"node\">\n<title>44</title>\n<path fill=\"#39dce5\" stroke=\"#000000\" d=\"M2594.5,-38C2594.5,-38 2541.5,-38 2541.5,-38 2535.5,-38 2529.5,-32 2529.5,-26 2529.5,-26 2529.5,-12 2529.5,-12 2529.5,-6 2535.5,0 2541.5,0 2541.5,0 2594.5,0 2594.5,0 2600.5,0 2606.5,-6 2606.5,-12 2606.5,-12 2606.5,-26 2606.5,-26 2606.5,-32 2600.5,-38 2594.5,-38\"/>\n<text text-anchor=\"middle\" x=\"2568\" y=\"-22.8\" font-family=\"Helvetica,sans-Serif\" font-size=\"14.00\" fill=\"#000000\">1</text>\n<text text-anchor=\"middle\" x=\"2568\" y=\"-7.8\" font-family=\"Helvetica,sans-Serif\" font-size=\"14.00\" fill=\"#000000\">Wrestling</text>\n</g>\n<!-- 43&#45;&gt;44 -->\n<g id=\"edge44\" class=\"edge\">\n<title>43&#45;&gt;44</title>\n<path fill=\"none\" stroke=\"#000000\" d=\"M2618.675,-526.4944C2603.6848,-509.46 2587,-490.5 2587,-490.5 2587,-490.5 2568,-375 2568,-375 2568,-375 2568,-375 2568,-197 2568,-197 2568,-98.8936 2568,-48.3494\"/>\n<polygon fill=\"#000000\" stroke=\"#000000\" points=\"2571.5001,-48.0491 2568,-38.0491 2564.5001,-48.0492 2571.5001,-48.0491\"/>\n</g>\n<!-- 45 -->\n<g id=\"node46\" class=\"node\">\n<title>45</title>\n<path fill=\"#ffffff\" stroke=\"#000000\" d=\"M2826,-490.5C2826,-490.5 2608,-490.5 2608,-490.5 2602,-490.5 2596,-484.5 2596,-478.5 2596,-478.5 2596,-449.5 2596,-449.5 2596,-443.5 2602,-437.5 2608,-437.5 2608,-437.5 2826,-437.5 2826,-437.5 2832,-437.5 2838,-443.5 2838,-449.5 2838,-449.5 2838,-478.5 2838,-478.5 2838,-484.5 2832,-490.5 2826,-490.5\"/>\n<text text-anchor=\"middle\" x=\"2717\" y=\"-475.3\" font-family=\"Helvetica,sans-Serif\" font-size=\"14.00\" fill=\"#000000\">Is there a weapon involved? &lt;= 0.0</text>\n<text text-anchor=\"middle\" x=\"2717\" y=\"-460.3\" font-family=\"Helvetica,sans-Serif\" font-size=\"14.00\" fill=\"#000000\">2</text>\n<text text-anchor=\"middle\" x=\"2717\" y=\"-445.3\" font-family=\"Helvetica,sans-Serif\" font-size=\"14.00\" fill=\"#000000\">Boxing</text>\n</g>\n<!-- 43&#45;&gt;45 -->\n<g id=\"edge45\" class=\"edge\">\n<title>43&#45;&gt;45</title>\n<path fill=\"none\" stroke=\"#000000\" d=\"M2664.5025,-526.2971C2671.8444,-517.5847 2680.1045,-507.7826 2687.8617,-498.5775\"/>\n<polygon fill=\"#000000\" stroke=\"#000000\" points=\"2690.7458,-500.5864 2694.5134,-490.6841 2685.393,-496.0756 2690.7458,-500.5864\"/>\n</g>\n<!-- 46 -->\n<g id=\"node47\" class=\"node\">\n<title>46</title>\n<path fill=\"#3961e5\" stroke=\"#000000\" d=\"M2706,-38C2706,-38 2668,-38 2668,-38 2662,-38 2656,-32 2656,-26 2656,-26 2656,-12 2656,-12 2656,-6 2662,0 2668,0 2668,0 2706,0 2706,0 2712,0 2718,-6 2718,-12 2718,-12 2718,-26 2718,-26 2718,-32 2712,-38 2706,-38\"/>\n<text text-anchor=\"middle\" x=\"2687\" y=\"-22.8\" font-family=\"Helvetica,sans-Serif\" font-size=\"14.00\" fill=\"#000000\">1</text>\n<text text-anchor=\"middle\" x=\"2687\" y=\"-7.8\" font-family=\"Helvetica,sans-Serif\" font-size=\"14.00\" fill=\"#000000\">Boxing</text>\n</g>\n<!-- 45&#45;&gt;46 -->\n<g id=\"edge46\" class=\"edge\">\n<title>45&#45;&gt;46</title>\n<path fill=\"none\" stroke=\"#000000\" d=\"M2712.5087,-437.3516C2704.1397,-387.6956 2687,-286 2687,-286 2687,-286 2687,-286 2687,-197 2687,-197 2687,-98.8936 2687,-48.3494\"/>\n<polygon fill=\"#000000\" stroke=\"#000000\" points=\"2690.5001,-48.0491 2687,-38.0491 2683.5001,-48.0492 2690.5001,-48.0491\"/>\n</g>\n<!-- 47 -->\n<g id=\"node48\" class=\"node\">\n<title>47</title>\n<path fill=\"#3939e5\" stroke=\"#000000\" d=\"M2793.5,-38C2793.5,-38 2748.5,-38 2748.5,-38 2742.5,-38 2736.5,-32 2736.5,-26 2736.5,-26 2736.5,-12 2736.5,-12 2736.5,-6 2742.5,0 2748.5,0 2748.5,0 2793.5,0 2793.5,0 2799.5,0 2805.5,-6 2805.5,-12 2805.5,-12 2805.5,-26 2805.5,-26 2805.5,-32 2799.5,-38 2793.5,-38\"/>\n<text text-anchor=\"middle\" x=\"2771\" y=\"-22.8\" font-family=\"Helvetica,sans-Serif\" font-size=\"14.00\" fill=\"#000000\">1</text>\n<text text-anchor=\"middle\" x=\"2771\" y=\"-7.8\" font-family=\"Helvetica,sans-Serif\" font-size=\"14.00\" fill=\"#000000\">Fencing</text>\n</g>\n<!-- 45&#45;&gt;47 -->\n<g id=\"edge47\" class=\"edge\">\n<title>45&#45;&gt;47</title>\n<path fill=\"none\" stroke=\"#000000\" d=\"M2725.0843,-437.3516C2740.1485,-387.6956 2771,-286 2771,-286 2771,-286 2771,-286 2771,-197 2771,-197 2771,-98.8936 2771,-48.3494\"/>\n<polygon fill=\"#000000\" stroke=\"#000000\" points=\"2774.5001,-48.0491 2771,-38.0491 2767.5001,-48.0492 2774.5001,-48.0491\"/>\n</g>\n</g>\n</svg>\n"
          },
          "metadata": {
            "tags": []
          },
          "execution_count": 33
        }
      ]
    },
    {
      "cell_type": "code",
      "metadata": {
        "id": "H2bpqK1aH52W",
        "colab_type": "code",
        "colab": {}
      },
      "source": [
        "# let's see how well we do\n",
        "# You can also use clf.score(X,y) \n",
        "def correctPercentage( predictions, actual ):\n",
        "    correct = 0\n",
        "    for i,guess in enumerate(predictions):\n",
        "        if guess == actual[i]:\n",
        "            correct = correct + 1\n",
        "    return correct/len(predictions)"
      ],
      "execution_count": null,
      "outputs": []
    },
    {
      "cell_type": "code",
      "metadata": {
        "id": "u6EpeXYeH52Y",
        "colab_type": "code",
        "colab": {}
      },
      "source": [
        "clf2 = RandomForestClassifier(max_depth=10,n_estimators=10)\n",
        "clf2 = clf2.fit(X,Y)\n",
        "print(correctPercentage( clf.predict(X), Y ))\n",
        "print(correctPercentage( clf2.predict(X), Y ))\n",
        "clf.score(X,y)"
      ],
      "execution_count": null,
      "outputs": []
    },
    {
      "cell_type": "code",
      "metadata": {
        "id": "QghtB6i-H52a",
        "colab_type": "code",
        "colab": {}
      },
      "source": [
        "# cross validate (hard to do, due to small amount of data)\n",
        "clf3 = tree.DecisionTreeClassifier(random_state=0,max_depth=8)\n",
        "from sklearn.model_selection import cross_val_score\n",
        "cross_val_score(clf3, X, Y)#, cv=2)\n",
        "len(X)"
      ],
      "execution_count": null,
      "outputs": []
    },
    {
      "cell_type": "markdown",
      "metadata": {
        "id": "igmjOy13H52c",
        "colab_type": "text"
      },
      "source": [
        "## Now, start the real hacking, so that it let's us interact\n",
        "some info here: http://scikit-learn.org/stable/modules/generated/sklearn.tree.DecisionTreeClassifier.html#sklearn.tree.DecisionTreeClassifier\n",
        "and also movie list here: https://docs.google.com/spreadsheets/d/1-849aPzi8Su_c5HwwDFERrogXjvSaZFfp_y9MHeO1IA/edit?usp=sharing"
      ]
    },
    {
      "cell_type": "code",
      "metadata": {
        "id": "5z4TvBbwH52d",
        "colab_type": "code",
        "colab": {}
      },
      "source": [
        "tree_ = clf.tree_\n",
        "from sklearn.tree import _tree\n",
        "import numpy as np\n",
        "#dir(_tree.Tree) # inspect what we have to work with\n",
        "#dir(_tree)"
      ],
      "execution_count": null,
      "outputs": []
    },
    {
      "cell_type": "code",
      "metadata": {
        "id": "YXe7Bw-LH52f",
        "colab_type": "code",
        "colab": {}
      },
      "source": [
        "def parseInput(str):\n",
        "    # first, ignore capitalization\n",
        "    str=str.lower()\n",
        "    if str[0] == 'y':\n",
        "        return 1\n",
        "    elif str[0] == 'n':\n",
        "        return -1\n",
        "    else:\n",
        "        return 0\n",
        "    \n",
        "def askQuestion(node=0):\n",
        "    Q         = tree_.feature[node]\n",
        "    threshold = tree_.threshold[node]\n",
        "    if Q == _tree.TREE_UNDEFINED or Q == _tree.TREE_LEAF:\n",
        "        # at a leaf node, so make the prediction\n",
        "        vals = tree_.value[node][0]  # size of all movies\n",
        "        ind  = np.argmax( vals )\n",
        "        print('GUESS: ', sports[ind] )\n",
        "    else:\n",
        "        # ask a question and recurse\n",
        "        print(questions[Q])\n",
        "        ans = parseInput(input(\"  [Yes/no/unsure]  \"))\n",
        "        if ans <= threshold:\n",
        "            askQuestion(tree_.children_left[node])\n",
        "        else:\n",
        "            askQuestion(tree_.children_right[node])\n",
        "\n",
        "# or maybe ask for all 13 questions\n",
        "def fullSport():\n",
        "    x = [0]*len(questions)\n",
        "    for i,Q in enumerate( questions ):\n",
        "        print(Q)\n",
        "        x[i] = parseInput(input(\"  [Yes/no/unsure]  \"))\n",
        "    return x"
      ],
      "execution_count": null,
      "outputs": []
    },
    {
      "cell_type": "code",
      "metadata": {
        "id": "QvuufzvFH52h",
        "colab_type": "code",
        "colab": {},
        "outputId": "918fb50e-d8ae-404c-ca67-0377d8b94107"
      },
      "source": [
        "# Play game!\n",
        "askQuestion()"
      ],
      "execution_count": null,
      "outputs": [
        {
          "output_type": "stream",
          "text": [
            "Water Sport?\n",
            "  [Yes/no/unsure]  n\n",
            "Is it always played outdoors?\n",
            "  [Yes/no/unsure]  n\n",
            "Is there a ball bigger than a baseball used?\n",
            "  [Yes/no/unsure]  n\n",
            "Is there a goal or a hoop?\n",
            "  [Yes/no/unsure]  n\n",
            "One-on-one matches?\n",
            "  [Yes/no/unsure]  y\n",
            "Does each participant have small gear like a racquet, stick, skates, skis, mitt, sword, etc.?\n",
            "  [Yes/no/unsure]  y\n",
            "Is it a combat sport?\n",
            "  [Yes/no/unsure]  y\n",
            "GUESS:  Boxing\n"
          ],
          "name": "stdout"
        }
      ]
    },
    {
      "cell_type": "code",
      "metadata": {
        "id": "DkKtmHcEH52j",
        "colab_type": "code",
        "colab": {},
        "outputId": "089a0392-8c6b-4a5d-d6e0-07b4b8357be5"
      },
      "source": [
        "# Or get all 13 unique questions on one movie, and try random forests\n",
        "x = fullSport()\n",
        "print('PREDICTION (random forests): ', sports[ clf2.predict([x])[0] ] )\n",
        "print('PREDICTION (decision tree ): ', sports[ clf.predict([x])[0] ] )"
      ],
      "execution_count": null,
      "outputs": [
        {
          "output_type": "stream",
          "text": [
            "Water Sport?\n",
            "  [Yes/no/unsure]  y\n",
            "Necessarily a team sport?\n",
            "  [Yes/no/unsure]  y\n",
            "Ice involved?\n",
            "  [Yes/no/unsure]  n\n",
            "Snow involved? \n",
            "  [Yes/no/unsure]  n\n",
            "One-on-one matches?\n",
            "  [Yes/no/unsure]  n\n",
            "Subjective scoring?\n",
            "  [Yes/no/unsure]  y\n",
            "Race of some sort?\n",
            "  [Yes/no/unsure]  n\n",
            "Is it always played outdoors?\n",
            "  [Yes/no/unsure]  n\n",
            "Is it a combat sport?\n",
            "  [Yes/no/unsure]  n\n",
            "Is there a goal or a hoop?\n",
            "  [Yes/no/unsure]  n\n",
            "Does each person have large equipment (bike, boat; NOT skates, skis, stick...)\n",
            "  [Yes/no/unsure]  n\n",
            "Does each participant have small gear like a racquet, stick, skates, skis, mitt, sword, etc.?\n",
            "  [Yes/no/unsure]  n\n",
            "Is there a ball bigger than a baseball used?\n",
            "  [Yes/no/unsure]  n\n",
            "Is there a weapon involved?\n",
            "  [Yes/no/unsure]  n\n",
            "PREDICTION (random forests):  Synchronized Swimming\n",
            "PREDICTION (decision tree ):  Synchronized Swimming\n"
          ],
          "name": "stdout"
        }
      ]
    }
  ]
}