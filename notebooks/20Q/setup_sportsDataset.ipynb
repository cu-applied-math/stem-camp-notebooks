{
  "nbformat": 4,
  "nbformat_minor": 0,
  "metadata": {
    "kernelspec": {
      "display_name": "Python 3",
      "language": "python",
      "name": "python3"
    },
    "language_info": {
      "codemirror_mode": {
        "name": "ipython",
        "version": 3
      },
      "file_extension": ".py",
      "mimetype": "text/x-python",
      "name": "python",
      "nbconvert_exporter": "python",
      "pygments_lexer": "ipython3",
      "version": "3.7.2"
    },
    "colab": {
      "name": "setup_sportsDataset.ipynb",
      "provenance": [],
      "include_colab_link": true
    }
  },
  "cells": [
    {
      "cell_type": "markdown",
      "metadata": {
        "id": "view-in-github",
        "colab_type": "text"
      },
      "source": [
        "<a href=\"https://colab.research.google.com/github/cu-applied-math/stem-camp-notebooks/blob/student-colab/notebooks/20Q/setup_sportsDataset.ipynb\" target=\"_parent\"><img src=\"https://colab.research.google.com/assets/colab-badge.svg\" alt=\"Open In Colab\"/></a>"
      ]
    },
    {
      "cell_type": "markdown",
      "metadata": {
        "id": "4tdD3pxeE1Sz",
        "colab_type": "text"
      },
      "source": [
        "# Loads the sports data\n",
        "Run this script to load the data. Your job after loading the data is to make a 20 questions style game (see www.20q.net )\n",
        "\n",
        "This dataset is a list of 25 sports, each rated (by Stephen) with a yes/no answer to each of 13 questions\n",
        "Knowing the answers to all 13 questions uniquely identifies each sport. Can you do it in less than 13 questions? In fewer questions than the trained decision tree?"
      ]
    },
    {
      "cell_type": "markdown",
      "metadata": {
        "id": "SfB4s6oPE1S0",
        "colab_type": "text"
      },
      "source": [
        "## Read in the list of sports\n",
        "There should be 25 sports. We can print them out, so you know what the choices are"
      ]
    },
    {
      "cell_type": "code",
      "metadata": {
        "id": "-AJ8lSBBE1S1",
        "colab_type": "code",
        "colab": {}
      },
      "source": [
        "# Download the data\n",
        "!wget -q https://github.com/cu-applied-math/stem-camp-notebooks/raw/student-colab/notebooks/20Q/data/SportsDataset_ListOfSports.csv\n",
        "!wget -q https://github.com/cu-applied-math/stem-camp-notebooks/raw/student-colab/notebooks/20Q/data/SportsDataset_ListOfAttributes.csv\n",
        "!wget -q https://github.com/cu-applied-math/stem-camp-notebooks/raw/student-colab/notebooks/20Q/data/SportsDataset_DataAttributes.csv\n",
        "import csv\n",
        "sports = []  # This is a python \"list\" data structure (it is \"mutable\")\n",
        "# The file has a list of sports, one per line.\n",
        "# There are spaces in some names, but no commas or weird punctuation\n",
        "with open('SportsDataset_ListOfSports.csv','r') as csvfile:\n",
        "    myreader = csv.reader(csvfile)\n",
        "    for index, row in enumerate( myreader ):\n",
        "        sports.append(' '.join(row) ) # the join() call merges all fields\n",
        "# Make a look-up table: if you input the name of the sport, it tells you the index\n",
        "# Also, print out a list of all the sports, to make sure it looks OK\n",
        "Sport2Index = {}\n",
        "for ind, sprt in enumerate( sports ):\n",
        "    Sport2Index[sprt] = ind\n",
        "    print('Sport #', ind,'is',sprt)\n",
        "# And example usage of the index lookup:\n",
        "print('The sport \"', sports[7],'\" has 0-based index', Sport2Index[sports[7]])"
      ],
      "execution_count": null,
      "outputs": []
    },
    {
      "cell_type": "markdown",
      "metadata": {
        "id": "R1PAhGpRE1S4",
        "colab_type": "text"
      },
      "source": [
        "### Task #1: examine the variables\n",
        "Look at `Sports2Index` and `sports`"
      ]
    },
    {
      "cell_type": "code",
      "metadata": {
        "id": "R1XfY3EYE1S4",
        "colab_type": "code",
        "colab": {}
      },
      "source": [
        "# for you"
      ],
      "execution_count": null,
      "outputs": []
    },
    {
      "cell_type": "markdown",
      "metadata": {
        "id": "C_9cBhREE1S7",
        "colab_type": "text"
      },
      "source": [
        "## Read in the list of questions/attributes\n",
        "There were 13 questions"
      ]
    },
    {
      "cell_type": "code",
      "metadata": {
        "id": "twk9mOFsE1S7",
        "colab_type": "code",
        "colab": {}
      },
      "source": [
        "# this csv file has only a single row\n",
        "questions = []\n",
        "with open('SportsDataset_ListOfAttributes.csv','r') as csvfile:\n",
        "    myreader = csv.reader( csvfile )\n",
        "    for row in myreader:\n",
        "        questions = row\n",
        "Question2Index = {}\n",
        "for ind, quest in enumerate( questions ):\n",
        "    Question2Index[quest] = ind\n",
        "    print('Question #', ind,': ',quest)\n",
        "# And example usage of the index lookup:\n",
        "print('The question \"', questions[10],'\" has 0-based index', Question2Index[questions[10]])"
      ],
      "execution_count": null,
      "outputs": []
    },
    {
      "cell_type": "markdown",
      "metadata": {
        "id": "ZuEmjjBAE1S-",
        "colab_type": "text"
      },
      "source": [
        "### Task #2: examine the variables\n",
        "Look at `Questions2Index` and `questions`"
      ]
    },
    {
      "cell_type": "code",
      "metadata": {
        "id": "p87zUlSnE1TB",
        "colab_type": "code",
        "colab": {}
      },
      "source": [
        "# for you"
      ],
      "execution_count": null,
      "outputs": []
    },
    {
      "cell_type": "markdown",
      "metadata": {
        "id": "mGcVeqWoE1TD",
        "colab_type": "text"
      },
      "source": [
        "## Read in the training data\n",
        "The columns of `X` correspond to questions, and rows correspond to more data.  The rows of `y` are the movie indices. The values of `X` are 1, -1 or 0 (see `YesNoDict` for encoding)"
      ]
    },
    {
      "cell_type": "code",
      "metadata": {
        "id": "p0A3BHjeE1TD",
        "colab_type": "code",
        "colab": {}
      },
      "source": [
        "YesNoDict = { \"Yes\": 1, \"No\": -1, \"Unsure\": 0, \"\": 0 }\n",
        "# Load from the csv file.\n",
        "# Note: the file only has \"1\"s, because blanks mean \"No\"\n",
        "\n",
        "X = []\n",
        "with open('SportsDataset_DataAttributes.csv','r') as csvfile:\n",
        "    myreader = csv.reader(csvfile)\n",
        "    for row in myreader:\n",
        "        data = [];\n",
        "        for col in row:\n",
        "            data.append( col or \"-1\")\n",
        "        X.append( list(map(int,data)) ) # integers, not strings\n",
        "\n",
        "# This data file is listed in the same order as the sports\n",
        "# The variable \"y\" contains the index of the sport\n",
        "Y = range(len(sports)) # this doesn't work\n",
        "Y = list( map(int,Y) ) # Instead, we need to ask python to really enumerate it!"
      ],
      "execution_count": 10,
      "outputs": []
    },
    {
      "cell_type": "markdown",
      "metadata": {
        "id": "IKtmlYUiE1TG",
        "colab_type": "text"
      },
      "source": [
        "### Task #3: examine the variables\n",
        "Look at `X` and `Y`"
      ]
    },
    {
      "cell_type": "code",
      "metadata": {
        "id": "I3e_WUHHE1TG",
        "colab_type": "code",
        "colab": {}
      },
      "source": [
        "# for you"
      ],
      "execution_count": null,
      "outputs": []
    },
    {
      "cell_type": "markdown",
      "metadata": {
        "id": "-XrCxmP_E1TJ",
        "colab_type": "text"
      },
      "source": [
        "# Your turn: train a decision tree classifier\n",
        "See the scikit-learn documentation:\n",
        "https://scikit-learn.org/stable/modules/tree.html#classification\n",
        "\n",
        "You may want to use:\n",
        "- `tree.DecisionTreeClassifier`\n",
        "- `.fit(...)`\n",
        "- `.predict(...)`"
      ]
    },
    {
      "cell_type": "markdown",
      "metadata": {
        "id": "pKSCgqCwE1TJ",
        "colab_type": "text"
      },
      "source": [
        "### Task #4: train the classifier, using scikit-learn"
      ]
    },
    {
      "cell_type": "code",
      "metadata": {
        "id": "LSK5PLquE1TK",
        "colab_type": "code",
        "colab": {}
      },
      "source": [
        "from sklearn import tree\n",
        "# the rest is up to you"
      ],
      "execution_count": null,
      "outputs": []
    },
    {
      "cell_type": "markdown",
      "metadata": {
        "id": "RTLwkImzE1TM",
        "colab_type": "text"
      },
      "source": [
        "### Task #5: Take the array for \"Basketball\" and see what the prediction is"
      ]
    },
    {
      "cell_type": "code",
      "metadata": {
        "id": "FkN6gniDE1TM",
        "colab_type": "code",
        "colab": {}
      },
      "source": [
        "ind = Sport2Index['Basketball']\n",
        "print(ind)"
      ],
      "execution_count": null,
      "outputs": []
    },
    {
      "cell_type": "code",
      "metadata": {
        "id": "nQEQRF32E1TO",
        "colab_type": "code",
        "colab": {}
      },
      "source": [
        "bball = X[ind]\n",
        "bball"
      ],
      "execution_count": null,
      "outputs": []
    },
    {
      "cell_type": "code",
      "metadata": {
        "id": "mjAUr8N3E1TQ",
        "colab_type": "code",
        "colab": {}
      },
      "source": [
        "# for you to do: predict the label for the bball array, and turn this back into the name of a sport"
      ],
      "execution_count": null,
      "outputs": []
    },
    {
      "cell_type": "markdown",
      "metadata": {
        "id": "0QSVdyUkE1TT",
        "colab_type": "text"
      },
      "source": [
        "### Task #6: Make a \"for\" loop to ask the questions and get answers\n",
        "Hint: first start by just writing the `for` loop and *printing* the questions that are in `questions`\n",
        "\n",
        "You can get fancy (have the user write \"yes\" or \"no\"), or require the user to write \"1\" for \"yes\", and \"-1\" for \"no\"\n",
        "\n",
        "Some of these python functions could be useful:\n",
        "- `input`\n",
        "- `int(...)`\n",
        "- `.lower()`\n",
        "- `enumerate(...)`"
      ]
    },
    {
      "cell_type": "code",
      "metadata": {
        "id": "yAejrDqJE1TT",
        "colab_type": "code",
        "colab": {}
      },
      "source": [
        "# for you to do"
      ],
      "execution_count": null,
      "outputs": []
    },
    {
      "cell_type": "markdown",
      "metadata": {
        "id": "YQxCW0d4E1TV",
        "colab_type": "text"
      },
      "source": [
        "### Task #7 (final task): take the data from task 6 and predict which sport you were thinking of!\n",
        "Use the classifier you trained from task #4 and the `.predict(...)` function"
      ]
    },
    {
      "cell_type": "code",
      "metadata": {
        "id": "ZaZO1vbZE1TW",
        "colab_type": "code",
        "colab": {}
      },
      "source": [
        "# for you to do"
      ],
      "execution_count": null,
      "outputs": []
    },
    {
      "cell_type": "markdown",
      "metadata": {
        "id": "QArpuNjjE1TY",
        "colab_type": "text"
      },
      "source": [
        "# Extra Credit: make an adaptive program\n",
        "For this, you need to hack the scikit-learn structure a bit.\n",
        "See https://scikit-learn.org/stable/auto_examples/tree/plot_unveil_tree_structure.html\n",
        "\n",
        "You may want to use \n",
        "- `from sklearn.tree import _tree`, and \n",
        "- `tree.DecisionTreeClassifier`, with commands like:\n",
        "  - `tree_.children_left[node]`\n",
        "  - `tree_.value[node]`\n",
        "  - `tree_.feature[node]`\n",
        "  - `tree_.threshold[node]`"
      ]
    },
    {
      "cell_type": "code",
      "metadata": {
        "id": "oOujrW3yE1TY",
        "colab_type": "code",
        "colab": {}
      },
      "source": [
        "# up to you"
      ],
      "execution_count": null,
      "outputs": []
    }
  ]
}