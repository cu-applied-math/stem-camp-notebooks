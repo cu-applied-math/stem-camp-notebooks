{
  "nbformat": 4,
  "nbformat_minor": 0,
  "metadata": {
    "kernelspec": {
      "display_name": "Python 3",
      "language": "python",
      "name": "python3"
    },
    "language_info": {
      "codemirror_mode": {
        "name": "ipython",
        "version": 3
      },
      "file_extension": ".py",
      "mimetype": "text/x-python",
      "name": "python",
      "nbconvert_exporter": "python",
      "pygments_lexer": "ipython3",
      "version": "3.8.3"
    },
    "colab": {
      "name": "A* Search Complete",
      "provenance": [],
      "collapsed_sections": [],
      "include_colab_link": true
    }
  },
  "cells": [
    {
      "cell_type": "markdown",
      "metadata": {
        "id": "view-in-github",
        "colab_type": "text"
      },
      "source": [
        "<a href=\"https://colab.research.google.com/github/cu-applied-math/stem-camp-notebooks/blob/master/2021/PythonAdvanced/A_Search_Complete.ipynb\" target=\"_parent\"><img src=\"https://colab.research.google.com/assets/colab-badge.svg\" alt=\"Open In Colab\"/></a>"
      ]
    },
    {
      "cell_type": "markdown",
      "metadata": {
        "id": "EIl6A3vc70uW"
      },
      "source": [
        "<a id='top'></a>\n",
        "\n",
        "# Machine Learning STEM CAMP 2021\n",
        "## Advanced Python\n",
        "#### Modified by Allison Liu from CSCI 3202\n",
        "\n",
        "\n",
        "\n",
        "\n",
        "---\n",
        "A* Search Algorithm\n",
        "---"
      ]
    },
    {
      "cell_type": "code",
      "metadata": {
        "id": "B-rniahq70uZ"
      },
      "source": [
        "import pandas as pd\n",
        "import numpy as np\n",
        "import random\n",
        "import scipy.stats as stats\n",
        "import matplotlib.pyplot as plt\n",
        "from collections import defaultdict\n",
        "\n",
        "# added packages\n",
        "import heapq\n",
        "from matplotlib import colors\n",
        "from matplotlib.colors import ListedColormap"
      ],
      "execution_count": null,
      "outputs": []
    },
    {
      "cell_type": "markdown",
      "metadata": {
        "id": "aHDZYk4y70ua"
      },
      "source": [
        "\n",
        "Consider the map of the area to the west of the Engineering Center given below, with a fairly coarse Cartesian grid superimposed.\n",
        "\n",
        "<img src=\"http://www.cs.colorado.edu/~tonyewong/home/resources/engineering_center_grid_zoom.png\" style=\"width: 800px;\"/>\n",
        "\n",
        "The green square at $(x,y)=(1,15)$ is the starting location, and you would like to walk from there to the yellow square at $(25,9)$. The filled-in blue squares are obstacles, and you cannot walk through those locations.  You also cannot walk outside of this grid.\n",
        "\n",
        "Legal moves in the North/South/East/West directions have a step cost of 1. Moves in the diagonal direction (for example, from $(1,15)$ to $(2,14)$) are allowed, but they have a step cost of $\\sqrt{2}$. \n"
      ]
    },
    {
      "cell_type": "code",
      "metadata": {
        "id": "RPNGIehq70ua"
      },
      "source": [
        "#Some tuples defining the wall and state locations, for your convenience\n",
        "\n",
        "walls = [(1,y) for y in range(2,15)] + [(2,y) for y in range(3,14)] + [(3,y) for y in range(4,13)] + \\\n",
        "        [(4,y) for y in range(5,12)] + [(x,1) for x in range(5,24)] + [(10,y) for y in range(9,13)] + \\\n",
        "        [(x,y) for x in range(11,14) for y in range(9,15)] + [(14,y) for y in range(11,15)] + \\\n",
        "        [(x,y) for x in range(21,26) for y in range(11,17)] + \\\n",
        "        [(x,y) for x in [0,26] for y in range(0,18)] + [(x,y) for x in range(0,26) for y in [0,17]]\n",
        "        \n",
        "states = [(x,y) for x in range(1,26) for y in range(1,17)]"
      ],
      "execution_count": null,
      "outputs": []
    },
    {
      "cell_type": "markdown",
      "metadata": {
        "id": "J2htm4FR70ub"
      },
      "source": [
        "[Back to top](#top)\n",
        "<a id='p1'></a>\n",
        "\n",
        "\n",
        "---\n",
        "## Part 1:  Route-finding\n",
        "In this problem, our goal is to find the path from the green to yellow squares with the **shortest total path length**.\n",
        "\n",
        "Of course, you can probably do this problem (and likely have to some degree, in your head) without a search algorithm. But that will hopefully provide a useful \"sanity check\" for your answer.\n",
        "\n",
        "#### Part A\n",
        "Write a function `adjacent_states(state)`:\n",
        "* takes a single argument `state`, which is a tuple representing a valid state in this state space\n",
        "* returns in some form the states reachable from `state` and the step costs. How exactly you do this is up to you."
      ]
    },
    {
      "cell_type": "code",
      "metadata": {
        "id": "0s1N9Ggw70ub"
      },
      "source": [
        "# Your adjacency here\n",
        "def adjacent_states(state):\n",
        "        '''Takes a single argument state, which is a tuple representing a valid state in this state space.\n",
        "        Returns in the form of a dictionary the states reachable from state and the step costs.\n",
        "        '''\n",
        "        ### NOTE: VARIABLE\"walls\" MUST BE DEFINED ABOVE\n",
        "        possible_states={}\n",
        "        possible_states[state]={}\n",
        "        \n",
        "        if state in walls:\n",
        "            return\n",
        "        elif state not in walls:\n",
        "            x=state[0]\n",
        "            y=state[1]\n",
        "            if (x,y+1) not in walls: #North\n",
        "                possible_states[(x,y)][(x,y+1)]=1\n",
        "            if (x,y-1) not in walls: #South\n",
        "                possible_states[(x,y)][(x,y-1)]=1\n",
        "            if (x+1,y) not in walls: #East\n",
        "                possible_states[(x,y)][(x+1,y)]=1\n",
        "            if (x-1,y) not in walls: #West\n",
        "                possible_states[(x,y)][(x-1,y)]=1\n",
        "            if (x+1,y+1) not in walls: #North East\n",
        "                possible_states[(x,y)][(x+1,y+1)]=np.sqrt(2)\n",
        "            if (x-1,y+1) not in walls: #North West\n",
        "                possible_states[(x,y)][(x-1,y+1)]=np.sqrt(2)\n",
        "            if (x+1,y-1) not in walls: #South East\n",
        "                possible_states[(x,y)][(x+1,y-1)]=np.sqrt(2)\n",
        "            if (x-1,y-1) not in walls: #South West\n",
        "                possible_states[(x,y)][(x-1,y-1)]=np.sqrt(2)\n",
        "            return possible_states"
      ],
      "execution_count": null,
      "outputs": []
    },
    {
      "cell_type": "markdown",
      "metadata": {
        "id": "VCmXCRyd-B21"
      },
      "source": [
        "Print to the screen the output for `adjacent_states((1,15))`."
      ]
    },
    {
      "cell_type": "code",
      "metadata": {
        "colab": {
          "base_uri": "https://localhost:8080/"
        },
        "id": "Tk6Ytb3Q70uc",
        "outputId": "88e87fd8-cd6f-4073-bfe0-4579752ca443"
      },
      "source": [
        "adjacent_states((1,15))"
      ],
      "execution_count": null,
      "outputs": [
        {
          "output_type": "execute_result",
          "data": {
            "text/plain": [
              "{(1, 15): {(1, 16): 1,\n",
              "  (2, 14): 1.4142135623730951,\n",
              "  (2, 15): 1,\n",
              "  (2, 16): 1.4142135623730951}}"
            ]
          },
          "metadata": {
            "tags": []
          },
          "execution_count": 17
        }
      ]
    },
    {
      "cell_type": "markdown",
      "metadata": {
        "id": "qd8uP-wk70ud"
      },
      "source": [
        "#### Part B\n",
        "Write a `heuristic function`.\n",
        "1. `heuristic_eucl(state, goal)` = Euclidean distance between the argument `state` and the `goal`"
      ]
    },
    {
      "cell_type": "code",
      "metadata": {
        "id": "Vkdb2RBN70ud"
      },
      "source": [
        "def heuristic_eucl(state, goal):\n",
        "    '''returns Euclidean distance between the argument state and the goal'''\n",
        "    # state is a tuple of the form (x1, y1), goal is a tuple of the form (x2, y2)\n",
        "    # euclidean distance\n",
        "    x_s=state[0]\n",
        "    x_g=goal[0]\n",
        "    y_s=state[1]\n",
        "    y_g=goal[1]\n",
        "    return (np.sqrt((x_g-x_s)**2+(y_g-y_s)**2))"
      ],
      "execution_count": null,
      "outputs": []
    },
    {
      "cell_type": "markdown",
      "metadata": {
        "id": "mgfDFgoL70ue"
      },
      "source": [
        "#### Part D\n",
        "Use A\\* search and the `heuristic_eucl` heuristic to find the shortest path from the initial state at $(1,15)$ to the goal state at $(25,9)$. Your search **should not** build up the entire state space graph in memory. Instead, use the `adjacent_states` function from Part A."
      ]
    },
    {
      "cell_type": "code",
      "metadata": {
        "id": "MWD7r9k370ue"
      },
      "source": [
        "def astar_search(start, goal, possible_states, heuristic, return_cost=False, return_nexp=False):\n",
        "    parent = {start:None}\n",
        "    frontier = Frontier_PQ(start, 0)\n",
        "    visited = []\n",
        "    nodes_expanded = 0\n",
        "    state_graph={}\n",
        "    \n",
        "    while frontier.q:\n",
        "        if not frontier.q:\n",
        "            print(\"Failure!\")\n",
        "        currNode = frontier.pop() #pop lowest cost node\n",
        "        currCity = currNode[1]\n",
        "        visited = visited + [currCity]\n",
        "        state_graph=possible_states(currCity)\n",
        "#         state_graph.update(possible_states(currCity))\n",
        "        found_path_parent = get_reverse_path(start, currNode[1], parent)\n",
        "        found_path = path(found_path_parent, currNode[1])\n",
        "        currCost = path_cost(found_path)\n",
        "\n",
        "        nodes_expanded +=1\n",
        "\n",
        "        # If we are at the goal:\n",
        "        if currCity == goal:\n",
        "            astar_path = get_reverse_path(start, goal, parent)\n",
        "            solution = path(astar_path, goal) # path\n",
        "            solution_cost = path_cost(solution)\n",
        "            nodes_expanded = len(visited)-1\n",
        "            if(return_cost==False and return_nexp==False):\n",
        "                return solution\n",
        "            elif(return_cost==True and return_nexp==False):\n",
        "                return [solution, solution_cost]\n",
        "            elif(return_cost==False and return_nexp==True):\n",
        "                return [solution,None ,nodes_expanded]\n",
        "            elif(return_cost==True and return_nexp==True):\n",
        "                return [solution, solution_cost, nodes_expanded]\n",
        "\n",
        "        for child in state_graph[currNode[1]]:\n",
        "            child_cost = state_graph[currNode[1]][child]\n",
        "            ttl_cost = currCost+child_cost+heuristic(child, goal)\n",
        "            if (child not in visited) and (child not in frontier.states):\n",
        "                frontier.add(child, ttl_cost)\n",
        "                frontier.states[child] = ttl_cost\n",
        "                parent[child]=currCity\n",
        "            elif (child in frontier.states) and (ttl_cost < frontier.states[child]):\n",
        "                index = frontier.q.index((frontier.states[child], child))\n",
        "                frontier.q[index]=(ttl_cost, child)\n",
        "                frontier.q.sort()\n",
        "                frontier.states[child] = ttl_cost\n",
        "                parent[child]=currCity\n",
        "\n",
        "# Takes instantiation arguments state, cost\n",
        "# start is the initial state(e.g. start='chi'), cost is the initial path cost\n",
        "class Frontier_PQ:\n",
        "    #instantiation arguments\n",
        "    def __init__(self, start, cost):\n",
        "        self.start = str(start)\n",
        "        self.cost = str(cost)\n",
        "        self.states = {}\n",
        "        self.q = [(cost,start)]\n",
        "        heapq.heapify(self.q)\n",
        "    \n",
        "    def __eq__(self, other):\n",
        "        return self.key==other.key\n",
        "    \n",
        "    def add(self, state, cost):\n",
        "        heapq.heappush(self.q,(cost, state))\n",
        "        return\n",
        "    \n",
        "    def pop(self):\n",
        "        lowest_cost_node = heapq.heappop(self.q)\n",
        "        return lowest_cost_node\n",
        "    \n",
        "    def replace(self, state, newcost, index):\n",
        "        heapq[index]=(self.q, (newcost, state))\n",
        "        return\n",
        "\n",
        "# path function\n",
        "def path(previous, s): \n",
        "    '''\n",
        "    `previous` is a dictionary chaining together the predecessor state that led to each state\n",
        "    `s` will be None for the initial state\n",
        "    otherwise, start from the last state `s` and recursively trace `previous` back to the initial state,\n",
        "    constructing a list of states visited as we go\n",
        "    '''\n",
        "    if s is None:\n",
        "        return []\n",
        "    else:\n",
        "        return path(previous, previous[s])+[s]\n",
        "\n",
        "#path from destination to source\n",
        "def get_reverse_path(start, goal, parent):\n",
        "    invpath = {goal:parent[goal]}\n",
        "    found_path=dict()\n",
        "    while goal != start:\n",
        "        goal = parent[goal]\n",
        "        invpath[goal] = parent[goal]\n",
        "    for k in reversed(list(invpath.keys())):\n",
        "        found_path[k] = invpath[k]\n",
        "    return found_path\n",
        "\n",
        "def path_cost(path):\n",
        "    '''\n",
        "    add up the step costs along a path, which is assumed to be a list output from the `path` function above\n",
        "    '''\n",
        "    cost = 0\n",
        "    for s in range(len(path)-1):\n",
        "        cost += distance_formula(path[s], path[s+1])\n",
        "    return cost"
      ],
      "execution_count": null,
      "outputs": []
    },
    {
      "cell_type": "code",
      "metadata": {
        "colab": {
          "base_uri": "https://localhost:8080/"
        },
        "id": "4I-wrO2X70ue",
        "outputId": "a4a18502-aa21-4f4c-fc41-3c755e79195c"
      },
      "source": [
        "start = (1,15)\n",
        "goal = (25,9)\n",
        "astar_path = astar_search(start, goal, adjacent_states, heuristic_eucl, return_cost=True, return_nexp=False)\n",
        "print(\"optimal path =\", astar_path[0], \"\\ncost =\", astar_path[1])"
      ],
      "execution_count": null,
      "outputs": [
        {
          "output_type": "stream",
          "text": [
            "optimal path = [(1, 15), (2, 15), (3, 15), (4, 15), (5, 15), (6, 15), (7, 15), (8, 15), (9, 15), (10, 15), (11, 15), (12, 15), (13, 15), (14, 15), (15, 14), (16, 13), (17, 13), (18, 12), (19, 12), (20, 11), (21, 10), (22, 10), (23, 10), (24, 9), (25, 9)] \n",
            "cost = 26.485281374238575\n"
          ],
          "name": "stdout"
        }
      ]
    },
    {
      "cell_type": "markdown",
      "metadata": {
        "id": "Ny3mbr0Z70uf"
      },
      "source": [
        "#### Part E\n",
        "Make a figure depicting the optimal route from the initial state to the goal, similarly to how you depicted the maze solution in Homework 2."
      ]
    },
    {
      "cell_type": "code",
      "metadata": {
        "id": "j9oTDgIb70uf"
      },
      "source": [
        "def plot_maze(maze, walls, path=None, title=None, pathLength = None, lineColor='black'):\n",
        "    fig, ax = plt.subplots()\n",
        "    \n",
        "    # Set start and end to be different colors, just for visualization\n",
        "    maze[15][1]=1\n",
        "    maze[9][25]=2\n",
        "    # Make walls a different color\n",
        "    for w in walls:\n",
        "        maze[w[1]][w[0]]=-1\n",
        "\n",
        "    colors = 'steelblue lightgray green yellow'.split()\n",
        "    cmap = ListedColormap(colors, name='colors', N=None)\n",
        "    \n",
        "    img = ax.matshow(maze, zorder=1, cmap=cmap)\n",
        "            \n",
        "    size = max(len(maze)+1, len(maze[0])+1)\n",
        "    labels = np.arange(0,size,1)\n",
        "    ax.spines['left'].set_position(('axes', 0))\n",
        "    ax.spines['bottom'].set_position(('axes', 0))\n",
        "    # ax.spines['right'].set_color('none')\n",
        "    ax.invert_yaxis()\n",
        "    ax.xaxis.set_ticks_position('bottom')\n",
        "    ax.yaxis.set_ticks_position('left')\n",
        "    \n",
        "    # Shift ticks to be at 0.5, 1.5, etc\n",
        "    locs = np.arange(26)\n",
        "    for axis in [ax.xaxis, ax.yaxis]:\n",
        "        axis.set_ticks(locs + 0.5, minor=True)\n",
        "        axis.set(ticks=locs, ticklabels=labels)\n",
        "    # Turn on the grid for the minor ticks\n",
        "    ax.grid(True, which='minor')\n",
        "    ax.set_xlim([0.5,25.5])\n",
        "    ax.set_ylim([0.5,16.5])\n",
        "    \n",
        "    if path!=None:\n",
        "        x_vals = [x[0] for x in path]\n",
        "        y_vals = [x[1] for x in path]\n",
        "        ax.plot(x_vals, y_vals, zorder=2, Color=lineColor)\n",
        "        start = (x_vals[0], y_vals[0])\n",
        "        end = (x_vals[-1], y_vals[-1])\n",
        "        ax.annotate('start', xy = start, Color=lineColor)\n",
        "        ax.annotate('end', xy = end, Color=lineColor)\n",
        "        \n",
        "    if title!=None:\n",
        "        ax.set_title(title)\n",
        "        \n",
        "    if pathLength!=None:\n",
        "        txt = ('Path Length = '+str(pathLength))\n",
        "        plt.figtext(0.5, 0.01, txt, wrap=True, horizontalalignment='center', fontsize=12)\n",
        "        \n",
        "    plt.show()\n",
        "    return"
      ],
      "execution_count": null,
      "outputs": []
    },
    {
      "cell_type": "code",
      "metadata": {
        "colab": {
          "base_uri": "https://localhost:8080/",
          "height": 327
        },
        "id": "U6Hn4kcl70ug",
        "outputId": "b11e338c-0cb2-4a9b-e60f-64eaea60a8f3"
      },
      "source": [
        "plot_title = 'Optimal Path Found Using A* \\n' + r' (1,15) $\\rightarrow$ (25,9)'\n",
        "plot_maze(np.zeros([18,27]), walls, path=astar_path[0], pathLength = astar_path[1], title = plot_title)"
      ],
      "execution_count": null,
      "outputs": [
        {
          "output_type": "display_data",
          "data": {
            "image/png": "[encoded data removed]",
            "text/plain": [
              "<Figure size 432x288 with 1 Axes>"
            ]
          },
          "metadata": {
            "tags": [],
            "needs_background": "light"
          }
        }
      ]
    },
    {
      "cell_type": "markdown",
      "metadata": {
        "id": "sozs7k3O8VVb"
      },
      "source": [
        "What is the optimal path? Is there more than one?"
      ]
    },
    {
      "cell_type": "markdown",
      "metadata": {
        "id": "ugdQKuUQ70ug"
      },
      "source": [
        "Comment: There are many possible unique optimal paths (with the same cost) other than the one found by my A* algorithm. Another optimal path, from $(1,15) \\rightarrow(14,15) \\rightarrow (20,9) \\rightarrow (25,9)$, is shown above in gray."
      ]
    },
    {
      "cell_type": "markdown",
      "metadata": {
        "id": "6yocHJOxAcH1"
      },
      "source": [
        "This can also be used on the Traveling Salesman problem. If you finish early, let me know!"
      ]
    }
  ]
}