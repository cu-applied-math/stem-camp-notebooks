{
 "cells": [
  {
   "cell_type": "markdown",
   "metadata": {},
   "source": [
    "<a href=\"https://colab.research.google.com/github/cu-applied-math/stem-camp-notebooks/blob/master/2021/PythonIntro/Containers.ipynb\" target=\"_parent\"><img src=\"https://colab.research.google.com/assets/colab-badge.svg\" alt=\"Open In Colab\"/></a>"
   ]
  },
  {
   "cell_type": "markdown",
   "metadata": {},
   "source": [
    "# Containers"
   ]
  },
  {
   "cell_type": "markdown",
   "metadata": {},
   "source": [
    "A container in Python is an object that contains other objects. Python has several built-in container objects that are commonly used. Namely: [lists](https://www.tutorialspoint.com/python/python_lists.htm), [tuples](https://www.tutorialspoint.com/python/python_tuples.htm), and [dictionaries](https://www.tutorialspoint.com/python/python_dictionary.htm), and [sets](https://www.w3schools.com/python/python_sets.asp). The numerical module NumPy also has a few containers, but we will only cover [numpy arrays](https://numpy.org/doc/stable/user/quickstart.html) here."
   ]
  },
  {
   "cell_type": "markdown",
   "metadata": {},
   "source": [
    "Since all the types of containers contain things, they support the keyword `in`. The `in` keyword can be used to test if objects are in a container, and to loop over the items in a container."
   ]
  },
  {
   "cell_type": "code",
   "execution_count": null,
   "metadata": {},
   "outputs": [],
   "source": [
    "# tuple\n",
    "tuple_example = ('banana', 'pear', 84, 'purple', 'age')\n",
    "# list\n",
    "list_example = ['banana', 'purple pear', 84, 2*42]\n",
    "# set\n",
    "set_example = {'The woods were lovely dark and deep.', 'purple', 84, 2*42}\n",
    "# dictionary\n",
    "dictionary_example = {\n",
    "    'name': 'Isac Newton',\n",
    "    'favorite color': 'purple',\n",
    "    'age': 84\n",
    "}\n",
    "# numpy array\n",
    "import numpy as np\n",
    "array_example = np.array([84, 56, 12345, -4])\n",
    "\n",
    "print('84 is in the tuple: ' + str(84 in  tuple_example))\n",
    "print('84 is in the list: ' + str(84 in  list_example))\n",
    "print('84 is in the set: ' + str(84 in  set_example))\n",
    "print(\"'age' is in the dictionary: \" + str('age' in  dictionary_example))\n",
    "print('84 is in the dictionary: ' + str(84 in  dictionary_example))\n",
    "print('84 is in the array: ' + str(84 in  array_example))\n",
    "\n",
    "print() # makes a space between the output lines.\n",
    "print('Here are all of the things in the tuple:')\n",
    "for each_thing in tuple_example:\n",
    "    print('\\t' + str(each_thing))"
   ]
  },
  {
   "cell_type": "markdown",
   "metadata": {},
   "source": [
    "### Q1"
   ]
  },
  {
   "cell_type": "markdown",
   "metadata": {},
   "source": [
    "Is the string `'purple pear'` in the `tuple_example` tuple? Write some code to test it."
   ]
  },
  {
   "cell_type": "code",
   "execution_count": null,
   "metadata": {},
   "outputs": [],
   "source": []
  },
  {
   "cell_type": "markdown",
   "metadata": {},
   "source": [
    "*****************************************************************"
   ]
  },
  {
   "cell_type": "markdown",
   "metadata": {},
   "source": [
    "The keyword `not` can also be used in conjunction with `in` in exactly the way you would expect."
   ]
  },
  {
   "cell_type": "code",
   "execution_count": null,
   "metadata": {},
   "outputs": [],
   "source": [
    "5 not in tuple_example"
   ]
  },
  {
   "cell_type": "code",
   "execution_count": null,
   "metadata": {},
   "outputs": [],
   "source": [
    "# name all of the objects in tuple_example that are not in list_example\n",
    "for each_thing in tuple_example:\n",
    "    if each_thing not in list_example:\n",
    "        print(each_thing)"
   ]
  },
  {
   "cell_type": "markdown",
   "metadata": {},
   "source": [
    "### Q2"
   ]
  },
  {
   "cell_type": "markdown",
   "metadata": {},
   "source": [
    "Write some code to name all objects that are in list_example and are not in tuple_example"
   ]
  },
  {
   "cell_type": "markdown",
   "metadata": {},
   "source": [
    "# Lists and Tuples"
   ]
  },
  {
   "cell_type": "markdown",
   "metadata": {},
   "source": [
    "Lists and tuples have nearly identical syntax, and nearly identical functionality. They may each contain any number of objects of any type: strings, numbers, other containers, etc. The objects are *indexed* beginning at index 0, and are accessed in the same way."
   ]
  },
  {
   "cell_type": "code",
   "execution_count": null,
   "metadata": {},
   "outputs": [],
   "source": [
    "# This is a list\n",
    "my_list = [1, 'eight', '14', 'Four score']\n",
    "\n",
    "# This is a tuple\n",
    "my_tuple = (1, 'eight', '14', 'Four score')\n",
    "\n",
    "# the second item in the list/tuple is at index 1\n",
    "print( my_list[1] )\n",
    "print( my_tuple[1] )"
   ]
  },
  {
   "cell_type": "markdown",
   "metadata": {},
   "source": [
    "Once created, a tuple cannot be changed, while lists can be changed after creation. New objects in lists can be replaced, and the length of the list can increase."
   ]
  },
  {
   "cell_type": "code",
   "execution_count": null,
   "metadata": {},
   "outputs": [],
   "source": [
    "my_list.append(\"I'm a new value!\")\n",
    "my_list += [ \"I'm another new value!\" ] # another way to append items to a list\n",
    "my_list[0] = \"I'm a changed value!\"\n",
    "print(my_list)"
   ]
  },
  {
   "cell_type": "code",
   "execution_count": null,
   "metadata": {},
   "outputs": [],
   "source": [
    "my_tuple.append(\"I'm a new value!\")"
   ]
  },
  {
   "cell_type": "code",
   "execution_count": null,
   "metadata": {},
   "outputs": [],
   "source": [
    "my_tuple[0] = \"I'm a changed value!\""
   ]
  },
  {
   "cell_type": "markdown",
   "metadata": {},
   "source": [
    "Lists and tuples can be nested to create *multi-dimensional* objects."
   ]
  },
  {
   "cell_type": "code",
   "execution_count": null,
   "metadata": {},
   "outputs": [],
   "source": [
    "tuple_1 = (1, 2, 3, 4)\n",
    "tuple_2 = (5, 6, 7, 8)\n",
    "\n",
    "tuple_of_tuples = (tuple_1, tuple_2)\n",
    "print(tuple_of_tuples)\n",
    "\n",
    "list_of_tuples = [tuple_1, tuple_2]\n",
    "print(list_of_tuples)"
   ]
  },
  {
   "cell_type": "markdown",
   "metadata": {},
   "source": [
    "There are many other features in the language that we are not covering here. "
   ]
  },
  {
   "cell_type": "code",
   "execution_count": null,
   "metadata": {},
   "outputs": [],
   "source": [
    "big_tuple = ( *tuple_1, *tuple_2 )\n",
    "print(big_tuple)"
   ]
  },
  {
   "cell_type": "markdown",
   "metadata": {},
   "source": [
    "### Q3"
   ]
  },
  {
   "cell_type": "markdown",
   "metadata": {},
   "source": [
    "What is the difference between `tuple_of_tuples` and `big_tuple` above?"
   ]
  },
  {
   "cell_type": "markdown",
   "metadata": {},
   "source": [
    "### Q4"
   ]
  },
  {
   "cell_type": "markdown",
   "metadata": {},
   "source": [
    "Once created, a tuple cannot be changed. How do you explain what is happening in the following code?"
   ]
  },
  {
   "cell_type": "code",
   "execution_count": null,
   "metadata": {},
   "outputs": [],
   "source": [
    "an_imutable_tuple = ('I', 'cannot', 'be', 'changed')\n",
    "print(an_imutable_tuple)\n",
    "an_imutable_tuple = ('I', 'can', 'be', 'changed')\n",
    "print(an_imutable_tuple)"
   ]
  },
  {
   "cell_type": "markdown",
   "metadata": {},
   "source": [
    "# Dictionaries"
   ]
  },
  {
   "cell_type": "markdown",
   "metadata": {},
   "source": [
    "While lists and tuples are indexed by numbers beginning at 0, dictionaries are \"indexed\" by custom objects called *keys*. Dictionaries are a collection of key-value pairs."
   ]
  },
  {
   "cell_type": "code",
   "execution_count": null,
   "metadata": {},
   "outputs": [],
   "source": [
    "my_dict = {'key1': 'value 1', 7: 'the value associated with the key 7'}\n",
    "print(my_dict.keys())\n",
    "print(my_dict.values())\n",
    "print( my_dict['key1'] )"
   ]
  },
  {
   "cell_type": "markdown",
   "metadata": {},
   "source": [
    "A dictionary can contain any object as a *value*, but not all objects can be keys. Keys can be strings, numbers, tuples, and other things. Lists cannot be keys to a dictionary. People commonly use numbers, strings, and tuples for dicionary keys."
   ]
  },
  {
   "cell_type": "code",
   "execution_count": null,
   "metadata": {},
   "outputs": [],
   "source": [
    "my_dict = {}\n",
    "my_dict['key1'] = 'Hello there!'\n",
    "my_dict[57] = ['I', 'am', 'a', 'list', 'and', 'my', 'key', 'is', 'the', 'number', '57.']\n",
    "my_dict[(\"I'm\", 'a', 'tuple', 'and', 'a', 'key.')] = 'My key is a tuple!!!'"
   ]
  },
  {
   "cell_type": "code",
   "execution_count": null,
   "metadata": {},
   "outputs": [],
   "source": [
    "my_dict[ ['bad', 'key'] ] = 'I will give an error because lists cannot be keys.'"
   ]
  },
  {
   "cell_type": "markdown",
   "metadata": {},
   "source": [
    "# Sets"
   ]
  },
  {
   "cell_type": "markdown",
   "metadata": {},
   "source": [
    "Sets in Python are very similar to mathematical sets, and are not used very commonly (I have never seen on used in my field). They only contain objects, and have no notion of position or repeated items. If redundant items are added to a set, they are ignored."
   ]
  },
  {
   "cell_type": "code",
   "execution_count": null,
   "metadata": {},
   "outputs": [],
   "source": [
    "my_set = {'Hello world!', '57', 57, 57, 'Hello world!'}\n",
    "print( len(my_set) )"
   ]
  },
  {
   "cell_type": "markdown",
   "metadata": {},
   "source": [
    "### Q5"
   ]
  },
  {
   "cell_type": "markdown",
   "metadata": {},
   "source": [
    "How many times will `57` be printed in the following code? Why?"
   ]
  },
  {
   "cell_type": "code",
   "execution_count": null,
   "metadata": {},
   "outputs": [],
   "source": [
    "for item in my_set:\n",
    "    print(item)"
   ]
  },
  {
   "cell_type": "markdown",
   "metadata": {},
   "source": [
    "# Comprehensions"
   ]
  },
  {
   "cell_type": "markdown",
   "metadata": {},
   "source": [
    "Python has a syntax called a *comprehension* that makes it easy to create new lists and tuples from other lists and tuples."
   ]
  },
  {
   "cell_type": "code",
   "execution_count": null,
   "metadata": {},
   "outputs": [],
   "source": [
    "some_numbers = (5, 17, 2.5)\n",
    "doubled = [2*number for number in some_numbers] #double each number - note the new container is a list, not a tuple.\n",
    "print(doubled)\n",
    "\n",
    "first_names = ['Allison', 'Stephen', 'Sage']\n",
    "last_names = ['Liu', 'Becker', 'Shaw']\n",
    "\n",
    "full_names = [first + ' ' + last for first, last in zip(first_names, last_names)] #combine the first names and last names\n",
    "print(full_names)\n",
    "\n"
   ]
  },
  {
   "cell_type": "markdown",
   "metadata": {},
   "source": [
    "### Q6"
   ]
  },
  {
   "cell_type": "markdown",
   "metadata": {},
   "source": [
    "The list below contains measurements in grams. Create a new list with the same measurements in kilograms. (1000g = 1kg)"
   ]
  },
  {
   "cell_type": "code",
   "execution_count": null,
   "metadata": {},
   "outputs": [],
   "source": [
    "mass_measurments_in_grams = [\n",
    "    157.5,\n",
    "    1.01,\n",
    "    158194,\n",
    "    2000\n",
    "]"
   ]
  },
  {
   "cell_type": "markdown",
   "metadata": {},
   "source": [
    "The result should be: [0.1575, 0.00101, 158.194, 2.0]"
   ]
  },
  {
   "cell_type": "markdown",
   "metadata": {},
   "source": [
    "# Numpy Arrays"
   ]
  },
  {
   "cell_type": "markdown",
   "metadata": {},
   "source": [
    "Pure Python is generally considered to be slow in the scientific community. It is not uncommon for a program written in C or C++ to run 100x faster than a program written in pure Python. It generally takes much longer to write a working program in C or C++ though, so there is a trade off. NumPy (a portmanteau of \"Numeric\" and \"Python\") is a Python package that allows for much faster computation, but only for *homogeneous* data-types. Since numpy is a package, it must be imported before it can be used."
   ]
  },
  {
   "cell_type": "code",
   "execution_count": null,
   "metadata": {},
   "outputs": [],
   "source": [
    "import numpy as np"
   ]
  },
  {
   "cell_type": "markdown",
   "metadata": {},
   "source": [
    "Numpy arrays are collections of objects of the same data-type."
   ]
  },
  {
   "cell_type": "code",
   "execution_count": null,
   "metadata": {},
   "outputs": [],
   "source": [
    "my_array = np.array( [1, 5, -3, 7.2] )"
   ]
  },
  {
   "cell_type": "markdown",
   "metadata": {},
   "source": [
    "Numpy arrays support broadcasting."
   ]
  },
  {
   "cell_type": "code",
   "execution_count": null,
   "metadata": {},
   "outputs": [],
   "source": [
    "2*my_array + 3"
   ]
  },
  {
   "cell_type": "markdown",
   "metadata": {},
   "source": [
    "Lists do not support broadcasting. You must use list comprehensions to get similar behavior."
   ]
  },
  {
   "cell_type": "code",
   "execution_count": null,
   "metadata": {},
   "outputs": [],
   "source": [
    "my_list = [1, 5, -3, 7.2]\n",
    "2*my_list + 3 # this wont work"
   ]
  },
  {
   "cell_type": "code",
   "execution_count": null,
   "metadata": {},
   "outputs": [],
   "source": [
    "my_list = [1, 5, -3, 7.2]\n",
    "[2*value+3 for value in my_list] # this will work"
   ]
  },
  {
   "cell_type": "code",
   "execution_count": null,
   "metadata": {},
   "outputs": [],
   "source": []
  }
 ],
 "metadata": {
  "kernelspec": {
   "display_name": "Python 3",
   "language": "python",
   "name": "python3"
  },
  "language_info": {
   "codemirror_mode": {
    "name": "ipython",
    "version": 3
   },
   "file_extension": ".py",
   "mimetype": "text/x-python",
   "name": "python",
   "nbconvert_exporter": "python",
   "pygments_lexer": "ipython3",
   "version": "3.6.9"
  }
 },
 "nbformat": 4,
 "nbformat_minor": 4
}
