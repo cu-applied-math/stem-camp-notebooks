{
  "nbformat": 4,
  "nbformat_minor": 0,
  "metadata": {
    "kernelspec": {
      "display_name": "Python 3 (ipykernel)",
      "language": "python",
      "name": "python3"
    },
    "language_info": {
      "codemirror_mode": {
        "name": "ipython",
        "version": 3
      },
      "file_extension": ".py",
      "mimetype": "text/x-python",
      "name": "python",
      "nbconvert_exporter": "python",
      "pygments_lexer": "ipython3",
      "version": "3.7.6"
    },
    "colab": {
      "name": "MNIST Handwriting Demo.ipynb",
      "provenance": [],
      "collapsed_sections": [],
      "include_colab_link": true
    }
  },
  "cells": [
    {
      "cell_type": "markdown",
      "metadata": {
        "id": "view-in-github",
        "colab_type": "text"
      },
      "source": [
        "<a href=\"https://colab.research.google.com/github/cu-applied-math/stem-camp-notebooks/blob/master/2021/MachineLearning/MNIST_Handwriting_Demo.ipynb\" target=\"_parent\"><img src=\"https://colab.research.google.com/assets/colab-badge.svg\" alt=\"Open In Colab\"/></a>"
      ]
    },
    {
      "cell_type": "markdown",
      "metadata": {
        "id": "cFOJW_cXPN3e"
      },
      "source": [
        "# Learning to Read with Sklearn: The MNIST Handwriting Dataset"
      ]
    },
    {
      "cell_type": "markdown",
      "metadata": {
        "id": "KpzMJJFFPN3g"
      },
      "source": [
        "In this lab:\n",
        "<br>\n",
        "$\\;\\;\\;\\;\\;\\;$-Import the MNIST (Modified National Institute of Standards and Technology) set of handwritten digits\n",
        "<br>\n",
        "$\\;\\;\\;\\;\\;\\;$-Visualize our data\n",
        "<br>\n",
        "$\\;\\;\\;\\;\\;\\;$-Use the SKlearn library in Python to Create a training set and a testing set of the data\n",
        "<br>\n",
        "$\\;\\;\\;\\;\\;\\;$-Using Sklearn, Train a model to recognize handwritten digits\n",
        "<br>\n",
        "$\\;\\;\\;\\;\\;\\;$-Interpret and visualize the results\n",
        "<br>\n",
        "Prereqs:\n",
        "<br>\n",
        "$\\;\\;\\;\\;\\;\\;$-Data matrices and vectors\n",
        "<br>\n",
        "$\\;\\;\\;\\;\\;\\;$-Logistic Regression\n",
        "<br>\n",
        "$\\;\\;\\;\\;\\;\\;$-Training sets vs. Testing sets\n",
        "\n"
      ]
    },
    {
      "cell_type": "code",
      "metadata": {
        "id": "aV-4FMXEPN3h"
      },
      "source": [
        "#@title\n",
        "#Lets import some critical libraries and other tools!\n",
        "\n",
        "from sklearn.datasets import fetch_openml             #This command from the Sklearn Library will help us access the dataset\n",
        "\n",
        "from sklearn.model_selection import train_test_split  #For splitting the dataset into a training set and a testing set \n",
        "\n",
        "from sklearn.linear_model import LogisticRegression   #Our Logistic Regression Model\n",
        "\n",
        "from sklearn import metrics                           #Some helpful tools for understanding our results          \n",
        "\n",
        "import numpy as np                                    #Numpy is always helpful!\n",
        "\n",
        "import matplotlib.pyplot as plt                       #A popular graphing library for visualization\n",
        "\n"
      ],
      "execution_count": 2,
      "outputs": []
    },
    {
      "cell_type": "markdown",
      "metadata": {
        "id": "a0jDAyNoPN3i"
      },
      "source": [
        "# Part 1: Loading the MNIST Dataset \n",
        "\n",
        "The MNIST Handwriting dataset is very famous, and we actually quickly fetch it by using the Sklearn function \"fetch_openml\". How cool is that?!"
      ]
    },
    {
      "cell_type": "code",
      "metadata": {
        "colab": {
          "base_uri": "https://localhost:8080/"
        },
        "id": "8zO4ADc2PN3i",
        "outputId": "ede8aec0-8324-4a0f-fa4c-4439c8ac8e87"
      },
      "source": [
        "\n",
        "#Fetch our handwriting data\n",
        "mnist = fetch_openml('mnist_784', version= 1, as_frame= False)\n",
        "\n",
        "#after loading the data, lets show the keys so we can understand what this data set comes with\n",
        "mnist.keys()"
      ],
      "execution_count": 4,
      "outputs": [
        {
          "output_type": "execute_result",
          "data": {
            "text/plain": [
              "dict_keys(['data', 'target', 'frame', 'feature_names', 'target_names', 'DESCR', 'details', 'categories', 'url'])"
            ]
          },
          "metadata": {
            "tags": []
          },
          "execution_count": 4
        }
      ]
    },
    {
      "cell_type": "code",
      "metadata": {
        "colab": {
          "base_uri": "https://localhost:8080/",
          "height": 103
        },
        "id": "RvSqT0YNxnPy",
        "outputId": "b3be00c5-0dd6-49bc-fbcb-d9905e5c8c3b"
      },
      "source": [
        "#As an example, lets call one of the keys (what looks like a description):\n",
        "mnist.DESCR"
      ],
      "execution_count": 7,
      "outputs": [
        {
          "output_type": "execute_result",
          "data": {
            "application/vnd.google.colaboratory.intrinsic+json": {
              "type": "string"
            },
            "text/plain": [
              "\"**Author**: Yann LeCun, Corinna Cortes, Christopher J.C. Burges  \\n**Source**: [MNIST Website](http://yann.lecun.com/exdb/mnist/) - Date unknown  \\n**Please cite**:  \\n\\nThe MNIST database of handwritten digits with 784 features, raw data available at: http://yann.lecun.com/exdb/mnist/. It can be split in a training set of the first 60,000 examples, and a test set of 10,000 examples  \\n\\nIt is a subset of a larger set available from NIST. The digits have been size-normalized and centered in a fixed-size image. It is a good database for people who want to try learning techniques and pattern recognition methods on real-world data while spending minimal efforts on preprocessing and formatting. The original black and white (bilevel) images from NIST were size normalized to fit in a 20x20 pixel box while preserving their aspect ratio. The resulting images contain grey levels as a result of the anti-aliasing technique used by the normalization algorithm. the images were centered in a 28x28 image by computing the center of mass of the pixels, and translating the image so as to position this point at the center of the 28x28 field.  \\n\\nWith some classification methods (particularly template-based methods, such as SVM and K-nearest neighbors), the error rate improves when the digits are centered by bounding box rather than center of mass. If you do this kind of pre-processing, you should report it in your publications. The MNIST database was constructed from NIST's NIST originally designated SD-3 as their training set and SD-1 as their test set. However, SD-3 is much cleaner and easier to recognize than SD-1. The reason for this can be found on the fact that SD-3 was collected among Census Bureau employees, while SD-1 was collected among high-school students. Drawing sensible conclusions from learning experiments requires that the result be independent of the choice of training set and test among the complete set of samples. Therefore it was necessary to build a new database by mixing NIST's datasets.  \\n\\nThe MNIST training set is composed of 30,000 patterns from SD-3 and 30,000 patterns from SD-1. Our test set was composed of 5,000 patterns from SD-3 and 5,000 patterns from SD-1. The 60,000 pattern training set contained examples from approximately 250 writers. We made sure that the sets of writers of the training set and test set were disjoint. SD-1 contains 58,527 digit images written by 500 different writers. In contrast to SD-3, where blocks of data from each writer appeared in sequence, the data in SD-1 is scrambled. Writer identities for SD-1 is available and we used this information to unscramble the writers. We then split SD-1 in two: characters written by the first 250 writers went into our new training set. The remaining 250 writers were placed in our test set. Thus we had two sets with nearly 30,000 examples each. The new training set was completed with enough examples from SD-3, starting at pattern # 0, to make a full set of 60,000 training patterns. Similarly, the new test set was completed with SD-3 examples starting at pattern # 35,000 to make a full set with 60,000 test patterns. Only a subset of 10,000 test images (5,000 from SD-1 and 5,000 from SD-3) is available on this site. The full 60,000 sample training set is available.\\n\\nDownloaded from openml.org.\""
            ]
          },
          "metadata": {
            "tags": []
          },
          "execution_count": 7
        }
      ]
    },
    {
      "cell_type": "markdown",
      "metadata": {
        "id": "cRIQxuRxPN3j"
      },
      "source": [
        "### Ok, we've loaded our data. But what do we actually have?\n",
        "\n"
      ]
    },
    {
      "cell_type": "code",
      "metadata": {
        "colab": {
          "base_uri": "https://localhost:8080/"
        },
        "id": "5CwGgAGFPN3j",
        "outputId": "a7f234ca-3852-4692-c00f-efabe88024c6"
      },
      "source": [
        "\n",
        "print(mnist.data)\n",
        "\n",
        "#Hmmm, what exactly is going on here? Remember our lesson on vectorizing photos from yesterday? We have a collection of vectorized photos, organized into a larger data matrix!"
      ],
      "execution_count": null,
      "outputs": [
        {
          "output_type": "stream",
          "text": [
            "[[0. 0. 0. ... 0. 0. 0.]\n",
            " [0. 0. 0. ... 0. 0. 0.]\n",
            " [0. 0. 0. ... 0. 0. 0.]\n",
            " ...\n",
            " [0. 0. 0. ... 0. 0. 0.]\n",
            " [0. 0. 0. ... 0. 0. 0.]\n",
            " [0. 0. 0. ... 0. 0. 0.]]\n"
          ],
          "name": "stdout"
        }
      ]
    },
    {
      "cell_type": "markdown",
      "metadata": {
        "id": "W-j0owXryXV-"
      },
      "source": [
        "### Before we go on, can you predict the dimensions of our data matrix? Each photo is 28 x 28 pixels. There are 70000 photos. What is your guess?"
      ]
    },
    {
      "cell_type": "code",
      "metadata": {
        "colab": {
          "base_uri": "https://localhost:8080/"
        },
        "id": "TnQzkODZyNrE",
        "outputId": "f11346ee-572a-4e8a-b95e-f313b8deda7c"
      },
      "source": [
        "print(mnist.data.shape)"
      ],
      "execution_count": 8,
      "outputs": [
        {
          "output_type": "stream",
          "text": [
            "(70000, 784)\n"
          ],
          "name": "stdout"
        }
      ]
    },
    {
      "cell_type": "markdown",
      "metadata": {
        "id": "9ilihiBwysLD"
      },
      "source": [
        "### Did you guess right?! Checking the shape is always a good idea, so you know how the data matrix is oriented (and what permissible matrix multiplications you can perform!)"
      ]
    },
    {
      "cell_type": "markdown",
      "metadata": {
        "id": "GK-Kc3tZzDvx"
      },
      "source": [
        "### Next, lets look at the labels the data came with. These are critical for supervised learning."
      ]
    },
    {
      "cell_type": "code",
      "metadata": {
        "colab": {
          "base_uri": "https://localhost:8080/"
        },
        "id": "av1iqP6iPN3k",
        "outputId": "42bad20d-1113-4259-d613-f47d36d448b0"
      },
      "source": [
        "#@title\n",
        "print(mnist.target)"
      ],
      "execution_count": 9,
      "outputs": [
        {
          "output_type": "stream",
          "text": [
            "['5' '0' '4' ... '4' '5' '6']\n"
          ],
          "name": "stdout"
        }
      ]
    },
    {
      "cell_type": "markdown",
      "metadata": {
        "id": "p8NNUXhwPN3l"
      },
      "source": [
        "### Each row is a vectorized handwritten number. The first number is a 5, based on the target data. Lets take a closer look at the data for this single digit:"
      ]
    },
    {
      "cell_type": "code",
      "metadata": {
        "colab": {
          "base_uri": "https://localhost:8080/"
        },
        "id": "iPRHS3r4PN3l",
        "outputId": "ab688207-8007-42d4-cdf9-47c6308384f9"
      },
      "source": [
        "#@title\n",
        "digit = 0\n",
        "mnist.data[digit]"
      ],
      "execution_count": 12,
      "outputs": [
        {
          "output_type": "execute_result",
          "data": {
            "text/plain": [
              "array([  0.,   0.,   0.,   0.,   0.,   0.,   0.,   0.,   0.,   0.,   0.,\n",
              "         0.,   0.,   0.,   0.,   0.,   0.,   0.,   0.,   0.,   0.,   0.,\n",
              "         0.,   0.,   0.,   0.,   0.,   0.,   0.,   0.,   0.,   0.,   0.,\n",
              "         0.,   0.,   0.,   0.,   0.,   0.,   0.,   0.,   0.,   0.,   0.,\n",
              "         0.,   0.,   0.,   0.,   0.,   0.,   0.,   0.,   0.,   0.,   0.,\n",
              "         0.,   0.,   0.,   0.,   0.,   0.,   0.,   0.,   0.,   0.,   0.,\n",
              "         0.,   0.,   0.,   0.,   0.,   0.,   0.,   0.,   0.,   0.,   0.,\n",
              "         0.,   0.,   0.,   0.,   0.,   0.,   0.,   0.,   0.,   0.,   0.,\n",
              "         0.,   0.,   0.,   0.,   0.,   0.,   0.,   0.,   0.,   0.,   0.,\n",
              "         0.,   0.,   0.,   0.,   0.,   0.,   0.,   0.,   0.,   0.,   0.,\n",
              "         0.,   0.,   0.,   0.,   0.,   0.,   0.,   0.,   0.,   0.,   0.,\n",
              "         0.,   0.,   0.,   0.,   0.,   0.,   0.,   0.,   0.,   0.,   0.,\n",
              "         0.,   0.,   0.,   0.,   0.,   0.,   0.,   0.,   0.,   0.,   0.,\n",
              "         0.,   0.,   0.,   0.,   0.,   0.,   0.,   0.,   0.,   3.,  18.,\n",
              "        18.,  18., 126., 136., 175.,  26., 166., 255., 247., 127.,   0.,\n",
              "         0.,   0.,   0.,   0.,   0.,   0.,   0.,   0.,   0.,   0.,   0.,\n",
              "        30.,  36.,  94., 154., 170., 253., 253., 253., 253., 253., 225.,\n",
              "       172., 253., 242., 195.,  64.,   0.,   0.,   0.,   0.,   0.,   0.,\n",
              "         0.,   0.,   0.,   0.,   0.,  49., 238., 253., 253., 253., 253.,\n",
              "       253., 253., 253., 253., 251.,  93.,  82.,  82.,  56.,  39.,   0.,\n",
              "         0.,   0.,   0.,   0.,   0.,   0.,   0.,   0.,   0.,   0.,   0.,\n",
              "        18., 219., 253., 253., 253., 253., 253., 198., 182., 247., 241.,\n",
              "         0.,   0.,   0.,   0.,   0.,   0.,   0.,   0.,   0.,   0.,   0.,\n",
              "         0.,   0.,   0.,   0.,   0.,   0.,   0.,  80., 156., 107., 253.,\n",
              "       253., 205.,  11.,   0.,  43., 154.,   0.,   0.,   0.,   0.,   0.,\n",
              "         0.,   0.,   0.,   0.,   0.,   0.,   0.,   0.,   0.,   0.,   0.,\n",
              "         0.,   0.,   0.,  14.,   1., 154., 253.,  90.,   0.,   0.,   0.,\n",
              "         0.,   0.,   0.,   0.,   0.,   0.,   0.,   0.,   0.,   0.,   0.,\n",
              "         0.,   0.,   0.,   0.,   0.,   0.,   0.,   0.,   0.,   0.,   0.,\n",
              "       139., 253., 190.,   2.,   0.,   0.,   0.,   0.,   0.,   0.,   0.,\n",
              "         0.,   0.,   0.,   0.,   0.,   0.,   0.,   0.,   0.,   0.,   0.,\n",
              "         0.,   0.,   0.,   0.,   0.,   0.,  11., 190., 253.,  70.,   0.,\n",
              "         0.,   0.,   0.,   0.,   0.,   0.,   0.,   0.,   0.,   0.,   0.,\n",
              "         0.,   0.,   0.,   0.,   0.,   0.,   0.,   0.,   0.,   0.,   0.,\n",
              "         0.,   0.,  35., 241., 225., 160., 108.,   1.,   0.,   0.,   0.,\n",
              "         0.,   0.,   0.,   0.,   0.,   0.,   0.,   0.,   0.,   0.,   0.,\n",
              "         0.,   0.,   0.,   0.,   0.,   0.,   0.,   0.,   0.,  81., 240.,\n",
              "       253., 253., 119.,  25.,   0.,   0.,   0.,   0.,   0.,   0.,   0.,\n",
              "         0.,   0.,   0.,   0.,   0.,   0.,   0.,   0.,   0.,   0.,   0.,\n",
              "         0.,   0.,   0.,   0.,   0.,  45., 186., 253., 253., 150.,  27.,\n",
              "         0.,   0.,   0.,   0.,   0.,   0.,   0.,   0.,   0.,   0.,   0.,\n",
              "         0.,   0.,   0.,   0.,   0.,   0.,   0.,   0.,   0.,   0.,   0.,\n",
              "         0.,  16.,  93., 252., 253., 187.,   0.,   0.,   0.,   0.,   0.,\n",
              "         0.,   0.,   0.,   0.,   0.,   0.,   0.,   0.,   0.,   0.,   0.,\n",
              "         0.,   0.,   0.,   0.,   0.,   0.,   0.,   0.,   0., 249., 253.,\n",
              "       249.,  64.,   0.,   0.,   0.,   0.,   0.,   0.,   0.,   0.,   0.,\n",
              "         0.,   0.,   0.,   0.,   0.,   0.,   0.,   0.,   0.,   0.,   0.,\n",
              "         0.,  46., 130., 183., 253., 253., 207.,   2.,   0.,   0.,   0.,\n",
              "         0.,   0.,   0.,   0.,   0.,   0.,   0.,   0.,   0.,   0.,   0.,\n",
              "         0.,   0.,   0.,   0.,   0.,  39., 148., 229., 253., 253., 253.,\n",
              "       250., 182.,   0.,   0.,   0.,   0.,   0.,   0.,   0.,   0.,   0.,\n",
              "         0.,   0.,   0.,   0.,   0.,   0.,   0.,   0.,   0.,  24., 114.,\n",
              "       221., 253., 253., 253., 253., 201.,  78.,   0.,   0.,   0.,   0.,\n",
              "         0.,   0.,   0.,   0.,   0.,   0.,   0.,   0.,   0.,   0.,   0.,\n",
              "         0.,   0.,  23.,  66., 213., 253., 253., 253., 253., 198.,  81.,\n",
              "         2.,   0.,   0.,   0.,   0.,   0.,   0.,   0.,   0.,   0.,   0.,\n",
              "         0.,   0.,   0.,   0.,   0.,   0.,  18., 171., 219., 253., 253.,\n",
              "       253., 253., 195.,  80.,   9.,   0.,   0.,   0.,   0.,   0.,   0.,\n",
              "         0.,   0.,   0.,   0.,   0.,   0.,   0.,   0.,   0.,   0.,  55.,\n",
              "       172., 226., 253., 253., 253., 253., 244., 133.,  11.,   0.,   0.,\n",
              "         0.,   0.,   0.,   0.,   0.,   0.,   0.,   0.,   0.,   0.,   0.,\n",
              "         0.,   0.,   0.,   0.,   0., 136., 253., 253., 253., 212., 135.,\n",
              "       132.,  16.,   0.,   0.,   0.,   0.,   0.,   0.,   0.,   0.,   0.,\n",
              "         0.,   0.,   0.,   0.,   0.,   0.,   0.,   0.,   0.,   0.,   0.,\n",
              "         0.,   0.,   0.,   0.,   0.,   0.,   0.,   0.,   0.,   0.,   0.,\n",
              "         0.,   0.,   0.,   0.,   0.,   0.,   0.,   0.,   0.,   0.,   0.,\n",
              "         0.,   0.,   0.,   0.,   0.,   0.,   0.,   0.,   0.,   0.,   0.,\n",
              "         0.,   0.,   0.,   0.,   0.,   0.,   0.,   0.,   0.,   0.,   0.,\n",
              "         0.,   0.,   0.,   0.,   0.,   0.,   0.,   0.,   0.,   0.,   0.,\n",
              "         0.,   0.,   0.,   0.,   0.,   0.,   0.,   0.,   0.,   0.,   0.,\n",
              "         0.,   0.,   0.,   0.,   0.,   0.,   0.,   0.,   0.,   0.,   0.,\n",
              "         0.,   0.,   0.])"
            ]
          },
          "metadata": {
            "tags": []
          },
          "execution_count": 12
        }
      ]
    },
    {
      "cell_type": "markdown",
      "metadata": {
        "id": "QAXbIctcPN3l"
      },
      "source": [
        "### This doesn't look like a number yet, Lets \"Reshape\" it, into the original square that the digit was"
      ]
    },
    {
      "cell_type": "code",
      "metadata": {
        "colab": {
          "base_uri": "https://localhost:8080/"
        },
        "id": "ff5TvsI3PN3m",
        "outputId": "14509855-98e5-4fc8-cacb-18d83ddf614c"
      },
      "source": [
        "#@title\n",
        "testimage = np.reshape(mnist.data[digit], (28, 28))\n",
        "print(testimage)"
      ],
      "execution_count": 13,
      "outputs": [
        {
          "output_type": "stream",
          "text": [
            "[[  0.   0.   0.   0.   0.   0.   0.   0.   0.   0.   0.   0.   0.   0.\n",
            "    0.   0.   0.   0.   0.   0.   0.   0.   0.   0.   0.   0.   0.   0.]\n",
            " [  0.   0.   0.   0.   0.   0.   0.   0.   0.   0.   0.   0.   0.   0.\n",
            "    0.   0.   0.   0.   0.   0.   0.   0.   0.   0.   0.   0.   0.   0.]\n",
            " [  0.   0.   0.   0.   0.   0.   0.   0.   0.   0.   0.   0.   0.   0.\n",
            "    0.   0.   0.   0.   0.   0.   0.   0.   0.   0.   0.   0.   0.   0.]\n",
            " [  0.   0.   0.   0.   0.   0.   0.   0.   0.   0.   0.   0.   0.   0.\n",
            "    0.   0.   0.   0.   0.   0.   0.   0.   0.   0.   0.   0.   0.   0.]\n",
            " [  0.   0.   0.   0.   0.   0.   0.   0.   0.   0.   0.   0.   0.   0.\n",
            "    0.   0.   0.   0.   0.   0.   0.   0.   0.   0.   0.   0.   0.   0.]\n",
            " [  0.   0.   0.   0.   0.   0.   0.   0.   0.   0.   0.   0.   3.  18.\n",
            "   18.  18. 126. 136. 175.  26. 166. 255. 247. 127.   0.   0.   0.   0.]\n",
            " [  0.   0.   0.   0.   0.   0.   0.   0.  30.  36.  94. 154. 170. 253.\n",
            "  253. 253. 253. 253. 225. 172. 253. 242. 195.  64.   0.   0.   0.   0.]\n",
            " [  0.   0.   0.   0.   0.   0.   0.  49. 238. 253. 253. 253. 253. 253.\n",
            "  253. 253. 253. 251.  93.  82.  82.  56.  39.   0.   0.   0.   0.   0.]\n",
            " [  0.   0.   0.   0.   0.   0.   0.  18. 219. 253. 253. 253. 253. 253.\n",
            "  198. 182. 247. 241.   0.   0.   0.   0.   0.   0.   0.   0.   0.   0.]\n",
            " [  0.   0.   0.   0.   0.   0.   0.   0.  80. 156. 107. 253. 253. 205.\n",
            "   11.   0.  43. 154.   0.   0.   0.   0.   0.   0.   0.   0.   0.   0.]\n",
            " [  0.   0.   0.   0.   0.   0.   0.   0.   0.  14.   1. 154. 253.  90.\n",
            "    0.   0.   0.   0.   0.   0.   0.   0.   0.   0.   0.   0.   0.   0.]\n",
            " [  0.   0.   0.   0.   0.   0.   0.   0.   0.   0.   0. 139. 253. 190.\n",
            "    2.   0.   0.   0.   0.   0.   0.   0.   0.   0.   0.   0.   0.   0.]\n",
            " [  0.   0.   0.   0.   0.   0.   0.   0.   0.   0.   0.  11. 190. 253.\n",
            "   70.   0.   0.   0.   0.   0.   0.   0.   0.   0.   0.   0.   0.   0.]\n",
            " [  0.   0.   0.   0.   0.   0.   0.   0.   0.   0.   0.   0.  35. 241.\n",
            "  225. 160. 108.   1.   0.   0.   0.   0.   0.   0.   0.   0.   0.   0.]\n",
            " [  0.   0.   0.   0.   0.   0.   0.   0.   0.   0.   0.   0.   0.  81.\n",
            "  240. 253. 253. 119.  25.   0.   0.   0.   0.   0.   0.   0.   0.   0.]\n",
            " [  0.   0.   0.   0.   0.   0.   0.   0.   0.   0.   0.   0.   0.   0.\n",
            "   45. 186. 253. 253. 150.  27.   0.   0.   0.   0.   0.   0.   0.   0.]\n",
            " [  0.   0.   0.   0.   0.   0.   0.   0.   0.   0.   0.   0.   0.   0.\n",
            "    0.  16.  93. 252. 253. 187.   0.   0.   0.   0.   0.   0.   0.   0.]\n",
            " [  0.   0.   0.   0.   0.   0.   0.   0.   0.   0.   0.   0.   0.   0.\n",
            "    0.   0.   0. 249. 253. 249.  64.   0.   0.   0.   0.   0.   0.   0.]\n",
            " [  0.   0.   0.   0.   0.   0.   0.   0.   0.   0.   0.   0.   0.   0.\n",
            "   46. 130. 183. 253. 253. 207.   2.   0.   0.   0.   0.   0.   0.   0.]\n",
            " [  0.   0.   0.   0.   0.   0.   0.   0.   0.   0.   0.   0.  39. 148.\n",
            "  229. 253. 253. 253. 250. 182.   0.   0.   0.   0.   0.   0.   0.   0.]\n",
            " [  0.   0.   0.   0.   0.   0.   0.   0.   0.   0.  24. 114. 221. 253.\n",
            "  253. 253. 253. 201.  78.   0.   0.   0.   0.   0.   0.   0.   0.   0.]\n",
            " [  0.   0.   0.   0.   0.   0.   0.   0.  23.  66. 213. 253. 253. 253.\n",
            "  253. 198.  81.   2.   0.   0.   0.   0.   0.   0.   0.   0.   0.   0.]\n",
            " [  0.   0.   0.   0.   0.   0.  18. 171. 219. 253. 253. 253. 253. 195.\n",
            "   80.   9.   0.   0.   0.   0.   0.   0.   0.   0.   0.   0.   0.   0.]\n",
            " [  0.   0.   0.   0.  55. 172. 226. 253. 253. 253. 253. 244. 133.  11.\n",
            "    0.   0.   0.   0.   0.   0.   0.   0.   0.   0.   0.   0.   0.   0.]\n",
            " [  0.   0.   0.   0. 136. 253. 253. 253. 212. 135. 132.  16.   0.   0.\n",
            "    0.   0.   0.   0.   0.   0.   0.   0.   0.   0.   0.   0.   0.   0.]\n",
            " [  0.   0.   0.   0.   0.   0.   0.   0.   0.   0.   0.   0.   0.   0.\n",
            "    0.   0.   0.   0.   0.   0.   0.   0.   0.   0.   0.   0.   0.   0.]\n",
            " [  0.   0.   0.   0.   0.   0.   0.   0.   0.   0.   0.   0.   0.   0.\n",
            "    0.   0.   0.   0.   0.   0.   0.   0.   0.   0.   0.   0.   0.   0.]\n",
            " [  0.   0.   0.   0.   0.   0.   0.   0.   0.   0.   0.   0.   0.   0.\n",
            "    0.   0.   0.   0.   0.   0.   0.   0.   0.   0.   0.   0.   0.   0.]]\n"
          ],
          "name": "stdout"
        }
      ]
    },
    {
      "cell_type": "markdown",
      "metadata": {
        "id": "pC30hkaGPN3m"
      },
      "source": [
        "### Hmm, still a little hard to see whats going on. Instead of looking at this array, let's print the first 5 numbers :"
      ]
    },
    {
      "cell_type": "code",
      "metadata": {
        "colab": {
          "base_uri": "https://localhost:8080/",
          "height": 256
        },
        "id": "fbQcxwJLPN3m",
        "outputId": "f86d3646-fe4e-491a-d26c-eb8d2426d04a"
      },
      "source": [
        "#@title\n",
        "plt.figure(figsize =(20,4))\n",
        "for index, (image, label) in enumerate(zip(mnist.data[:5], mnist.target[:5])):\n",
        "    plt.subplot(1,5, index+1)\n",
        "    plt.imshow(np.reshape(image, (28,28)), cmap = 'gray')\n",
        "    plt.title('Number: %s' % label)"
      ],
      "execution_count": 14,
      "outputs": [
        {
          "output_type": "display_data",
          "data": {
            "image/png": "[encoded data removed]",
            "text/plain": [
              "<Figure size 1440x288 with 5 Axes>"
            ]
          },
          "metadata": {
            "tags": [],
            "needs_background": "light"
          }
        }
      ]
    },
    {
      "cell_type": "markdown",
      "metadata": {
        "id": "zh3OspQgPN3m"
      },
      "source": [
        "### Now these look handwritten to me!"
      ]
    },
    {
      "cell_type": "markdown",
      "metadata": {
        "id": "Owbc-1URPN3m"
      },
      "source": [
        "# Part 2: Training Our Model "
      ]
    },
    {
      "cell_type": "markdown",
      "metadata": {
        "id": "pfZ6lcX0PN3n"
      },
      "source": [
        "### Remember how we train the model on different data than we test it on? Lets do a training set of 80% of our data and test on the rest. Sklearn makes this super easy to produce these different sets..."
      ]
    },
    {
      "cell_type": "code",
      "metadata": {
        "id": "Mj7nQ_KPPN3n"
      },
      "source": [
        "#@title\n",
        "X_train, X_test, Y_train, Y_test = train_test_split(mnist.data, mnist.target, test_size = 0.2)"
      ],
      "execution_count": 15,
      "outputs": []
    },
    {
      "cell_type": "markdown",
      "metadata": {
        "id": "_uEqZjFEPN3n"
      },
      "source": [
        "### ...Speaking of easy, watch how easy Sklearn makes it to train our model (this could take a little while):"
      ]
    },
    {
      "cell_type": "code",
      "metadata": {
        "id": "abBYCqt6PN3n",
        "colab": {
          "base_uri": "https://localhost:8080/"
        },
        "outputId": "98c305f7-ec71-4daa-c1a9-a239b5cbbca0"
      },
      "source": [
        "#@title\n",
        "#The next two lines of code train a model, using our training data\n",
        "mdl = LogisticRegression(solver = 'lbfgs')\n",
        "mdl.fit(X_train, Y_train)\n",
        "\n",
        "#The next two lines create predictions from our test data, so we can see how well we did\n",
        "predictions = mdl.predict(X_test)"
      ],
      "execution_count": 16,
      "outputs": [
        {
          "output_type": "stream",
          "text": [
            "/usr/local/lib/python3.7/dist-packages/sklearn/linear_model/_logistic.py:940: ConvergenceWarning: lbfgs failed to converge (status=1):\n",
            "STOP: TOTAL NO. of ITERATIONS REACHED LIMIT.\n",
            "\n",
            "Increase the number of iterations (max_iter) or scale the data as shown in:\n",
            "    https://scikit-learn.org/stable/modules/preprocessing.html\n",
            "Please also refer to the documentation for alternative solver options:\n",
            "    https://scikit-learn.org/stable/modules/linear_model.html#logistic-regression\n",
            "  extra_warning_msg=_LOGISTIC_SOLVER_CONVERGENCE_MSG)\n"
          ],
          "name": "stderr"
        }
      ]
    },
    {
      "cell_type": "markdown",
      "metadata": {
        "id": "nfBDIHHNPN3n"
      },
      "source": [
        "### You may get an error \"STOP: TOTAL NO. OF ITERATIONS REACHED LIMIT\". That's ok! The program wants you to know that  you maxed out on iterations before converging to a solution. In theory, we could improve our accuracy by increasing iterations. For now, these results are good enough."
      ]
    },
    {
      "cell_type": "markdown",
      "metadata": {
        "id": "c6zZIQnYPN3o"
      },
      "source": [
        "# Part 3: Understanding our results"
      ]
    },
    {
      "cell_type": "markdown",
      "metadata": {
        "id": "S5Gxe8UQPN3o"
      },
      "source": [
        "### Lets look at the model score. What does this mean? Do you think this is a good model? Here's another question: Did the model perform better on the Test Set or the Training Set? Does this makes sense to you?"
      ]
    },
    {
      "cell_type": "code",
      "metadata": {
        "colab": {
          "base_uri": "https://localhost:8080/"
        },
        "id": "IdW3de7TPN3o",
        "outputId": "0d2e108f-fb6a-4a9d-b10f-8631228ea5e1"
      },
      "source": [
        "#Test our model on the \"test set\"\n",
        "TestScore = mdl.score(X_test, Y_test)\n",
        "print(TestScore)"
      ],
      "execution_count": 17,
      "outputs": [
        {
          "output_type": "stream",
          "text": [
            "0.9205714285714286\n"
          ],
          "name": "stdout"
        }
      ]
    },
    {
      "cell_type": "code",
      "metadata": {
        "colab": {
          "base_uri": "https://localhost:8080/"
        },
        "id": "qo78fcpbPN3o",
        "outputId": "3ae7e170-f151-46ea-fbe7-3279eeb46da7"
      },
      "source": [
        "#Test our model on the \"training set\"\n",
        "TrainingScore = mdl.score(X_train, Y_train)\n",
        "print(TrainingScore)"
      ],
      "execution_count": 18,
      "outputs": [
        {
          "output_type": "stream",
          "text": [
            "0.9354464285714286\n"
          ],
          "name": "stdout"
        }
      ]
    },
    {
      "cell_type": "markdown",
      "metadata": {
        "id": "OApeXHMuPN3o"
      },
      "source": [
        "### Run the next cell to visualize a single digit from our test set. Compare it to the model prediction:"
      ]
    },
    {
      "cell_type": "code",
      "metadata": {
        "colab": {
          "base_uri": "https://localhost:8080/",
          "height": 282
        },
        "id": "fD524lEbPN3o",
        "outputId": "adc741ee-2b42-416e-feff-6f73b393c7f9"
      },
      "source": [
        "index = 1\n",
        "plt.imshow(np.reshape(X_test[index], (28,28)))\n",
        "print(\"Our model predicts: \" + mdl.predict([X_test[index]])[0])"
      ],
      "execution_count": 19,
      "outputs": [
        {
          "output_type": "stream",
          "text": [
            "Our model predicts: 7\n"
          ],
          "name": "stdout"
        },
        {
          "output_type": "display_data",
          "data": {
            "image/png": "[encoded data removed]",
            "text/plain": [
              "<Figure size 432x288 with 1 Axes>"
            ]
          },
          "metadata": {
            "tags": [],
            "needs_background": "light"
          }
        }
      ]
    },
    {
      "cell_type": "markdown",
      "metadata": {
        "id": "bx3dzg19PN3p"
      },
      "source": [
        "### Change the \"index\" value above, and look at a few numbers. Can you find one where the prediction doesn't match the picture? "
      ]
    },
    {
      "cell_type": "markdown",
      "metadata": {
        "id": "OKs75WQuPN3p"
      },
      "source": [
        "# Part 4: Visualizing Our Results"
      ]
    },
    {
      "cell_type": "markdown",
      "metadata": {
        "id": "yXZrBA14PN3p"
      },
      "source": [
        "### The scores above are interesting...but we can understand the performance of this model in more detail. As we discussed, we can use a Confusion Matrix to visualize our results. Sklearn makes it very easy to generate this: "
      ]
    },
    {
      "cell_type": "code",
      "metadata": {
        "colab": {
          "base_uri": "https://localhost:8080/"
        },
        "id": "N8CxkoiqPN3p",
        "outputId": "53f01c5b-f288-4303-f87e-77c00bdcea07"
      },
      "source": [
        "#@title\n",
        "cm = metrics.confusion_matrix(Y_test, predictions)\n",
        "print(cm)"
      ],
      "execution_count": 20,
      "outputs": [
        {
          "output_type": "stream",
          "text": [
            "[[1345    0    6    2    3   10    8    3   11    1]\n",
            " [   0 1564    2    7    1    5    1    4   15    3]\n",
            " [   1   15 1274   20   20    8   15   20   39    7]\n",
            " [   4    5   32 1258    0   50    7   15   35    2]\n",
            " [   9    1    6    2 1277    3   15    5   10   61]\n",
            " [  10    4    9   46   15 1079   20    6   35   21]\n",
            " [  11    2   13    0    7   22 1314    1    6    2]\n",
            " [   7   12   13    9   10    5    1 1364    7   43]\n",
            " [   5   22   20   35    4   36   20    0 1191   13]\n",
            " [   7    8    2   19   35    4    0   37   19 1222]]\n"
          ],
          "name": "stdout"
        }
      ]
    },
    {
      "cell_type": "markdown",
      "metadata": {
        "id": "5_imfXEoPN3p"
      },
      "source": [
        "### Ok, but its a little tough to get a sense of what's happening with this box of numbers. Lets graph our Confusion Matrix instead: "
      ]
    },
    {
      "cell_type": "code",
      "metadata": {
        "colab": {
          "base_uri": "https://localhost:8080/",
          "height": 580
        },
        "id": "5rFndTSPPN3p",
        "outputId": "ac9e0800-ca14-4a5b-8e05-1d82d015461a"
      },
      "source": [
        "\n",
        "#This looks complicated, but its just directions for formatting the graph below. No worries if it doesn't make sense right now!\n",
        "plt.figure(figsize = (10,10))\n",
        "plt.imshow(cm, cmap = 'Pastel1')\n",
        "plt.title('Confusion Matrix for MNIST Data')\n",
        "\n",
        "plt.xticks(np.arange(10))\n",
        "plt.yticks(np.arange(10))\n",
        "\n",
        "plt.ylabel(\"Actual Digit\")\n",
        "plt.xlabel('What the Model Predicted')\n",
        "\n",
        "plt.colorbar()\n",
        "\n",
        "\n",
        "width, height = cm.shape\n",
        "for x in range(width):\n",
        "    for y in range(height):\n",
        "        plt.annotate(str(cm[x][y]), xy = (x,y), horizontalalignment = 'center', verticalalignment = 'center')\n",
        "        "
      ],
      "execution_count": 22,
      "outputs": [
        {
          "output_type": "display_data",
          "data": {
            "image/png": "[encoded data removed]",
            "text/plain": [
              "<Figure size 720x720 with 2 Axes>"
            ]
          },
          "metadata": {
            "tags": [],
            "needs_background": "light"
          }
        }
      ]
    },
    {
      "cell_type": "markdown",
      "metadata": {
        "id": "85glgAcFPN3q"
      },
      "source": [
        "### From the Confusion Matrix above, what gave our model the most trouble when it was asked to classify the digit \"4\"? Does this make sense?"
      ]
    },
    {
      "cell_type": "markdown",
      "metadata": {
        "id": "V1aNO90I03Gn"
      },
      "source": [
        "# Great job! We've just taught a machine how to read handwritten numbers!!"
      ]
    },
    {
      "cell_type": "code",
      "metadata": {
        "id": "kEaGtYs807t3"
      },
      "source": [
        ""
      ],
      "execution_count": null,
      "outputs": []
    }
  ]
}