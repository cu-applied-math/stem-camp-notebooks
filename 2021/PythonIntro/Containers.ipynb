{
 "cells": [
  {
   "cell_type": "markdown",
   "metadata": {},
   "source": [
    "# Containers"
   ]
  },
  {
   "cell_type": "markdown",
   "metadata": {},
   "source": [
    "A container in Python is an object that contains other objects. Python has several built-in container objects that are commonly used. Namely: [lists](https://www.tutorialspoint.com/python/python_lists.htm), [tuples](https://www.tutorialspoint.com/python/python_tuples.htm), and [dictionaries](https://www.tutorialspoint.com/python/python_dictionary.htm), and [sets](https://www.w3schools.com/python/python_sets.asp). The numerical module NumPy also has a few containers, but we will only cover [numpy arrays](https://numpy.org/doc/stable/user/quickstart.html) here."
   ]
  },
  {
   "cell_type": "markdown",
   "metadata": {},
   "source": [
    "Since all the types of containers contain things, they support the keyword `in`. The `in` keyword can be used to test if objects are in a container, and to loop over the items in a container."
   ]
  },
  {
   "cell_type": "code",
   "execution_count": 21,
   "metadata": {},
   "outputs": [
    {
     "name": "stdout",
     "output_type": "stream",
     "text": [
      "84 is in the tuple: True\n",
      "84 is in the list: True\n",
      "84 is in the set: True\n",
      "'age' is in the dictionary: True\n",
      "84 is in the dictionary: False\n",
      "84 is in the array: True\n",
      "\n",
      "Here are all of the things in the tuple:\n",
      "\tbanana\n",
      "\tpear\n",
      "\t84\n",
      "\tpurple\n",
      "\tage\n"
     ]
    }
   ],
   "source": [
    "# tuple\n",
    "tuple_example = ('banana', 'pear', 84, 'purple', 'age')\n",
    "# list\n",
    "list_example = ['banana', 'purple pear', 84, 2*42]\n",
    "# set\n",
    "set_example = {'The woods were lovely dark and deep.', 'purple', 84, 2*42}\n",
    "# dictionary\n",
    "dictionary_example = {\n",
    "    'name': 'Isac Newton',\n",
    "    'favorite color': 'purple',\n",
    "    'age': 84\n",
    "}\n",
    "# numpy array\n",
    "array_example = np.array([84, 56, 12345, -4])\n",
    "\n",
    "print('84 is in the tuple: ' + str(84 in  tuple_example))\n",
    "print('84 is in the list: ' + str(84 in  list_example))\n",
    "print('84 is in the set: ' + str(84 in  set_example))\n",
    "print(\"'age' is in the dictionary: \" + str('age' in  dictionary_example))\n",
    "print('84 is in the dictionary: ' + str(84 in  dictionary_example))\n",
    "print('84 is in the array: ' + str(84 in  array_example))\n",
    "\n",
    "print() # makes a space between the output lines.\n",
    "print('Here are all of the things in the tuple:')\n",
    "for each_thing in tuple_example:\n",
    "    print('\\t' + str(each_thing))"
   ]
  },
  {
   "cell_type": "markdown",
   "metadata": {},
   "source": [
    "### Q1"
   ]
  },
  {
   "cell_type": "markdown",
   "metadata": {},
   "source": [
    "Is the string `'purple pear'` in the `tuple_example` tuple? Write some code to test it."
   ]
  },
  {
   "cell_type": "code",
   "execution_count": null,
   "metadata": {},
   "outputs": [],
   "source": []
  },
  {
   "cell_type": "markdown",
   "metadata": {},
   "source": [
    "*****************************************************************"
   ]
  },
  {
   "cell_type": "markdown",
   "metadata": {},
   "source": [
    "The keyword `not` can also be used in conjunction with `in` in exactly the way you would expect."
   ]
  },
  {
   "cell_type": "code",
   "execution_count": 24,
   "metadata": {},
   "outputs": [
    {
     "data": {
      "text/plain": [
       "True"
      ]
     },
     "execution_count": 24,
     "metadata": {},
     "output_type": "execute_result"
    }
   ],
   "source": [
    "5 not in tuple_example"
   ]
  },
  {
   "cell_type": "code",
   "execution_count": 25,
   "metadata": {},
   "outputs": [
    {
     "name": "stdout",
     "output_type": "stream",
     "text": [
      "pear\n",
      "purple\n",
      "age\n"
     ]
    }
   ],
   "source": [
    "# name all of the objects in tuple_example that are not in list_example\n",
    "for each_thing in tuple_example:\n",
    "    if each_thing not in list_example:\n",
    "        print(each_thing)"
   ]
  },
  {
   "cell_type": "markdown",
   "metadata": {},
   "source": [
    "### Q2"
   ]
  },
  {
   "cell_type": "markdown",
   "metadata": {},
   "source": [
    "Write some code to name all objects that are in list_example and are not in tuple_example"
   ]
  },
  {
   "cell_type": "markdown",
   "metadata": {},
   "source": [
    "# Lists and Tuples"
   ]
  },
  {
   "cell_type": "markdown",
   "metadata": {},
   "source": [
    "Lists and tuples have nearly identical syntax, and nearly identical functionality. They may each contain any number of objects of any type: strings, numbers, other containers, etc. The objects are *indexed* beginning at index 0, and are accessed in the same way."
   ]
  },
  {
   "cell_type": "code",
   "execution_count": 39,
   "metadata": {},
   "outputs": [
    {
     "name": "stdout",
     "output_type": "stream",
     "text": [
      "eight\n",
      "eight\n"
     ]
    }
   ],
   "source": [
    "# This is a list\n",
    "my_list = [1, 'eight', '14', 'Four score']\n",
    "\n",
    "# This is a tuple\n",
    "my_tuple = (1, 'eight', '14', 'Four score')\n",
    "\n",
    "# the second item in the list/tuple is at index 1\n",
    "print( my_list[1] )\n",
    "print( my_tuple[1] )"
   ]
  },
  {
   "cell_type": "markdown",
   "metadata": {},
   "source": [
    "Once created, a tuple cannot be changed, while lists can be changed after creation. New objects in lists can be replaced, and the length of the list can increase."
   ]
  },
  {
   "cell_type": "code",
   "execution_count": 40,
   "metadata": {},
   "outputs": [
    {
     "name": "stdout",
     "output_type": "stream",
     "text": [
      "[\"I'm a changed value!\", 'eight', '14', 'Four score', \"I'm a new value!\", \"I'm another new value!\"]\n"
     ]
    }
   ],
   "source": [
    "my_list.append(\"I'm a new value!\")\n",
    "my_list += [ \"I'm another new value!\" ] # another way to append items to a list\n",
    "my_list[0] = \"I'm a changed value!\"\n",
    "print(my_list)"
   ]
  },
  {
   "cell_type": "code",
   "execution_count": 41,
   "metadata": {},
   "outputs": [
    {
     "ename": "AttributeError",
     "evalue": "'tuple' object has no attribute 'append'",
     "output_type": "error",
     "traceback": [
      "\u001b[0;31m---------------------------------------------------------------------------\u001b[0m",
      "\u001b[0;31mAttributeError\u001b[0m                            Traceback (most recent call last)",
      "\u001b[0;32m<ipython-input-41-5ab13475f4db>\u001b[0m in \u001b[0;36m<module>\u001b[0;34m\u001b[0m\n\u001b[0;32m----> 1\u001b[0;31m \u001b[0mmy_tuple\u001b[0m\u001b[0;34m.\u001b[0m\u001b[0mappend\u001b[0m\u001b[0;34m(\u001b[0m\u001b[0;34m\"I'm a new value!\"\u001b[0m\u001b[0;34m)\u001b[0m\u001b[0;34m\u001b[0m\u001b[0;34m\u001b[0m\u001b[0m\n\u001b[0m",
      "\u001b[0;31mAttributeError\u001b[0m: 'tuple' object has no attribute 'append'"
     ]
    }
   ],
   "source": [
    "my_tuple.append(\"I'm a new value!\")"
   ]
  },
  {
   "cell_type": "code",
   "execution_count": 42,
   "metadata": {},
   "outputs": [
    {
     "ename": "TypeError",
     "evalue": "'tuple' object does not support item assignment",
     "output_type": "error",
     "traceback": [
      "\u001b[0;31m---------------------------------------------------------------------------\u001b[0m",
      "\u001b[0;31mTypeError\u001b[0m                                 Traceback (most recent call last)",
      "\u001b[0;32m<ipython-input-42-53e4ec9ad297>\u001b[0m in \u001b[0;36m<module>\u001b[0;34m\u001b[0m\n\u001b[0;32m----> 1\u001b[0;31m \u001b[0mmy_tuple\u001b[0m\u001b[0;34m[\u001b[0m\u001b[0;36m0\u001b[0m\u001b[0;34m]\u001b[0m \u001b[0;34m=\u001b[0m \u001b[0;34m\"I'm a changed value!\"\u001b[0m\u001b[0;34m\u001b[0m\u001b[0;34m\u001b[0m\u001b[0m\n\u001b[0m",
      "\u001b[0;31mTypeError\u001b[0m: 'tuple' object does not support item assignment"
     ]
    }
   ],
   "source": [
    "my_tuple[0] = \"I'm a changed value!\""
   ]
  },
  {
   "cell_type": "markdown",
   "metadata": {},
   "source": [
    "Lists and tuples can be nested to create *multi-dimensional* objects."
   ]
  },
  {
   "cell_type": "code",
   "execution_count": 51,
   "metadata": {},
   "outputs": [
    {
     "name": "stdout",
     "output_type": "stream",
     "text": [
      "((1, 2, 3, 4), (5, 6, 7, 8))\n",
      "[(1, 2, 3, 4), (5, 6, 7, 8)]\n"
     ]
    }
   ],
   "source": [
    "tuple_1 = (1, 2, 3, 4)\n",
    "tuple_2 = (5, 6, 7, 8)\n",
    "\n",
    "tuple_of_tuples = (tuple_1, tuple_2)\n",
    "print(tuple_of_tuples)\n",
    "\n",
    "list_of_tuples = [tuple_1, tuple_2]\n",
    "print(list_of_tuples)"
   ]
  },
  {
   "cell_type": "markdown",
   "metadata": {},
   "source": [
    "There are many other features in the language that we are not covering here. "
   ]
  },
  {
   "cell_type": "code",
   "execution_count": 55,
   "metadata": {},
   "outputs": [
    {
     "name": "stdout",
     "output_type": "stream",
     "text": [
      "(1, 2, 3, 4, 5, 6, 7, 8)\n"
     ]
    }
   ],
   "source": [
    "big_tuple = ( *tuple_1, *tuple_2 )\n",
    "print(big_tuple)"
   ]
  },
  {
   "cell_type": "markdown",
   "metadata": {},
   "source": [
    "### Q3"
   ]
  },
  {
   "cell_type": "markdown",
   "metadata": {},
   "source": [
    "What is the difference between `tuple_of_tuples` and `big_tuple` above?"
   ]
  },
  {
   "cell_type": "markdown",
   "metadata": {},
   "source": [
    "### Q4"
   ]
  },
  {
   "cell_type": "markdown",
   "metadata": {},
   "source": [
    "Once created, a tuple cannot be changed. How do you explain what is happening in the following code?"
   ]
  },
  {
   "cell_type": "code",
   "execution_count": 58,
   "metadata": {},
   "outputs": [
    {
     "name": "stdout",
     "output_type": "stream",
     "text": [
      "('I', 'cannot', 'be', 'changed')\n",
      "('I', 'can', 'be', 'changed')\n"
     ]
    }
   ],
   "source": [
    "an_imutable_tuple = ('I', 'cannot', 'be', 'changed')\n",
    "print(an_imutable_tuple)\n",
    "an_imutable_tuple = ('I', 'can', 'be', 'changed')\n",
    "print(an_imutable_tuple)"
   ]
  },
  {
   "cell_type": "markdown",
   "metadata": {},
   "source": [
    "# Dictionaries"
   ]
  },
  {
   "cell_type": "markdown",
   "metadata": {},
   "source": [
    "While lists and tuples are indexed by numbers beginning at 0, dictionaries are \"indexed\" by custom objects called *keys*. Dictionaries are a collection of key-value pairs."
   ]
  },
  {
   "cell_type": "code",
   "execution_count": 60,
   "metadata": {},
   "outputs": [
    {
     "name": "stdout",
     "output_type": "stream",
     "text": [
      "dict_keys(['key1', 7])\n",
      "dict_values(['value 1', 'the value associated with the key 7'])\n",
      "value 1\n"
     ]
    }
   ],
   "source": [
    "my_dict = {'key1': 'value 1', 7: 'the value associated with the key 7'}\n",
    "print(my_dict.keys())\n",
    "print(my_dict.values())\n",
    "print( my_dict['key1'] )"
   ]
  },
  {
   "cell_type": "markdown",
   "metadata": {},
   "source": [
    "A dictionary can contain any object as a *value*, but not all objects can be keys. Keys can be strings, numbers, tuples, and other things. Lists cannot be keys to a dictionary. People commonly use numbers, strings, and tuples for dicionary keys."
   ]
  },
  {
   "cell_type": "code",
   "execution_count": 73,
   "metadata": {},
   "outputs": [],
   "source": [
    "my_dict = {}\n",
    "my_dict['key1'] = 'Hello there!'\n",
    "my_dict[57] = ['I', 'am', 'a', 'list', 'and', 'my', 'key', 'is', 'the', 'number', '57.']\n",
    "my_dict[(\"I'm\", 'a', 'tuple', 'and', 'a', 'key.')] = 'My key is a tuple!!!'"
   ]
  },
  {
   "cell_type": "code",
   "execution_count": 74,
   "metadata": {},
   "outputs": [
    {
     "ename": "TypeError",
     "evalue": "unhashable type: 'list'",
     "output_type": "error",
     "traceback": [
      "\u001b[0;31m---------------------------------------------------------------------------\u001b[0m",
      "\u001b[0;31mTypeError\u001b[0m                                 Traceback (most recent call last)",
      "\u001b[0;32m<ipython-input-74-d91f3ea1943a>\u001b[0m in \u001b[0;36m<module>\u001b[0;34m\u001b[0m\n\u001b[0;32m----> 1\u001b[0;31m \u001b[0mmy_dict\u001b[0m\u001b[0;34m[\u001b[0m \u001b[0;34m[\u001b[0m\u001b[0;34m'bad'\u001b[0m\u001b[0;34m,\u001b[0m \u001b[0;34m'key'\u001b[0m\u001b[0;34m]\u001b[0m \u001b[0;34m]\u001b[0m \u001b[0;34m=\u001b[0m \u001b[0;34m'I will give an error because lists cannot be keys.'\u001b[0m\u001b[0;34m\u001b[0m\u001b[0;34m\u001b[0m\u001b[0m\n\u001b[0m",
      "\u001b[0;31mTypeError\u001b[0m: unhashable type: 'list'"
     ]
    }
   ],
   "source": [
    "my_dict[ ['bad', 'key'] ] = 'I will give an error because lists cannot be keys.'"
   ]
  },
  {
   "cell_type": "markdown",
   "metadata": {},
   "source": [
    "# Sets"
   ]
  },
  {
   "cell_type": "markdown",
   "metadata": {},
   "source": [
    "Sets in Python are very similar to mathematical sets, and are not used very commonly (I have never seen on used in my field). They only contain objects, and have no notion of position or repeated items. If redundant items are added to a set, they are ignored."
   ]
  },
  {
   "cell_type": "code",
   "execution_count": 80,
   "metadata": {},
   "outputs": [
    {
     "name": "stdout",
     "output_type": "stream",
     "text": [
      "3\n"
     ]
    }
   ],
   "source": [
    "my_set = {'Hello world!', '57', 57, 57, 'Hello world!'}\n",
    "print( len(my_set) )"
   ]
  },
  {
   "cell_type": "markdown",
   "metadata": {},
   "source": [
    "### Q5"
   ]
  },
  {
   "cell_type": "markdown",
   "metadata": {},
   "source": [
    "How many times will `57` be printed in the following code? Why?"
   ]
  },
  {
   "cell_type": "code",
   "execution_count": 83,
   "metadata": {},
   "outputs": [
    {
     "name": "stdout",
     "output_type": "stream",
     "text": [
      "57\n",
      "Hello world!\n",
      "57\n"
     ]
    }
   ],
   "source": [
    "for item in my_set:\n",
    "    print(item)"
   ]
  },
  {
   "cell_type": "markdown",
   "metadata": {},
   "source": [
    "# Comprehensions"
   ]
  },
  {
   "cell_type": "markdown",
   "metadata": {},
   "source": [
    "Python has a syntax called a *comprehension* that makes it easy to create new lists and tuples from other lists and tuples."
   ]
  },
  {
   "cell_type": "code",
   "execution_count": 92,
   "metadata": {},
   "outputs": [
    {
     "name": "stdout",
     "output_type": "stream",
     "text": [
      "[10, 34, 5.0]\n",
      "['Allison Liu', 'Stephen Becker', 'Sage Shaw']\n"
     ]
    }
   ],
   "source": [
    "some_numbers = (5, 17, 2.5)\n",
    "doubled = [2*number for number in some_numbers] #double each number - note the new container is a list, not a tuple.\n",
    "print(doubled)\n",
    "\n",
    "first_names = ['Allison', 'Stephen', 'Sage']\n",
    "last_names = ['Liu', 'Becker', 'Shaw']\n",
    "\n",
    "full_names = [first + ' ' + last for first, last in zip(first_names, last_names)] #combine the first names and last names\n",
    "print(full_names)\n",
    "\n"
   ]
  },
  {
   "cell_type": "markdown",
   "metadata": {},
   "source": [
    "### Q6"
   ]
  },
  {
   "cell_type": "markdown",
   "metadata": {},
   "source": [
    "The list below contains measurements in grams. Create a new list with the same measurements in kilograms. (1000g = 1kg)"
   ]
  },
  {
   "cell_type": "code",
   "execution_count": 94,
   "metadata": {},
   "outputs": [],
   "source": [
    "mass_measurments_in_grams = [\n",
    "    157.5,\n",
    "    1.01,\n",
    "    158194,\n",
    "    2000\n",
    "]"
   ]
  },
  {
   "cell_type": "markdown",
   "metadata": {},
   "source": [
    "The result should be: [0.1575, 0.00101, 158.194, 2.0]"
   ]
  },
  {
   "cell_type": "markdown",
   "metadata": {},
   "source": [
    "# Numpy Arrays"
   ]
  },
  {
   "cell_type": "markdown",
   "metadata": {},
   "source": [
    "Pure Python is generally considered to be slow in the scientific community. It is not uncommon for a program written in C or C++ to run 100x faster than a program written in pure Python. It generally takes much longer to write a working program in C or C++ though, so there is a trade off. NumPy (a portmanteau of \"Numeric\" and \"Python\") is a Python package that allows for much faster computation, but only for *homogeneous* data-types. Since numpy is a package, it must be imported before it can be used."
   ]
  },
  {
   "cell_type": "code",
   "execution_count": 110,
   "metadata": {},
   "outputs": [],
   "source": [
    "import numpy as np"
   ]
  },
  {
   "cell_type": "markdown",
   "metadata": {},
   "source": [
    "Numpy arrays are collections of objects of the same data-type."
   ]
  },
  {
   "cell_type": "code",
   "execution_count": 111,
   "metadata": {},
   "outputs": [],
   "source": [
    "my_array = np.array( [1, 5, -3, 7.2] )"
   ]
  },
  {
   "cell_type": "markdown",
   "metadata": {},
   "source": [
    "Numpy arrays support broadcasting."
   ]
  },
  {
   "cell_type": "code",
   "execution_count": 112,
   "metadata": {},
   "outputs": [
    {
     "data": {
      "text/plain": [
       "array([ 5. , 13. , -3. , 17.4])"
      ]
     },
     "execution_count": 112,
     "metadata": {},
     "output_type": "execute_result"
    }
   ],
   "source": [
    "2*my_array + 3"
   ]
  },
  {
   "cell_type": "markdown",
   "metadata": {},
   "source": [
    "Lists do not support broadcasting. You must use list comprehensions to get similar behavior."
   ]
  },
  {
   "cell_type": "code",
   "execution_count": 114,
   "metadata": {},
   "outputs": [
    {
     "ename": "TypeError",
     "evalue": "can only concatenate list (not \"int\") to list",
     "output_type": "error",
     "traceback": [
      "\u001b[0;31m---------------------------------------------------------------------------\u001b[0m",
      "\u001b[0;31mTypeError\u001b[0m                                 Traceback (most recent call last)",
      "\u001b[0;32m<ipython-input-114-0d9b54bdc3ff>\u001b[0m in \u001b[0;36m<module>\u001b[0;34m\u001b[0m\n\u001b[1;32m      1\u001b[0m \u001b[0mmy_list\u001b[0m \u001b[0;34m=\u001b[0m \u001b[0;34m[\u001b[0m\u001b[0;36m1\u001b[0m\u001b[0;34m,\u001b[0m \u001b[0;36m5\u001b[0m\u001b[0;34m,\u001b[0m \u001b[0;34m-\u001b[0m\u001b[0;36m3\u001b[0m\u001b[0;34m,\u001b[0m \u001b[0;36m7.2\u001b[0m\u001b[0;34m]\u001b[0m\u001b[0;34m\u001b[0m\u001b[0;34m\u001b[0m\u001b[0m\n\u001b[0;32m----> 2\u001b[0;31m \u001b[0;36m2\u001b[0m\u001b[0;34m*\u001b[0m\u001b[0mmy_list\u001b[0m \u001b[0;34m+\u001b[0m \u001b[0;36m3\u001b[0m\u001b[0;34m\u001b[0m\u001b[0;34m\u001b[0m\u001b[0m\n\u001b[0m",
      "\u001b[0;31mTypeError\u001b[0m: can only concatenate list (not \"int\") to list"
     ]
    }
   ],
   "source": [
    "my_list = [1, 5, -3, 7.2]\n",
    "2*my_list + 3"
   ]
  }
 ],
 "metadata": {
  "kernelspec": {
   "display_name": "Python 3",
   "language": "python",
   "name": "python3"
  },
  "language_info": {
   "codemirror_mode": {
    "name": "ipython",
    "version": 3
   },
   "file_extension": ".py",
   "mimetype": "text/x-python",
   "name": "python",
   "nbconvert_exporter": "python",
   "pygments_lexer": "ipython3",
   "version": "3.6.9"
  }
 },
 "nbformat": 4,
 "nbformat_minor": 4
}
